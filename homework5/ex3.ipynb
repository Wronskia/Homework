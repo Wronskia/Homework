{
 "cells": [
  {
   "cell_type": "code",
   "execution_count": 2,
   "metadata": {
    "collapsed": false
   },
   "outputs": [],
   "source": [
    "import gensim\n",
    "from nltk.sentiment.vader import SentimentIntensityAnalyzer\n",
    "from nltk.sentiment.util import *\n",
    "from nltk.sentiment import SentimentIntensityAnalyzer\n",
    "from nltk.corpus import words\n",
    "from nltk.corpus import wordnet\n",
    "import nltk\n",
    "import pandas as pd\n",
    "import re\n",
    "from nltk.corpus import stopwords\n",
    "from nltk.tokenize import sent_tokenize, word_tokenize\n",
    "import matplotlib.pyplot as plt"
   ]
  },
  {
   "cell_type": "markdown",
   "metadata": {},
   "source": [
    "- After loading the data, we clean it"
   ]
  },
  {
   "cell_type": "code",
   "execution_count": 3,
   "metadata": {
    "collapsed": true
   },
   "outputs": [],
   "source": [
    "data=pd.read_csv(\"Emails.csv\")\n",
    "data.fillna(' ',inplace=True)"
   ]
  },
  {
   "cell_type": "code",
   "execution_count": 4,
   "metadata": {
    "collapsed": true
   },
   "outputs": [],
   "source": [
    "raw=data['ExtractedSubject'] + ' ' + data['ExtractedBodyText']"
   ]
  },
  {
   "cell_type": "markdown",
   "metadata": {},
   "source": [
    "### CLEANING"
   ]
  },
  {
   "cell_type": "code",
   "execution_count": 5,
   "metadata": {
    "collapsed": true
   },
   "outputs": [],
   "source": [
    "def removeStopWords(String):\n",
    "    stopwordlist = set(stopwords.words(\"english\"))\n",
    "    toRemove = ['fm','am',\"n't\", 'sent','fyi', 'fw', 'pm', 'fwd', 're','cc', 'attachments', \"rv\", \"al\", \"aq\", \"la\", \"ben\"]\n",
    "    stopwordlist.update(toRemove)  \n",
    "    liste=[word for word in String if word.lower() not in stopwordlist]\n",
    "    return liste\n",
    "def removeChar(string):\n",
    "    return re.sub(\"[^a-zA-Z]+\", \" \", string)\n",
    "def lowerCase(string):\n",
    "    return string.lower()"
   ]
  },
  {
   "cell_type": "code",
   "execution_count": 6,
   "metadata": {
    "collapsed": false
   },
   "outputs": [],
   "source": [
    "i=0\n",
    "for mail in raw:    \n",
    "    cleaned_raw=mail\n",
    "    cleaned_raw=cleaned_raw.lower()\n",
    "    cleaned_raw=nltk.word_tokenize(cleaned_raw)\n",
    "    cleaned_raw=removeStopWords(cleaned_raw)\n",
    "    cleaned_raw=' '.join(cleaned_raw)\n",
    "    cleaned_raw=removeChar(cleaned_raw)\n",
    "    cleaned_raw=[token for token in cleaned_raw.split() if len(token)>1]\n",
    "    raw[i]= cleaned_raw\n",
    "    i+=1"
   ]
  },
  {
   "cell_type": "markdown",
   "metadata": {},
   "source": [
    "- We define a dictionary which associate an index to every word\n",
    "- We also define the corpus in which we will do our analysis"
   ]
  },
  {
   "cell_type": "code",
   "execution_count": 8,
   "metadata": {
    "collapsed": false
   },
   "outputs": [],
   "source": [
    "dictionary = gensim.corpora.Dictionary(raw)"
   ]
  },
  {
   "cell_type": "code",
   "execution_count": 9,
   "metadata": {
    "collapsed": false
   },
   "outputs": [],
   "source": [
    "corpus = [dictionary.doc2bow(token) for token in raw]"
   ]
  },
  {
   "cell_type": "markdown",
   "metadata": {},
   "source": [
    "- Using the gensim library, we define the latant dirichlet model"
   ]
  },
  {
   "cell_type": "code",
   "execution_count": 20,
   "metadata": {
    "collapsed": false
   },
   "outputs": [
    {
     "name": "stdout",
     "output_type": "stream",
     "text": [
      "------------------------------------ 5 topics ------------------------------------\n",
      "---------------------------------------------------------------------------------------\n",
      "[(0, '0.005*\"women\" + 0.005*\"would\" + 0.004*\"said\" + 0.003*\"us\" + 0.003*\"time\" + 0.003*\"speech\" + 0.003*\"could\" + 0.003*\"also\" + 0.003*\"new\" + 0.003*\"work\"'), (1, '0.006*\"obama\" + 0.005*\"state\" + 0.005*\"would\" + 0.005*\"new\" + 0.004*\"one\" + 0.004*\"israel\" + 0.004*\"american\" + 0.004*\"said\" + 0.003*\"president\" + 0.003*\"government\"'), (2, '0.024*\"secretary\" + 0.024*\"office\" + 0.013*\"state\" + 0.013*\"meeting\" + 0.010*\"room\" + 0.009*\"department\" + 0.007*\"house\" + 0.007*\"arrive\" + 0.007*\"route\" + 0.007*\"en\"'), (3, '0.005*\"would\" + 0.004*\"call\" + 0.004*\"one\" + 0.003*\"new\" + 0.003*\"said\" + 0.003*\"also\" + 0.003*\"us\" + 0.003*\"president\" + 0.003*\"people\" + 0.003*\"obama\"'), (4, '0.012*\"call\" + 0.008*\"state\" + 0.008*\"gov\" + 0.005*\"get\" + 0.005*\"today\" + 0.005*\"see\" + 0.004*\"know\" + 0.004*\"would\" + 0.004*\"good\" + 0.004*\"cheryl\"')]\n"
     ]
    }
   ],
   "source": [
    "topic=[5,10,20,30,40,50]\n",
    "topic=[5]\n",
    "for i in topic:\n",
    "    model = gensim.models.ldamodel.LdaModel(corpus, num_topics=i, id2word=dictionary)\n",
    "    print(\"------------------------------------\",i, \"topics \"'------------------------------------')\n",
    "    print(\"---------------------------------------------------------------------------------------\")\n",
    "    # arranger l'affichage print(' '.join([w for w, _ in model.show_topic(num_topics=1)]))\n",
    "    # https://github.com/fdevillard/ada-homeworks/blob/master/05%20-%20Taming%20Text/HW5.ipynb\n",
    "    print(model.show_topics(num_topics=i))"
   ]
  },
  {
   "cell_type": "code",
   "execution_count": null,
   "metadata": {
    "collapsed": true
   },
   "outputs": [],
   "source": []
  }
 ],
 "metadata": {
  "kernelspec": {
   "display_name": "Python 3",
   "language": "python",
   "name": "python3"
  },
  "language_info": {
   "codemirror_mode": {
    "name": "ipython",
    "version": 3
   },
   "file_extension": ".py",
   "mimetype": "text/x-python",
   "name": "python",
   "nbconvert_exporter": "python",
   "pygments_lexer": "ipython3",
   "version": "3.5.2"
  }
 },
 "nbformat": 4,
 "nbformat_minor": 1
}

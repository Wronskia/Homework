{
 "cells": [
  {
   "cell_type": "code",
   "execution_count": 1,
   "metadata": {
    "collapsed": false
   },
   "outputs": [
    {
     "name": "stderr",
     "output_type": "stream",
     "text": [
      "/Library/Frameworks/Python.framework/Versions/3.5/lib/python3.5/site-packages/gensim/utils.py:1015: UserWarning: Pattern library is not installed, lemmatization won't be available.\n",
      "  warnings.warn(\"Pattern library is not installed, lemmatization won't be available.\")\n"
     ]
    }
   ],
   "source": [
    "import gensim\n",
    "from nltk.sentiment.vader import SentimentIntensityAnalyzer\n",
    "from nltk.sentiment.util import *\n",
    "from nltk.sentiment import SentimentIntensityAnalyzer\n",
    "from nltk.corpus import words\n",
    "from nltk.corpus import wordnet\n",
    "import nltk\n",
    "import pandas as pd\n",
    "import re\n",
    "from nltk.corpus import stopwords\n",
    "from nltk.tokenize import sent_tokenize, word_tokenize\n",
    "import matplotlib.pyplot as plt"
   ]
  },
  {
   "cell_type": "markdown",
   "metadata": {},
   "source": [
    "- After loading the data, we clean it"
   ]
  },
  {
   "cell_type": "code",
   "execution_count": 2,
   "metadata": {
    "collapsed": true
   },
   "outputs": [],
   "source": [
    "data=pd.read_csv(\"Emails.csv\")\n",
    "data.fillna(' ',inplace=True)"
   ]
  },
  {
   "cell_type": "code",
   "execution_count": 3,
   "metadata": {
    "collapsed": true
   },
   "outputs": [],
   "source": [
    "raw=data['ExtractedSubject'] + ' ' + data['ExtractedBodyText']"
   ]
  },
  {
   "cell_type": "markdown",
   "metadata": {},
   "source": [
    "### CLEANING"
   ]
  },
  {
   "cell_type": "code",
   "execution_count": 4,
   "metadata": {
    "collapsed": true
   },
   "outputs": [],
   "source": [
    "def removeStopWords(String):\n",
    "    stopwordlist = set(stopwords.words(\"english\"))\n",
    "    toRemove = ['fm','am',\"n't\", 'sent', 'fw', 'pm', 'fwd', 're','cc', 'attachments', \"rv\", \"al\", \"aq\", \"la\", \"ben\"]\n",
    "    stopwordlist.update(toRemove)  \n",
    "    liste=[word for word in String if word.lower() not in stopwordlist]\n",
    "    return liste\n",
    "\n",
    "def removeChar(string):\n",
    "    return re.sub(\"[^a-zA-Z]+\", \" \", string)\n",
    "\n",
    "def lowerCase(string):\n",
    "    return string.lower()"
   ]
  },
  {
   "cell_type": "code",
   "execution_count": 5,
   "metadata": {
    "collapsed": false
   },
   "outputs": [],
   "source": [
    "i=0\n",
    "for mail in raw:    \n",
    "    cleaned_raw=mail\n",
    "    cleaned_raw=lowerCase(cleaned_raw)\n",
    "    cleaned_raw=nltk.word_tokenize(cleaned_raw)\n",
    "    cleaned_raw=removeStopWords(cleaned_raw)\n",
    "    cleaned_raw=' '.join(cleaned_raw)\n",
    "    cleaned_raw=removeChar(cleaned_raw)\n",
    "    cleaned_raw=[token for token in cleaned_raw.split() if len(token)>1]\n",
    "    raw[i]=cleaned_raw\n",
    "    i+=1"
   ]
  },
  {
   "cell_type": "code",
   "execution_count": 7,
   "metadata": {
    "collapsed": false
   },
   "outputs": [
    {
     "data": {
      "text/plain": [
       "['hrod',\n",
       " 'clintonemail',\n",
       " 'com',\n",
       " 'thursday',\n",
       " 'october',\n",
       " 'pverveer',\n",
       " 'bravo',\n",
       " 'many',\n",
       " 'miles',\n",
       " 'go',\n",
       " 'thx',\n",
       " 'much',\n",
       " 'back',\n",
       " 'next',\n",
       " 'week']"
      ]
     },
     "execution_count": 7,
     "metadata": {},
     "output_type": "execute_result"
    }
   ],
   "source": [
    "raw[1006]"
   ]
  },
  {
   "cell_type": "markdown",
   "metadata": {},
   "source": [
    "- We define a dictionary which associate an index to every word\n",
    "- We also define the corpus in which we will do our analysis"
   ]
  },
  {
   "cell_type": "code",
   "execution_count": 8,
   "metadata": {
    "collapsed": false
   },
   "outputs": [],
   "source": [
    "dictionary = gensim.corpora.Dictionary(raw)"
   ]
  },
  {
   "cell_type": "code",
   "execution_count": 9,
   "metadata": {
    "collapsed": false
   },
   "outputs": [],
   "source": [
    "corpus = [dictionary.doc2bow(token) for token in raw]"
   ]
  },
  {
   "cell_type": "markdown",
   "metadata": {},
   "source": [
    "- Using the gensim library, we define the latant dirichlet model"
   ]
  },
  {
   "cell_type": "code",
   "execution_count": 10,
   "metadata": {
    "collapsed": false
   },
   "outputs": [
    {
     "name": "stdout",
     "output_type": "stream",
     "text": [
      "------------------------------------ 5 topics ------------------------------------\n",
      "---------------------------------------------------------------------------------------\n",
      "[(0, '0.007*\"obama\" + 0.006*\"would\" + 0.005*\"said\" + 0.005*\"one\" + 0.004*\"new\" + 0.004*\"israel\" + 0.004*\"party\" + 0.003*\"us\" + 0.003*\"government\" + 0.003*\"american\"'), (1, '0.007*\"call\" + 0.005*\"ap\" + 0.004*\"see\" + 0.004*\"vote\" + 0.004*\"also\" + 0.004*\"part\" + 0.003*\"pls\" + 0.003*\"get\" + 0.003*\"would\" + 0.003*\"office\"'), (2, '0.008*\"fyi\" + 0.006*\"state\" + 0.004*\"think\" + 0.004*\"work\" + 0.004*\"report\" + 0.003*\"good\" + 0.003*\"see\" + 0.003*\"president\" + 0.003*\"new\" + 0.003*\"us\"'), (3, '0.020*\"state\" + 0.019*\"call\" + 0.014*\"gov\" + 0.007*\"talk\" + 0.006*\"ok\" + 0.006*\"tomorrow\" + 0.005*\"secretary\" + 0.005*\"com\" + 0.005*\"today\" + 0.005*\"clintonemail\"'), (4, '0.010*\"secretary\" + 0.009*\"office\" + 0.006*\"state\" + 0.005*\"meeting\" + 0.005*\"time\" + 0.005*\"president\" + 0.004*\"room\" + 0.004*\"department\" + 0.004*\"new\" + 0.003*\"private\"')]\n",
      "------------------------------------ 10 topics ------------------------------------\n",
      "---------------------------------------------------------------------------------------\n",
      "[(0, '0.006*\"new\" + 0.005*\"back\" + 0.005*\"tomorrow\" + 0.004*\"get\" + 0.004*\"also\" + 0.004*\"like\" + 0.004*\"called\" + 0.004*\"time\" + 0.004*\"said\" + 0.004*\"would\"'), (1, '0.006*\"would\" + 0.005*\"president\" + 0.004*\"obama\" + 0.004*\"new\" + 0.004*\"state\" + 0.004*\"said\" + 0.004*\"mr\" + 0.003*\"us\" + 0.003*\"support\" + 0.003*\"people\"'), (2, '0.006*\"said\" + 0.005*\"one\" + 0.005*\"obama\" + 0.004*\"would\" + 0.004*\"clinton\" + 0.004*\"american\" + 0.003*\"government\" + 0.003*\"people\" + 0.003*\"president\" + 0.003*\"new\"'), (3, '0.026*\"office\" + 0.024*\"secretary\" + 0.014*\"meeting\" + 0.014*\"state\" + 0.013*\"room\" + 0.012*\"israeli\" + 0.012*\"department\" + 0.010*\"israel\" + 0.010*\"arrive\" + 0.010*\"en\"'), (4, '0.005*\"fyi\" + 0.005*\"haiti\" + 0.005*\"would\" + 0.004*\"speech\" + 0.004*\"percent\" + 0.004*\"poll\" + 0.004*\"also\" + 0.004*\"us\" + 0.004*\"message\" + 0.004*\"obama\"'), (5, '0.009*\"reuters\" + 0.006*\"sid\" + 0.006*\"president\" + 0.005*\"obama\" + 0.005*\"fyi\" + 0.004*\"state\" + 0.004*\"one\" + 0.004*\"says\" + 0.003*\"said\" + 0.003*\"new\"'), (6, '0.010*\"party\" + 0.004*\"right\" + 0.004*\"labour\" + 0.004*\"new\" + 0.004*\"would\" + 0.004*\"deal\" + 0.004*\"obama\" + 0.003*\"see\" + 0.003*\"state\" + 0.003*\"one\"'), (7, '0.015*\"state\" + 0.009*\"gov\" + 0.008*\"talk\" + 0.007*\"call\" + 0.007*\"huma\" + 0.007*\"schedule\" + 0.006*\"cheryl\" + 0.006*\"would\" + 0.006*\"see\" + 0.005*\"mills\"'), (8, '0.016*\"state\" + 0.016*\"call\" + 0.012*\"gov\" + 0.006*\"get\" + 0.005*\"pls\" + 0.005*\"see\" + 0.005*\"secretary\" + 0.005*\"know\" + 0.005*\"today\" + 0.005*\"work\"'), (9, '0.008*\"office\" + 0.007*\"secretary\" + 0.006*\"call\" + 0.006*\"meeting\" + 0.005*\"time\" + 0.005*\"state\" + 0.004*\"pm\" + 0.004*\"tomorrow\" + 0.004*\"germany\" + 0.004*\"said\"')]\n",
      "------------------------------------ 20 topics ------------------------------------\n",
      "---------------------------------------------------------------------------------------\n",
      "[(0, '0.016*\"afghan\" + 0.010*\"talks\" + 0.010*\"reuters\" + 0.005*\"opinion\" + 0.005*\"karzai\" + 0.004*\"clips\" + 0.004*\"two\" + 0.004*\"unfavorable\" + 0.004*\"candidates\" + 0.004*\"democrat\"'), (1, '0.012*\"tea\" + 0.012*\"ap\" + 0.009*\"new\" + 0.006*\"clinton\" + 0.005*\"obama\" + 0.004*\"said\" + 0.004*\"senate\" + 0.004*\"mayor\" + 0.004*\"foreign\" + 0.004*\"beck\"'), (2, '0.019*\"percent\" + 0.011*\"labour\" + 0.009*\"poll\" + 0.008*\"state\" + 0.007*\"party\" + 0.006*\"care\" + 0.006*\"huma\" + 0.006*\"abedin\" + 0.005*\"gov\" + 0.005*\"fyi\"'), (3, '0.011*\"would\" + 0.009*\"obama\" + 0.009*\"boehner\" + 0.008*\"republican\" + 0.008*\"democrats\" + 0.007*\"said\" + 0.007*\"vote\" + 0.006*\"senate\" + 0.006*\"president\" + 0.005*\"health\"'), (4, '0.005*\"cameron\" + 0.005*\"new\" + 0.005*\"right\" + 0.005*\"think\" + 0.005*\"david\" + 0.005*\"us\" + 0.004*\"uk\" + 0.004*\"books\" + 0.004*\"alexander\" + 0.004*\"one\"'), (5, '0.022*\"state\" + 0.008*\"favorable\" + 0.007*\"gov\" + 0.006*\"house\" + 0.006*\"department\" + 0.006*\"part\" + 0.005*\"said\" + 0.005*\"fyi\" + 0.004*\"cheryl\" + 0.004*\"mills\"'), (6, '0.007*\"said\" + 0.006*\"obama\" + 0.005*\"would\" + 0.005*\"american\" + 0.005*\"government\" + 0.004*\"one\" + 0.004*\"president\" + 0.004*\"people\" + 0.004*\"party\" + 0.003*\"right\"'), (7, '0.008*\"schedule\" + 0.007*\"get\" + 0.007*\"fyi\" + 0.007*\"state\" + 0.007*\"russia\" + 0.006*\"marie\" + 0.006*\"start\" + 0.006*\"anne\" + 0.006*\"email\" + 0.005*\"ll\"'), (8, '0.007*\"qddr\" + 0.005*\"india\" + 0.005*\"work\" + 0.005*\"see\" + 0.004*\"gender\" + 0.004*\"issues\" + 0.004*\"diplomacy\" + 0.004*\"state\" + 0.004*\"think\" + 0.004*\"women\"'), (9, '0.012*\"netanyahu\" + 0.008*\"time\" + 0.008*\"white\" + 0.007*\"house\" + 0.007*\"secretary\" + 0.007*\"pm\" + 0.007*\"office\" + 0.007*\"meeting\" + 0.005*\"call\" + 0.005*\"talks\"'), (10, '0.012*\"print\" + 0.009*\"speech\" + 0.007*\"pls\" + 0.007*\"letter\" + 0.006*\"branch\" + 0.006*\"sid\" + 0.005*\"new\" + 0.005*\"asking\" + 0.005*\"bill\" + 0.005*\"know\"'), (11, '0.008*\"haiti\" + 0.007*\"us\" + 0.007*\"fyi\" + 0.006*\"women\" + 0.005*\"good\" + 0.005*\"germany\" + 0.005*\"na\" + 0.004*\"new\" + 0.004*\"like\" + 0.004*\"statement\"'), (12, '0.020*\"state\" + 0.017*\"office\" + 0.016*\"gov\" + 0.011*\"sullivan\" + 0.010*\"secretary\" + 0.010*\"palestinians\" + 0.009*\"israeli\" + 0.008*\"jacob\" + 0.007*\"sullivanjj\" + 0.006*\"palestinian\"'), (13, '0.052*\"call\" + 0.018*\"tomorrow\" + 0.012*\"talk\" + 0.012*\"ok\" + 0.011*\"today\" + 0.010*\"yes\" + 0.009*\"fyi\" + 0.008*\"want\" + 0.008*\"know\" + 0.007*\"get\"'), (14, '0.013*\"israeli\" + 0.012*\"israel\" + 0.007*\"settlement\" + 0.005*\"settlements\" + 0.005*\"palestinian\" + 0.004*\"would\" + 0.003*\"question\" + 0.003*\"biden\" + 0.003*\"nazi\" + 0.003*\"jewish\"'), (15, '0.046*\"secretary\" + 0.040*\"office\" + 0.032*\"state\" + 0.023*\"meeting\" + 0.021*\"room\" + 0.019*\"department\" + 0.017*\"arrive\" + 0.016*\"route\" + 0.016*\"en\" + 0.016*\"depart\"'), (16, '0.007*\"women\" + 0.007*\"would\" + 0.006*\"china\" + 0.006*\"one\" + 0.006*\"us\" + 0.005*\"world\" + 0.005*\"political\" + 0.004*\"united\" + 0.004*\"president\" + 0.004*\"states\"'), (17, '0.013*\"state\" + 0.008*\"gov\" + 0.007*\"cheryl\" + 0.006*\"thank\" + 0.006*\"ashton\" + 0.005*\"fyi\" + 0.005*\"know\" + 0.005*\"call\" + 0.005*\"mills\" + 0.005*\"com\"'), (18, '0.006*\"obama\" + 0.006*\"election\" + 0.006*\"voters\" + 0.005*\"one\" + 0.005*\"president\" + 0.005*\"mr\" + 0.005*\"party\" + 0.005*\"new\" + 0.005*\"would\" + 0.004*\"said\"'), (19, '0.013*\"state\" + 0.011*\"gov\" + 0.010*\"com\" + 0.009*\"clintonemail\" + 0.007*\"hrod\" + 0.006*\"monday\" + 0.006*\"message\" + 0.006*\"would\" + 0.005*\"call\" + 0.004*\"mail\"')]\n",
      "------------------------------------ 30 topics ------------------------------------\n",
      "---------------------------------------------------------------------------------------\n",
      "[(0, '0.016*\"palestinians\" + 0.009*\"gender\" + 0.007*\"state\" + 0.006*\"nazi\" + 0.005*\"palestinian\" + 0.005*\"would\" + 0.005*\"dialogue\" + 0.004*\"dollar\" + 0.004*\"kurdistan\" + 0.004*\"activists\"'), (1, '0.007*\"american\" + 0.007*\"iran\" + 0.007*\"obama\" + 0.005*\"new\" + 0.005*\"diplomacy\" + 0.004*\"one\" + 0.004*\"president\" + 0.004*\"iranian\" + 0.004*\"like\" + 0.004*\"state\"'), (2, '0.016*\"netanyahu\" + 0.014*\"israel\" + 0.011*\"company\" + 0.010*\"obama\" + 0.010*\"vote\" + 0.009*\"voters\" + 0.008*\"republican\" + 0.006*\"election\" + 0.006*\"conservative\" + 0.005*\"unfavorable\"'), (3, '0.015*\"qddr\" + 0.007*\"would\" + 0.007*\"sanctions\" + 0.006*\"rep\" + 0.006*\"get\" + 0.005*\"brown\" + 0.005*\"opinion\" + 0.005*\"said\" + 0.005*\"vote\" + 0.005*\"obama\"'), (4, '0.008*\"beck\" + 0.007*\"care\" + 0.006*\"health\" + 0.006*\"one\" + 0.005*\"people\" + 0.005*\"year\" + 0.005*\"reform\" + 0.005*\"group\" + 0.004*\"big\" + 0.004*\"think\"'), (5, '0.012*\"party\" + 0.010*\"would\" + 0.008*\"mr\" + 0.006*\"one\" + 0.006*\"said\" + 0.005*\"new\" + 0.005*\"afghan\" + 0.005*\"president\" + 0.004*\"right\" + 0.004*\"women\"'), (6, '0.007*\"israeli\" + 0.006*\"would\" + 0.005*\"government\" + 0.005*\"women\" + 0.005*\"people\" + 0.005*\"american\" + 0.005*\"pakistan\" + 0.004*\"security\" + 0.004*\"state\" + 0.004*\"world\"'), (7, '0.015*\"york\" + 0.013*\"national\" + 0.012*\"airport\" + 0.011*\"new\" + 0.010*\"meeting\" + 0.010*\"office\" + 0.009*\"secretary\" + 0.007*\"chicago\" + 0.007*\"turkey\" + 0.007*\"reagan\"'), (8, '0.019*\"mcchrystal\" + 0.013*\"israel\" + 0.010*\"jewish\" + 0.009*\"jerusalem\" + 0.007*\"one\" + 0.007*\"israelis\" + 0.006*\"obama\" + 0.005*\"new\" + 0.005*\"jews\" + 0.005*\"settlements\"'), (9, '0.023*\"speech\" + 0.016*\"yes\" + 0.013*\"january\" + 0.010*\"lona\" + 0.010*\"state\" + 0.009*\"tomorrow\" + 0.009*\"thx\" + 0.009*\"richards\" + 0.009*\"travel\" + 0.008*\"fyi\"'), (10, '0.007*\"would\" + 0.006*\"try\" + 0.006*\"discuss\" + 0.005*\"speech\" + 0.005*\"able\" + 0.005*\"polish\" + 0.005*\"fax\" + 0.005*\"wing\" + 0.004*\"minute\" + 0.004*\"shortly\"'), (11, '0.013*\"secretary\" + 0.012*\"minister\" + 0.009*\"treaty\" + 0.009*\"foreign\" + 0.009*\"office\" + 0.009*\"meeting\" + 0.005*\"president\" + 0.005*\"room\" + 0.005*\"dutch\" + 0.004*\"activists\"'), (12, '0.015*\"call\" + 0.011*\"ok\" + 0.009*\"cameron\" + 0.009*\"list\" + 0.008*\"add\" + 0.008*\"media\" + 0.008*\"bomb\" + 0.007*\"pis\" + 0.007*\"coming\" + 0.007*\"star\"'), (13, '0.043*\"state\" + 0.041*\"gov\" + 0.032*\"fyi\" + 0.019*\"cheryl\" + 0.016*\"hrod\" + 0.016*\"mills\" + 0.016*\"clintonemail\" + 0.015*\"com\" + 0.012*\"millscd\" + 0.011*\"update\"'), (14, '0.020*\"boehner\" + 0.006*\"republican\" + 0.006*\"would\" + 0.006*\"house\" + 0.006*\"democrats\" + 0.005*\"obama\" + 0.005*\"speaker\" + 0.005*\"bill\" + 0.005*\"donors\" + 0.004*\"party\"'), (15, '0.016*\"reid\" + 0.015*\"senate\" + 0.011*\"corker\" + 0.010*\"fyi\" + 0.010*\"via\" + 0.009*\"mail\" + 0.008*\"mashabane\" + 0.007*\"blackberry\" + 0.007*\"send\" + 0.006*\"get\"'), (16, '0.008*\"israel\" + 0.006*\"president\" + 0.006*\"ed\" + 0.006*\"obama\" + 0.005*\"new\" + 0.004*\"make\" + 0.004*\"another\" + 0.004*\"street\" + 0.004*\"would\" + 0.004*\"also\"'), (17, '0.010*\"state\" + 0.008*\"federal\" + 0.007*\"white\" + 0.007*\"office\" + 0.006*\"interview\" + 0.005*\"staff\" + 0.005*\"women\" + 0.005*\"house\" + 0.005*\"department\" + 0.005*\"website\"'), (18, '0.011*\"said\" + 0.010*\"obama\" + 0.008*\"clinton\" + 0.006*\"new\" + 0.004*\"david\" + 0.004*\"us\" + 0.004*\"president\" + 0.004*\"american\" + 0.004*\"policy\" + 0.004*\"administration\"'), (19, '0.013*\"un\" + 0.012*\"favorable\" + 0.011*\"gaza\" + 0.008*\"state\" + 0.007*\"mail\" + 0.006*\"bill\" + 0.006*\"received\" + 0.005*\"return\" + 0.005*\"ill\" + 0.005*\"message\"'), (20, '0.023*\"tea\" + 0.013*\"china\" + 0.009*\"call\" + 0.008*\"holbrooke\" + 0.008*\"called\" + 0.005*\"would\" + 0.005*\"also\" + 0.004*\"richard\" + 0.004*\"said\" + 0.004*\"oil\"'), (21, '0.012*\"poll\" + 0.007*\"taliban\" + 0.006*\"israel\" + 0.005*\"robinson\" + 0.005*\"state\" + 0.004*\"approval\" + 0.004*\"woodward\" + 0.004*\"said\" + 0.004*\"dup\" + 0.004*\"us\"'), (22, '0.019*\"ap\" + 0.008*\"nuclear\" + 0.008*\"statement\" + 0.007*\"told\" + 0.006*\"us\" + 0.006*\"would\" + 0.005*\"right\" + 0.005*\"idea\" + 0.005*\"high\" + 0.005*\"says\"'), (23, '0.007*\"thanks\" + 0.006*\"draft\" + 0.006*\"ll\" + 0.006*\"germany\" + 0.006*\"also\" + 0.006*\"see\" + 0.005*\"tomorrow\" + 0.005*\"start\" + 0.005*\"time\" + 0.005*\"com\"'), (24, '0.029*\"state\" + 0.021*\"gov\" + 0.015*\"sullivan\" + 0.014*\"huma\" + 0.011*\"jacob\" + 0.010*\"abedin\" + 0.009*\"release\" + 0.009*\"part\" + 0.009*\"call\" + 0.008*\"cheryl\"'), (25, '0.051*\"office\" + 0.048*\"secretary\" + 0.030*\"state\" + 0.023*\"meeting\" + 0.023*\"room\" + 0.022*\"department\" + 0.018*\"route\" + 0.018*\"en\" + 0.017*\"arrive\" + 0.017*\"depart\"'), (26, '0.027*\"reuters\" + 0.022*\"talk\" + 0.018*\"call\" + 0.012*\"jack\" + 0.010*\"request\" + 0.009*\"asking\" + 0.009*\"good\" + 0.007*\"today\" + 0.007*\"tomorrow\" + 0.007*\"verveer\"'), (27, '0.011*\"buckley\" + 0.009*\"singapore\" + 0.007*\"coll\" + 0.005*\"sid\" + 0.005*\"johnson\" + 0.005*\"parade\" + 0.004*\"church\" + 0.004*\"concert\" + 0.004*\"consulted\" + 0.004*\"china\"'), (28, '0.011*\"eu\" + 0.006*\"madame\" + 0.005*\"bill\" + 0.004*\"position\" + 0.004*\"us\" + 0.004*\"health\" + 0.004*\"pushing\" + 0.003*\"state\" + 0.003*\"robert\" + 0.003*\"also\"'), (29, '0.030*\"call\" + 0.010*\"see\" + 0.010*\"email\" + 0.008*\"need\" + 0.008*\"back\" + 0.007*\"today\" + 0.007*\"know\" + 0.007*\"think\" + 0.006*\"tomorrow\" + 0.006*\"want\"')]\n",
      "------------------------------------ 40 topics ------------------------------------\n",
      "---------------------------------------------------------------------------------------\n",
      "[(0, '0.046*\"state\" + 0.038*\"gov\" + 0.023*\"clintonemail\" + 0.023*\"hrod\" + 0.021*\"huma\" + 0.020*\"com\" + 0.018*\"abedin\" + 0.013*\"august\" + 0.011*\"sullivanjj\" + 0.010*\"abedinh\"'), (1, '0.017*\"get\" + 0.016*\"know\" + 0.014*\"let\" + 0.013*\"happy\" + 0.012*\"draft\" + 0.011*\"tomorrow\" + 0.011*\"work\" + 0.010*\"back\" + 0.009*\"good\" + 0.009*\"also\"'), (2, '0.018*\"wilson\" + 0.015*\"texas\" + 0.011*\"anytime\" + 0.008*\"joe\" + 0.008*\"laid\" + 0.007*\"group\" + 0.007*\"koch\" + 0.006*\"foreign\" + 0.006*\"dep\" + 0.006*\"irish\"'), (3, '0.011*\"company\" + 0.007*\"party\" + 0.007*\"memo\" + 0.005*\"tea\" + 0.005*\"coalition\" + 0.005*\"union\" + 0.005*\"holds\" + 0.004*\"bank\" + 0.004*\"action\" + 0.004*\"next\"'), (4, '0.033*\"boehner\" + 0.010*\"germany\" + 0.008*\"said\" + 0.007*\"vote\" + 0.006*\"ohio\" + 0.005*\"republican\" + 0.005*\"russia\" + 0.005*\"approve\" + 0.005*\"state\" + 0.005*\"would\"'), (5, '0.020*\"obama\" + 0.014*\"republican\" + 0.011*\"senate\" + 0.010*\"would\" + 0.009*\"health\" + 0.009*\"democrats\" + 0.008*\"house\" + 0.008*\"republicans\" + 0.007*\"bill\" + 0.007*\"president\"'), (6, '0.015*\"fyi\" + 0.014*\"rights\" + 0.014*\"vote\" + 0.011*\"points\" + 0.011*\"human\" + 0.006*\"statement\" + 0.006*\"liberal\" + 0.006*\"passage\" + 0.006*\"quotes\" + 0.006*\"death\"'), (7, '0.009*\"corporations\" + 0.009*\"income\" + 0.007*\"ground\" + 0.007*\"lissa\" + 0.007*\"called\" + 0.006*\"expo\" + 0.006*\"buckley\" + 0.006*\"seriously\" + 0.006*\"telephone\" + 0.005*\"mexican\"'), (8, '0.010*\"state\" + 0.005*\"gender\" + 0.005*\"marie\" + 0.005*\"national\" + 0.005*\"anne\" + 0.004*\"press\" + 0.004*\"us\" + 0.004*\"slaughter\" + 0.004*\"capacity\" + 0.004*\"dialogue\"'), (9, '0.021*\"mail\" + 0.018*\"state\" + 0.017*\"message\" + 0.013*\"received\" + 0.013*\"address\" + 0.012*\"sbu\" + 0.012*\"gov\" + 0.010*\"original\" + 0.009*\"quartet\" + 0.007*\"system\"'), (10, '0.041*\"poll\" + 0.032*\"percent\" + 0.009*\"approval\" + 0.009*\"obama\" + 0.009*\"unfavorable\" + 0.007*\"americans\" + 0.006*\"huckabee\" + 0.006*\"border\" + 0.006*\"president\" + 0.006*\"university\"'), (11, '0.012*\"book\" + 0.009*\"turkey\" + 0.007*\"al\" + 0.007*\"supplies\" + 0.007*\"sec\" + 0.007*\"pls\" + 0.006*\"qaida\" + 0.006*\"thing\" + 0.005*\"taliban\" + 0.005*\"kentucky\"'), (12, '0.034*\"gaza\" + 0.019*\"rep\" + 0.016*\"kurt\" + 0.013*\"unfavorable\" + 0.012*\"cheryl\" + 0.011*\"hrd\" + 0.011*\"vol\" + 0.011*\"may\" + 0.010*\"urgent\" + 0.010*\"steinberg\"'), (13, '0.007*\"state\" + 0.006*\"un\" + 0.006*\"would\" + 0.005*\"women\" + 0.005*\"could\" + 0.005*\"airport\" + 0.005*\"budget\" + 0.004*\"new\" + 0.004*\"policy\" + 0.004*\"amendment\"'), (14, '0.063*\"call\" + 0.026*\"ok\" + 0.019*\"list\" + 0.018*\"tomorrow\" + 0.014*\"confirmed\" + 0.013*\"am\" + 0.011*\"richards\" + 0.011*\"calls\" + 0.010*\"talk\" + 0.010*\"secure\"'), (15, '0.019*\"state\" + 0.012*\"mod\" + 0.008*\"referring\" + 0.006*\"date\" + 0.005*\"liked\" + 0.005*\"house\" + 0.005*\"case\" + 0.005*\"exhibit\" + 0.005*\"doc\" + 0.005*\"department\"'), (16, '0.033*\"nuclear\" + 0.012*\"see\" + 0.011*\"start\" + 0.009*\"missile\" + 0.008*\"readout\" + 0.008*\"good\" + 0.008*\"next\" + 0.007*\"met\" + 0.007*\"trip\" + 0.007*\"london\"'), (17, '0.006*\"time\" + 0.005*\"one\" + 0.005*\"people\" + 0.005*\"first\" + 0.005*\"years\" + 0.004*\"work\" + 0.004*\"president\" + 0.004*\"would\" + 0.004*\"said\" + 0.004*\"good\"'), (18, '0.013*\"john\" + 0.011*\"chicago\" + 0.009*\"said\" + 0.007*\"radio\" + 0.007*\"books\" + 0.007*\"frank\" + 0.006*\"clinton\" + 0.006*\"email\" + 0.006*\"karl\" + 0.006*\"mr\"'), (19, '0.026*\"office\" + 0.025*\"secretary\" + 0.016*\"meeting\" + 0.014*\"white\" + 0.011*\"room\" + 0.010*\"route\" + 0.009*\"conference\" + 0.009*\"arrive\" + 0.009*\"state\" + 0.009*\"en\"'), (20, '0.007*\"women\" + 0.006*\"world\" + 0.006*\"government\" + 0.006*\"mcchrystal\" + 0.005*\"people\" + 0.005*\"war\" + 0.005*\"would\" + 0.005*\"us\" + 0.004*\"mr\" + 0.004*\"united\"'), (21, '0.085*\"call\" + 0.015*\"talk\" + 0.014*\"ops\" + 0.013*\"today\" + 0.011*\"sheet\" + 0.010*\"trying\" + 0.009*\"back\" + 0.009*\"want\" + 0.009*\"jack\" + 0.008*\"get\"'), (22, '0.008*\"israeli\" + 0.008*\"claims\" + 0.007*\"mayor\" + 0.007*\"movement\" + 0.007*\"bloomberg\" + 0.006*\"political\" + 0.006*\"images\" + 0.005*\"cut\" + 0.005*\"funded\" + 0.005*\"conspiracy\"'), (23, '0.034*\"state\" + 0.033*\"gov\" + 0.025*\"cheryl\" + 0.020*\"mills\" + 0.016*\"see\" + 0.015*\"thank\" + 0.013*\"millscd\" + 0.012*\"monday\" + 0.011*\"huma\" + 0.009*\"clips\"'), (24, '0.063*\"secretary\" + 0.059*\"office\" + 0.035*\"state\" + 0.027*\"room\" + 0.025*\"meeting\" + 0.023*\"department\" + 0.015*\"en\" + 0.015*\"arrive\" + 0.015*\"private\" + 0.014*\"route\"'), (25, '0.010*\"obama\" + 0.007*\"president\" + 0.006*\"party\" + 0.006*\"said\" + 0.006*\"one\" + 0.005*\"afghan\" + 0.005*\"would\" + 0.005*\"american\" + 0.005*\"talks\" + 0.005*\"new\"'), (26, '0.014*\"china\" + 0.010*\"mr\" + 0.010*\"party\" + 0.009*\"deal\" + 0.008*\"iran\" + 0.008*\"politics\" + 0.007*\"would\" + 0.007*\"conservative\" + 0.006*\"labour\" + 0.005*\"david\"'), (27, '0.008*\"would\" + 0.007*\"like\" + 0.007*\"one\" + 0.007*\"said\" + 0.006*\"book\" + 0.005*\"reid\" + 0.005*\"also\" + 0.005*\"qddr\" + 0.005*\"clinton\" + 0.004*\"language\"'), (28, '0.026*\"sullivan\" + 0.024*\"pm\" + 0.019*\"jacob\" + 0.018*\"state\" + 0.016*\"gov\" + 0.011*\"good\" + 0.010*\"tomorrow\" + 0.009*\"sullivanjj\" + 0.009*\"wednesday\" + 0.006*\"september\"'), (29, '0.025*\"favorable\" + 0.010*\"travel\" + 0.009*\"jpg\" + 0.007*\"sep\" + 0.007*\"version\" + 0.007*\"ireland\" + 0.006*\"stone\" + 0.006*\"minute\" + 0.006*\"maggie\" + 0.006*\"rove\"'), (30, '0.041*\"israel\" + 0.020*\"israeli\" + 0.013*\"netanyahu\" + 0.010*\"party\" + 0.010*\"settlement\" + 0.010*\"would\" + 0.009*\"palestinians\" + 0.009*\"jerusalem\" + 0.008*\"palestinian\" + 0.008*\"settlements\"'), (31, '0.055*\"fyi\" + 0.018*\"yes\" + 0.016*\"blair\" + 0.014*\"state\" + 0.012*\"corker\" + 0.012*\"email\" + 0.011*\"presidency\" + 0.011*\"haiti\" + 0.011*\"office\" + 0.010*\"gov\"'), (32, '0.013*\"state\" + 0.010*\"clinton\" + 0.009*\"lauren\" + 0.009*\"refused\" + 0.009*\"gov\" + 0.006*\"wednesday\" + 0.006*\"worse\" + 0.005*\"senator\" + 0.005*\"launch\" + 0.005*\"congressman\"'), (33, '0.017*\"russia\" + 0.011*\"february\" + 0.010*\"com\" + 0.009*\"hamas\" + 0.009*\"lewis\" + 0.009*\"ms\" + 0.009*\"sbwhoeop\" + 0.009*\"schedule\" + 0.008*\"india\" + 0.008*\"senate\"'), (34, '0.013*\"ed\" + 0.007*\"blackberry\" + 0.007*\"via\" + 0.007*\"mubarak\" + 0.006*\"financial\" + 0.006*\"us\" + 0.006*\"op\" + 0.005*\"xpress\" + 0.005*\"cingular\" + 0.005*\"tomorrow\"'), (35, '0.019*\"release\" + 0.018*\"part\" + 0.015*\"na\" + 0.005*\"panel\" + 0.005*\"roger\" + 0.005*\"one\" + 0.005*\"fyi\" + 0.005*\"would\" + 0.005*\"ams\" + 0.004*\"card\"'), (36, '0.014*\"tea\" + 0.009*\"new\" + 0.006*\"year\" + 0.005*\"center\" + 0.005*\"right\" + 0.004*\"washington\" + 0.004*\"great\" + 0.004*\"political\" + 0.004*\"project\" + 0.004*\"secret\"'), (37, '0.052*\"ap\" + 0.031*\"reuters\" + 0.019*\"company\" + 0.009*\"touch\" + 0.008*\"rahm\" + 0.008*\"rich\" + 0.007*\"cables\" + 0.007*\"bridge\" + 0.006*\"praise\" + 0.006*\"weekend\"'), (38, '0.006*\"new\" + 0.006*\"us\" + 0.006*\"said\" + 0.006*\"iraq\" + 0.005*\"security\" + 0.005*\"state\" + 0.005*\"american\" + 0.005*\"military\" + 0.004*\"afghanistan\" + 0.004*\"mr\"'), (39, '0.023*\"ashton\" + 0.019*\"speech\" + 0.013*\"woodward\" + 0.010*\"abbas\" + 0.009*\"robinson\" + 0.008*\"today\" + 0.008*\"karzai\" + 0.007*\"call\" + 0.007*\"shaun\" + 0.007*\"wfp\"')]\n",
      "------------------------------------ 50 topics ------------------------------------\n",
      "---------------------------------------------------------------------------------------\n",
      "[(0, '0.016*\"mr\" + 0.010*\"january\" + 0.008*\"mubarak\" + 0.007*\"jpg\" + 0.007*\"percent\" + 0.006*\"one\" + 0.006*\"http\" + 0.006*\"love\" + 0.006*\"obama\" + 0.006*\"channel\"'), (1, '0.047*\"secretary\" + 0.043*\"office\" + 0.024*\"meeting\" + 0.023*\"state\" + 0.021*\"room\" + 0.018*\"department\" + 0.014*\"route\" + 0.014*\"arrive\" + 0.014*\"en\" + 0.014*\"depart\"'), (2, '0.015*\"obama\" + 0.011*\"israel\" + 0.009*\"president\" + 0.007*\"republican\" + 0.007*\"american\" + 0.007*\"new\" + 0.005*\"middle\" + 0.005*\"power\" + 0.004*\"political\" + 0.004*\"first\"'), (3, '0.015*\"blair\" + 0.012*\"party\" + 0.010*\"tony\" + 0.009*\"gordon\" + 0.008*\"david\" + 0.008*\"one\" + 0.007*\"marie\" + 0.007*\"good\" + 0.007*\"shaun\" + 0.007*\"anne\"'), (4, '0.016*\"vote\" + 0.015*\"democrats\" + 0.011*\"democratic\" + 0.010*\"party\" + 0.010*\"charles\" + 0.010*\"election\" + 0.010*\"said\" + 0.009*\"voters\" + 0.008*\"republican\" + 0.007*\"reid\"'), (5, '0.021*\"talks\" + 0.009*\"co\" + 0.008*\"climate\" + 0.007*\"could\" + 0.005*\"copenhagen\" + 0.005*\"argentina\" + 0.005*\"lie\" + 0.005*\"warming\" + 0.005*\"international\" + 0.005*\"card\"'), (6, '0.155*\"call\" + 0.034*\"ok\" + 0.024*\"ops\" + 0.021*\"talk\" + 0.015*\"sheet\" + 0.014*\"list\" + 0.012*\"confirmed\" + 0.011*\"yet\" + 0.010*\"today\" + 0.010*\"am\"'), (7, '0.027*\"poll\" + 0.017*\"republicans\" + 0.011*\"speech\" + 0.008*\"year\" + 0.008*\"haiti\" + 0.008*\"interview\" + 0.008*\"polls\" + 0.008*\"approval\" + 0.008*\"moderate\" + 0.007*\"bill\"'), (8, '0.028*\"part\" + 0.028*\"release\" + 0.016*\"eu\" + 0.015*\"radio\" + 0.011*\"mail\" + 0.008*\"via\" + 0.007*\"cingular\" + 0.007*\"xpress\" + 0.007*\"blackberry\" + 0.007*\"written\"'), (9, '0.022*\"germany\" + 0.022*\"statement\" + 0.016*\"ap\" + 0.015*\"jacob\" + 0.015*\"sullivan\" + 0.013*\"february\" + 0.012*\"press\" + 0.012*\"fyi\" + 0.011*\"sullivanjj\" + 0.009*\"state\"'), (10, '0.013*\"evening\" + 0.012*\"senator\" + 0.011*\"jilotylc\" + 0.011*\"institution\" + 0.011*\"legislation\" + 0.010*\"vote\" + 0.009*\"tonight\" + 0.009*\"massachusetts\" + 0.009*\"richard\" + 0.009*\"state\"'), (11, '0.009*\"clinton\" + 0.007*\"obama\" + 0.006*\"new\" + 0.006*\"refused\" + 0.005*\"marriage\" + 0.005*\"vision\" + 0.005*\"one\" + 0.004*\"become\" + 0.004*\"former\" + 0.004*\"group\"'), (12, '0.016*\"percent\" + 0.013*\"right\" + 0.012*\"party\" + 0.010*\"claims\" + 0.009*\"images\" + 0.007*\"book\" + 0.006*\"quartet\" + 0.006*\"rally\" + 0.005*\"shock\" + 0.005*\"wjc\"'), (13, '0.017*\"good\" + 0.013*\"death\" + 0.011*\"fyi\" + 0.011*\"mashabane\" + 0.010*\"via\" + 0.009*\"assume\" + 0.009*\"david\" + 0.008*\"sounds\" + 0.008*\"family\" + 0.008*\"statement\"'), (14, '0.015*\"aipac\" + 0.010*\"spoke\" + 0.010*\"kyl\" + 0.008*\"ms\" + 0.007*\"rescue\" + 0.007*\"capacity\" + 0.006*\"cr\" + 0.006*\"bush\" + 0.006*\"thirds\" + 0.006*\"video\"'), (15, '0.056*\"tea\" + 0.027*\"doc\" + 0.021*\"state\" + 0.019*\"nazi\" + 0.014*\"dollar\" + 0.013*\"kurdistan\" + 0.012*\"joanne\" + 0.011*\"sudan\" + 0.011*\"date\" + 0.010*\"information\"'), (16, '0.019*\"email\" + 0.018*\"wrote\" + 0.015*\"letter\" + 0.013*\"discuss\" + 0.013*\"thanks\" + 0.011*\"com\" + 0.009*\"document\" + 0.009*\"chicago\" + 0.009*\"mar\" + 0.009*\"hdr\"'), (17, '0.016*\"thx\" + 0.016*\"woodward\" + 0.010*\"colombia\" + 0.009*\"know\" + 0.008*\"kabul\" + 0.007*\"attached\" + 0.006*\"pls\" + 0.006*\"who\" + 0.006*\"whether\" + 0.006*\"mario\"'), (18, '0.016*\"israeli\" + 0.015*\"israel\" + 0.013*\"tomorrow\" + 0.011*\"palestinians\" + 0.010*\"time\" + 0.008*\"jerusalem\" + 0.007*\"get\" + 0.007*\"talk\" + 0.007*\"speech\" + 0.007*\"also\"'), (19, '0.006*\"state\" + 0.004*\"palestinian\" + 0.004*\"also\" + 0.004*\"city\" + 0.004*\"house\" + 0.004*\"obama\" + 0.004*\"would\" + 0.004*\"one\" + 0.004*\"public\" + 0.004*\"us\"'), (20, '0.013*\"state\" + 0.008*\"gov\" + 0.007*\"like\" + 0.006*\"party\" + 0.006*\"would\" + 0.006*\"see\" + 0.005*\"today\" + 0.005*\"also\" + 0.005*\"presidency\" + 0.005*\"eu\"'), (21, '0.025*\"na\" + 0.025*\"unfavorable\" + 0.024*\"enough\" + 0.016*\"else\" + 0.015*\"hrd\" + 0.015*\"vol\" + 0.013*\"karzai\" + 0.011*\"tot\" + 0.011*\"worn\" + 0.010*\"ind\"'), (22, '0.037*\"iran\" + 0.017*\"jewish\" + 0.017*\"iranian\" + 0.012*\"hikers\" + 0.010*\"chinese\" + 0.009*\"jews\" + 0.009*\"russia\" + 0.009*\"idea\" + 0.008*\"bomb\" + 0.008*\"near\"'), (23, '0.014*\"research\" + 0.013*\"age\" + 0.013*\"opinion\" + 0.010*\"agree\" + 0.009*\"border\" + 0.009*\"scott\" + 0.008*\"beck\" + 0.007*\"year\" + 0.006*\"ford\" + 0.006*\"reform\"'), (24, '0.015*\"sid\" + 0.013*\"eikenberry\" + 0.013*\"wilson\" + 0.011*\"game\" + 0.010*\"memo\" + 0.010*\"cable\" + 0.010*\"calls\" + 0.009*\"new\" + 0.009*\"tomorrow\" + 0.008*\"joe\"'), (25, '0.008*\"would\" + 0.008*\"obama\" + 0.007*\"said\" + 0.007*\"president\" + 0.006*\"secretary\" + 0.006*\"tea\" + 0.005*\"ireland\" + 0.005*\"time\" + 0.004*\"new\" + 0.004*\"two\"'), (26, '0.031*\"qddr\" + 0.010*\"reach\" + 0.009*\"today\" + 0.009*\"prepare\" + 0.008*\"nora\" + 0.007*\"besides\" + 0.007*\"summit\" + 0.007*\"google\" + 0.007*\"request\" + 0.007*\"fifty\"'), (27, '0.017*\"note\" + 0.017*\"tomorrow\" + 0.017*\"ll\" + 0.015*\"morning\" + 0.013*\"richards\" + 0.011*\"get\" + 0.009*\"see\" + 0.009*\"work\" + 0.008*\"re\" + 0.008*\"travel\"'), (28, '0.075*\"fyi\" + 0.053*\"cheryl\" + 0.047*\"state\" + 0.045*\"gov\" + 0.041*\"mills\" + 0.020*\"millscd\" + 0.020*\"sullivan\" + 0.016*\"jacob\" + 0.015*\"sunday\" + 0.014*\"tuesday\"'), (29, '0.023*\"schedule\" + 0.018*\"pls\" + 0.015*\"jack\" + 0.013*\"per\" + 0.012*\"lieberman\" + 0.011*\"dialogue\" + 0.010*\"quoted\" + 0.009*\"today\" + 0.008*\"add\" + 0.008*\"mccain\"'), (30, '0.015*\"points\" + 0.012*\"update\" + 0.010*\"talking\" + 0.010*\"saw\" + 0.009*\"dan\" + 0.007*\"sets\" + 0.007*\"john\" + 0.007*\"podesta\" + 0.006*\"follow\" + 0.006*\"pdf\"'), (31, '0.014*\"get\" + 0.012*\"know\" + 0.012*\"see\" + 0.011*\"back\" + 0.011*\"worse\" + 0.009*\"jul\" + 0.009*\"way\" + 0.009*\"happy\" + 0.008*\"update\" + 0.008*\"thanks\"'), (32, '0.014*\"nixon\" + 0.010*\"announce\" + 0.008*\"citizen\" + 0.007*\"wing\" + 0.007*\"journalist\" + 0.006*\"panel\" + 0.006*\"obama\" + 0.005*\"would\" + 0.005*\"length\" + 0.005*\"george\"'), (33, '0.026*\"senate\" + 0.013*\"care\" + 0.009*\"health\" + 0.009*\"spokesman\" + 0.009*\"pakistan\" + 0.008*\"website\" + 0.008*\"campaign\" + 0.007*\"humanitarian\" + 0.007*\"ill\" + 0.007*\"immediate\"'), (34, '0.040*\"ap\" + 0.012*\"work\" + 0.011*\"bob\" + 0.010*\"right\" + 0.007*\"serve\" + 0.006*\"notice\" + 0.006*\"levin\" + 0.006*\"one\" + 0.006*\"sen\" + 0.006*\"words\"'), (35, '0.013*\"afghan\" + 0.013*\"netanyahu\" + 0.007*\"israel\" + 0.007*\"israeli\" + 0.006*\"taliban\" + 0.006*\"iraq\" + 0.005*\"security\" + 0.005*\"government\" + 0.005*\"said\" + 0.005*\"war\"'), (36, '0.023*\"favorable\" + 0.013*\"israeli\" + 0.012*\"please\" + 0.011*\"corker\" + 0.009*\"funded\" + 0.009*\"dollars\" + 0.007*\"little\" + 0.007*\"internet\" + 0.006*\"state\" + 0.006*\"film\"'), (37, '0.025*\"ashton\" + 0.010*\"readout\" + 0.007*\"night\" + 0.007*\"classified\" + 0.007*\"dozen\" + 0.007*\"aim\" + 0.006*\"karzai\" + 0.006*\"state\" + 0.006*\"name\" + 0.006*\"last\"'), (38, '0.049*\"boehner\" + 0.017*\"federal\" + 0.015*\"democrats\" + 0.014*\"house\" + 0.012*\"pelosi\" + 0.011*\"john\" + 0.009*\"reason\" + 0.009*\"congressman\" + 0.009*\"speaker\" + 0.008*\"said\"'), (39, '0.017*\"state\" + 0.012*\"clinton\" + 0.012*\"mail\" + 0.010*\"north\" + 0.010*\"texas\" + 0.010*\"received\" + 0.010*\"gov\" + 0.009*\"message\" + 0.009*\"gelb\" + 0.008*\"ap\"'), (40, '0.008*\"would\" + 0.005*\"could\" + 0.005*\"people\" + 0.004*\"us\" + 0.004*\"policy\" + 0.004*\"company\" + 0.004*\"government\" + 0.004*\"political\" + 0.004*\"diplomacy\" + 0.004*\"one\"'), (41, '0.011*\"pakistan\" + 0.009*\"women\" + 0.009*\"strategic\" + 0.008*\"said\" + 0.007*\"bloomberg\" + 0.007*\"un\" + 0.006*\"also\" + 0.005*\"us\" + 0.005*\"work\" + 0.005*\"washington\"'), (42, '0.010*\"mr\" + 0.009*\"said\" + 0.008*\"mcchrystal\" + 0.007*\"party\" + 0.007*\"obama\" + 0.007*\"women\" + 0.005*\"would\" + 0.005*\"process\" + 0.005*\"one\" + 0.004*\"us\"'), (43, '0.036*\"china\" + 0.013*\"talk\" + 0.009*\"called\" + 0.009*\"hear\" + 0.009*\"news\" + 0.009*\"korea\" + 0.008*\"corporations\" + 0.008*\"later\" + 0.008*\"report\" + 0.008*\"think\"'), (44, '0.034*\"reuters\" + 0.011*\"china\" + 0.011*\"read\" + 0.010*\"know\" + 0.009*\"deal\" + 0.009*\"ed\" + 0.008*\"business\" + 0.006*\"indian\" + 0.006*\"saudi\" + 0.005*\"ca\"'), (45, '0.016*\"high\" + 0.015*\"importance\" + 0.014*\"state\" + 0.013*\"send\" + 0.013*\"urgent\" + 0.012*\"gov\" + 0.011*\"reminder\" + 0.010*\"npr\" + 0.009*\"fyi\" + 0.009*\"calling\"'), (46, '0.011*\"ireland\" + 0.009*\"governor\" + 0.009*\"jones\" + 0.008*\"comments\" + 0.007*\"soviet\" + 0.007*\"out\" + 0.007*\"candidates\" + 0.007*\"ams\" + 0.006*\"gotten\" + 0.006*\"question\"'), (47, '0.057*\"gov\" + 0.053*\"state\" + 0.025*\"clintonemail\" + 0.024*\"huma\" + 0.023*\"hrod\" + 0.023*\"com\" + 0.021*\"beck\" + 0.021*\"abedin\" + 0.019*\"wednesday\" + 0.017*\"monday\"'), (48, '0.010*\"would\" + 0.007*\"president\" + 0.007*\"united\" + 0.006*\"states\" + 0.006*\"nuclear\" + 0.005*\"obama\" + 0.005*\"like\" + 0.005*\"american\" + 0.004*\"government\" + 0.004*\"one\"'), (49, '0.021*\"gaza\" + 0.014*\"india\" + 0.013*\"robinson\" + 0.013*\"report\" + 0.011*\"northern\" + 0.008*\"bank\" + 0.007*\"proposed\" + 0.007*\"also\" + 0.007*\"mcguinness\" + 0.006*\"asia\"')]\n"
     ]
    }
   ],
   "source": [
    "topic=[5,10,20,30,40,50]\n",
    "for i in topic:\n",
    "    model = gensim.models.ldamodel.LdaModel(corpus, num_topics=i, id2word=dictionary)\n",
    "    print(\"------------------------------------\",i, \"topics \"'------------------------------------')\n",
    "    print(\"---------------------------------------------------------------------------------------\")\n",
    "    print(model.show_topics(num_topics=i))"
   ]
  },
  {
   "cell_type": "markdown",
   "metadata": {},
   "source": [
    "- Looking at the results, we settle for 30 as number of topics since it seems meaningful\n",
    "- Indeed, we can see that it separates topics\n",
    "- for instance ['israeli', 'palestinian', 'israel', 'branch', 'arab', 'abbas', 'funded', 'state', 'ap', 'lewis', 'film', 'hamas', 'one', 'ex', 'honduras', 'soldier', 'january', 'made', 'well', 'peace'] for the israeli-palestinian conflict"
   ]
  },
  {
   "cell_type": "code",
   "execution_count": 14,
   "metadata": {
    "collapsed": true
   },
   "outputs": [],
   "source": [
    "model = gensim.models.ldamodel.LdaModel(corpus, num_topics=30, id2word=dictionary)"
   ]
  },
  {
   "cell_type": "code",
   "execution_count": 15,
   "metadata": {
    "collapsed": false,
    "scrolled": true
   },
   "outputs": [
    {
     "name": "stdout",
     "output_type": "stream",
     "text": [
      "1 : ['tea', 'favorable', 'hrod', 'call', 'com', 'ashton', 'clintonemail', 'state', 'gov', 'print', 'today', 'may', 'monday', 'pls', 'pis', 'saturday', 'madame', 'conspiracy', 'cheryl', 'declassify']\n",
      "2 : ['secretary', 'office', 'state', 'meeting', 'room', 'department', 'en', 'route', 'arrive', 'private', 'depart', 'conference', 'residence', 'call', 'time', 'daily', 'staff', 'airport', 'assistant', 'floor']\n",
      "3 : ['boehner', 'house', 'speaker', 'arizona', 'state', 'office', 'federal', 'pelosi', 'burma', 'boy', 'bill', 'san', 'floor', 'ventures', 'nancy', 'suu', 'aung', 'season', 'scott', 'koch']\n",
      "4 : ['said', 'obama', 'would', 'israel', 'american', 'new', 'government', 'one', 'people', 'security', 'political', 'two', 'world', 'united', 'states', 'peace', 'could', 'first', 'also', 'women']\n",
      "5 : ['obama', 'said', 'mr', 'white', 'would', 'mcchrystal', 'time', 'president', 'one', 'party', 'new', 'think', 'house', 'state', 'also', 'women', 'public', 'national', 'us', 'secretary']\n",
      "6 : ['israeli', 'palestinian', 'israel', 'branch', 'arab', 'abbas', 'funded', 'state', 'ap', 'lewis', 'film', 'hamas', 'one', 'ex', 'honduras', 'soldier', 'january', 'made', 'well', 'peace']\n",
      "7 : ['vote', 'percent', 'reuters', 'voters', 'republican', 'election', 'one', 'would', 'party', 'obama', 'enough', 'republicans', 'palin', 'says', 'candidates', 'northern', 'good', 'democratic', 'labour', 'democrats']\n",
      "8 : ['poll', 'said', 'democrat', 'call', 'turkey', 'time', 'get', 'state', 'getting', 'would', 'else', 'panel', 'secure', 'david', 'party', 'chamber', 'like', 'obama', 'set', 'charles']\n",
      "9 : ['report', 'also', 'email', 'company', 'good', 'happy', 'draft', 'talks', 'sid', 'note', 'us', 'tomorrow', 'thanks', 'send', 'thank', 'work', 'call', 'jake', 'language', 'discuss']\n",
      "10 : ['call', 'tomorrow', 'talk', 'pm', 'germany', 'taliban', 'am', 'ok', 'richards', 'ops', 'confirmed', 'see', 'asking', 'list', 'morning', 'state', 'pls', 'checking', 'work', 'would']\n",
      "11 : ['doc', 'state', 'worse', 'strategic', 'convention', 'dialogue', 'department', 'travel', 'illinois', 'okay', 'treatment', 'liked', 'equal', 'lavrov', 'informal', 'folder', 'house', 'press', 'amcits', 'agreement']\n",
      "12 : ['party', 'beck', 'would', 'un', 'right', 'iran', 'tax', 'conservative', 'movement', 'could', 'claims', 'said', 'republican', 'iranian', 'images', 'cut', 'obama', 'group', 'found', 'new']\n",
      "13 : ['rep', 'john', 'democrats', 'ireland', 'would', 'republican', 'obama', 'vote', 'unfavorable', 'bomb', 'ohio', 'democratic', 'told', 'heard', 'hospital', 'bill', 'one', 'mr', 'else', 'said']\n",
      "14 : ['state', 'gov', 'sullivan', 'jacob', 'sullivanjj', 'sunday', 'cheryl', 'mills', 'rahm', 'december', 'verveer', 'thursday', 'obama', 'see', 'melanne', 'article', 'framework', 'fyi', 'piece', 'slightly']\n",
      "15 : ['china', 'gaza', 'business', 'iran', 'dollars', 'oil', 'negotiating', 'corporate', 'deal', 'bank', 'interested', 'hikers', 'search', 'thirty', 'chinese', 'little', 'koch', 'american', 'call', 'fyi']\n",
      "16 : ['israel', 'lieberman', 'theory', 'crossed', 'safe', 'travels', 'campus', 'checked', 'holidays', 'non', 'suit', 'definitely', 'state', 'wilders', 'age', 'dan', 'party', 'an', 'rains', 'correct']\n",
      "17 : ['fyi', 'state', 'development', 'secretary', 'request', 'global', 'support', 'diplomacy', 'security', 'department', 'capacity', 'civilian', 'agree', 'national', 'taliban', 'obama', 'mack', 'one', 'policy', 'strategy']\n",
      "18 : ['state', 'gov', 'cheryl', 'huma', 'mills', 'abedin', 'wednesday', 'please', 'millscd', 'na', 'fyi', 'mail', 'clintonemail', 'com', 'friday', 'january', 'abedinh', 'received', 'august', 'june']\n",
      "19 : ['today', 'website', 'back', 'shaun', 'new', 'sid', 'corporations', 'robinson', 'woodward', 'usg', 've', 'get', 'work', 'game', 'know', 'deal', 'expo', 'touch', 'talk', 'uk']\n",
      "20 : ['nuclear', 'pakistan', 'care', 'bill', 'would', 'legislation', 'senate', 'health', 'afghanistan', 'said', 'obama', 'presidency', 'chinese', 'one', 'could', 'start', 'done', 'government', 'percent', 'strategic']\n",
      "21 : ['president', 'state', 'people', 'american', 'minister', 'would', 'last', 'said', 'like', 'told', 'son', 'years', 'politics', 'one', 'first', 'government', 'us', 'books', 'center', 'aipac']\n",
      "22 : ['call', 'part', 'speech', 'reid', 'release', 'ok', 'would', 'bill', 'thx', 'pls', 'see', 'may', 'know', 'draft', 'talk', 'print', 'today', 'eu', 'right', 'll']\n",
      "23 : ['call', 'get', 'blair', 'called', 'prime', 'update', 'moderate', 'quartet', 'star', 'holbrooke', 'got', 'talk', 'back', 'importance', 'll', 'high', 'david', 'sarkozy', 'message', 'minister']\n",
      "24 : ['president', 'senate', 'obama', 'policy', 'clinton', 'new', 'mr', 'netanyahu', 'foreign', 'would', 'state', 'war', 'us', 'former', 'washington', 'building', 'time', 'one', 'party', 'israel']\n",
      "25 : ['office', 'yes', 'secretary', 'meeting', 'room', 'schedule', 'department', 'state', 'arrive', 'depart', 'white', 'route', 'en', 'house', 'staff', 'clips', 'press', 'dinner', 'washington', 'president']\n",
      "26 : ['gender', 'see', 'work', 'cameron', 'haiti', 'know', 'think', 'nixon', 'could', 'list', 'papers', 'call', 'saudi', 'today', 'way', 'read', 'also', 'let', 'media', 'include']\n",
      "27 : ['corker', 'amendment', 'via', 'house', 'letter', 'calls', 'ill', 'fyi', 'call', 'mail', 'white', 'bill', 'lugar', 'mubarak', 'blackberry', 'senate', 'health', 'cingular', 'xpress', 'passage']\n",
      "28 : ['afghan', 'afghanistan', 'new', 'one', 'like', 'idea', 'war', 'sid', 'kabul', 'women', 'book', 'soldiers', 'wilson', 'would', 'us', 'great', 'said', 'karzai', 'talks', 'human']\n",
      "29 : ['shuttle', 'wjc', 'return', 'prefer', 'marine', 'coll', 'deadline', 'state', 'gore', 'funeral', 'plane', 'good', 'lear', 'roll', 'note', 'time', 'navy', 'ss', 'pi', 'salute']\n",
      "30 : ['ap', 'call', 'qddr', 'draft', 'sheet', 'speech', 'haiti', 'think', 'statement', 'also', 'name', 'sbwhoeop', 'argentina', 'background', 'read', 'sudan', 'another', 'forth', 'jim', 'missing']\n"
     ]
    }
   ],
   "source": [
    "for x in range(model.num_topics):\n",
    "    line = [l for l, _ in model.show_topic(x, topn=20)]\n",
    "    print(x+1,':',line)"
   ]
  }
 ],
 "metadata": {
  "kernelspec": {
   "display_name": "Python 3",
   "language": "python",
   "name": "python3"
  },
  "language_info": {
   "codemirror_mode": {
    "name": "ipython",
    "version": 3
   },
   "file_extension": ".py",
   "mimetype": "text/x-python",
   "name": "python",
   "nbconvert_exporter": "python",
   "pygments_lexer": "ipython3",
   "version": "3.5.2"
  }
 },
 "nbformat": 4,
 "nbformat_minor": 1
}

{
 "cells": [
  {
   "cell_type": "code",
   "execution_count": 1,
   "metadata": {
    "collapsed": true
   },
   "outputs": [],
   "source": [
    "from nltk.sentiment.util import *\n",
    "from nltk.sentiment import SentimentIntensityAnalyzer\n",
    "import pycountry\n",
    "from nltk.corpus import words\n",
    "import pandas as pd\n",
    "import nltk\n",
    "import pandas as pd\n",
    "import re\n",
    "from nltk.corpus import stopwords\n",
    "from nltk.tokenize import sent_tokenize, word_tokenize\n",
    "from nltk.stem.wordnet import WordNetLemmatizer\n",
    "import matplotlib.pyplot as plt\n",
    "from nltk.corpus import opinion_lexicon\n",
    "\n",
    "%matplotlib inline"
   ]
  },
  {
   "cell_type": "markdown",
   "metadata": {},
   "source": [
    "# Sentiment analysis on hillary clinton Emails"
   ]
  },
  {
   "cell_type": "markdown",
   "metadata": {},
   "source": [
    "- For this exercises we will implement a sentiment analysis on hillary emails and grouping them by country"
   ]
  },
  {
   "cell_type": "code",
   "execution_count": 2,
   "metadata": {
    "collapsed": false
   },
   "outputs": [],
   "source": [
    "data=pd.read_csv(\"Emails.csv\")\n",
    "data.fillna(' ',inplace=True)"
   ]
  },
  {
   "cell_type": "markdown",
   "metadata": {},
   "source": [
    "- we load the data and we clean it to be able to use it for the sentiment analysis.\n",
    "- We don't lower the text since we think that it could be more significant that hillary uses for instance AM as an alpha_2 code for a country than am or Am that could represent 'I am in ..'\n",
    "- We remove stop words and non character tokens"
   ]
  },
  {
   "cell_type": "code",
   "execution_count": 3,
   "metadata": {
    "collapsed": false
   },
   "outputs": [],
   "source": [
    "raw=data['ExtractedSubject'] + ' ' + data['ExtractedBodyText'].tolist()"
   ]
  },
  {
   "cell_type": "markdown",
   "metadata": {},
   "source": [
    "- Here for the cleaning, we decided to lowercase all the emails but on could refine the analysis by removing this function and analyzing alpha_3 and alpha_2 codes"
   ]
  },
  {
   "cell_type": "markdown",
   "metadata": {},
   "source": [
    "## CLEANING"
   ]
  },
  {
   "cell_type": "code",
   "execution_count": 4,
   "metadata": {
    "collapsed": true
   },
   "outputs": [],
   "source": [
    "def removeStopWords(String):\n",
    "    stopwordlist = set(stopwords.words(\"english\"))\n",
    "    toRemove = ['fm','am',\"n't\", 'sent', 'fw', 'pm', 'fwd', 're','cc', 'attachments', \"rv\", \"al\", \"aq\", \"la\", \"ben\"]\n",
    "    stopwordlist.update(toRemove)  \n",
    "    liste=[word for word in String if word.lower() not in stopwordlist]\n",
    "    return liste\n",
    "\n",
    "def removeChar(string):\n",
    "    return re.sub(\"[^a-zA-Z]+\", \" \", string)\n",
    "\n",
    "def lowerCase(string):\n",
    "    return string.lower()"
   ]
  },
  {
   "cell_type": "code",
   "execution_count": 5,
   "metadata": {
    "collapsed": false
   },
   "outputs": [],
   "source": [
    "i=0\n",
    "for mail in raw:    \n",
    "    cleaned_raw=mail\n",
    "    cleaned_raw=lowerCase(cleaned_raw)\n",
    "    cleaned_raw=nltk.word_tokenize(cleaned_raw)\n",
    "    cleaned_raw=removeStopWords(cleaned_raw)\n",
    "    cleaned_raw=' '.join(cleaned_raw)\n",
    "    cleaned_raw=removeChar(cleaned_raw)\n",
    "    cleaned_raw=[token for token in cleaned_raw.split() if len(token)>1]\n",
    "    raw[i]= \" \".join(cleaned_raw)\n",
    "    i+=1"
   ]
  },
  {
   "cell_type": "markdown",
   "metadata": {},
   "source": [
    "- We only take emails with more than 3 tokens"
   ]
  },
  {
   "cell_type": "code",
   "execution_count": 6,
   "metadata": {
    "collapsed": false
   },
   "outputs": [],
   "source": [
    "raw=[mail for mail in raw if len(mail.split())>3]"
   ]
  },
  {
   "cell_type": "code",
   "execution_count": 7,
   "metadata": {
    "collapsed": false
   },
   "outputs": [
    {
     "data": {
      "text/plain": [
       "'sullivan jacob sullivanjj state gov monday march mexico tuna dolphin case already pinged wha get recommendation approach tomorrow would guess call kirk follow up nsc game plan first thing'"
      ]
     },
     "execution_count": 7,
     "metadata": {},
     "output_type": "execute_result"
    }
   ],
   "source": [
    "raw[1004]"
   ]
  },
  {
   "cell_type": "markdown",
   "metadata": {},
   "source": [
    "## SENTIMENT ANALYSIS"
   ]
  },
  {
   "cell_type": "markdown",
   "metadata": {},
   "source": [
    "- After the Cleaning part we append the list of all countries in the list Countries by using pycountry\n",
    "- Below, you can see that we deal with special cases manually : for instance, we replace 'Korea, Republic of' by 'south korea'"
   ]
  },
  {
   "cell_type": "code",
   "execution_count": 8,
   "metadata": {
    "collapsed": false,
    "scrolled": true
   },
   "outputs": [
    {
     "name": "stdout",
     "output_type": "stream",
     "text": [
      "Bonaire, Sint Eustatius and Saba\n",
      "Bolivia, Plurinational State of\n",
      "Congo, The Democratic Republic of the\n",
      "Micronesia, Federated States of\n",
      "Iran, Islamic Republic of\n",
      "Korea, Republic of\n",
      "Moldova, Republic of\n",
      "Macedonia, Republic of\n",
      "Korea, Democratic People's Republic of\n",
      "Palestine, State of\n",
      "Saint Helena, Ascension and Tristan da Cunha\n",
      "Taiwan, Province of China\n",
      "Tanzania, United Republic of\n",
      "Venezuela, Bolivarian Republic of\n",
      "Virgin Islands, British\n",
      "Virgin Islands, U.S.\n"
     ]
    }
   ],
   "source": [
    "Countries=[]\n",
    "for i in range(len(pycountry.countries)):\n",
    "    if ',' in list(pycountry.countries)[i].name:\n",
    "        print(list(pycountry.countries)[i].name)\n",
    "        if list(pycountry.countries)[i].name=='Korea, Republic of':\n",
    "            Countries.append('South Korea')\n",
    "        else:\n",
    "            if list(pycountry.countries)[i].name=='Korea, Democratic People\\'s Republic of':\n",
    "                Countries.append('North Korea')\n",
    "            else:\n",
    "                if list(pycountry.countries)[i].name=='Congo, The Democratic Republic of the':\n",
    "                    Countries.append('Democratic Republic of the Congo')\n",
    "                else:\n",
    "                    if list(pycountry.countries)[i].name=='Virgin Islands, British':\n",
    "                        Countries.append('British Virgin Islands')\n",
    "                    else:\n",
    "                        if list(pycountry.countries)[i].name=='Virgin Islands, U.S.':\n",
    "                            Countries.append('U.S. Virgin Islands')\n",
    "                        else:\n",
    "                            Countries.append(list(pycountry.countries)[i].name.split(',')[0])\n",
    "    else:\n",
    " \n",
    "        if list(pycountry.countries)[i].name=='Syrian Arab Republic':\n",
    "            Countries.append('Syria')\n",
    "        else:\n",
    "            if list(pycountry.countries)[i].name=='Russian Federation':  \n",
    "                Countries.append('Russia')\n",
    "            else:\n",
    "                Countries.append(list(pycountry.countries)[i].name)"
   ]
  },
  {
   "cell_type": "markdown",
   "metadata": {},
   "source": [
    "- Then we create a dictionary Country_check with keys all the countries appended before in Countries and as values the name of the country and the alpha_2 and alpha_3 codes\n",
    "- For example : 'Morocco':['Morocco', 'morocco', 'MA', 'MAR']"
   ]
  },
  {
   "cell_type": "code",
   "execution_count": 9,
   "metadata": {
    "collapsed": false
   },
   "outputs": [],
   "source": [
    "Country_check={}\n",
    "for i in range(len(list(pycountry.countries))):\n",
    "    Country_check[Countries[i]]=[Countries[i],Countries[i].lower(),list(pycountry.countries)[i].alpha_2,list(pycountry.countries)[i].alpha_3]"
   ]
  },
  {
   "cell_type": "markdown",
   "metadata": {},
   "source": [
    "- We refine United kingdom key"
   ]
  },
  {
   "cell_type": "code",
   "execution_count": 12,
   "metadata": {
    "collapsed": false
   },
   "outputs": [],
   "source": [
    "Country_check['United Kingdom'].extend(['GB','UK', 'Great Britain', 'great britain'])"
   ]
  },
  {
   "cell_type": "markdown",
   "metadata": {},
   "source": [
    "- Here we create a dataframe with two columns : Frequencey and Sentiment and as indexes the country names\n",
    "- each time a country will be in one of hillary emails we will update the corresponding values in the dataframe"
   ]
  },
  {
   "cell_type": "code",
   "execution_count": 14,
   "metadata": {
    "collapsed": false
   },
   "outputs": [
    {
     "data": {
      "text/html": [
       "<div>\n",
       "<table border=\"1\" class=\"dataframe\">\n",
       "  <thead>\n",
       "    <tr style=\"text-align: right;\">\n",
       "      <th></th>\n",
       "      <th>Frequency</th>\n",
       "      <th>SentimentVader</th>\n",
       "    </tr>\n",
       "  </thead>\n",
       "  <tbody>\n",
       "    <tr>\n",
       "      <th>Aruba</th>\n",
       "      <td>0.0</td>\n",
       "      <td>0.0</td>\n",
       "    </tr>\n",
       "    <tr>\n",
       "      <th>Afghanistan</th>\n",
       "      <td>0.0</td>\n",
       "      <td>0.0</td>\n",
       "    </tr>\n",
       "    <tr>\n",
       "      <th>Angola</th>\n",
       "      <td>0.0</td>\n",
       "      <td>0.0</td>\n",
       "    </tr>\n",
       "    <tr>\n",
       "      <th>Anguilla</th>\n",
       "      <td>0.0</td>\n",
       "      <td>0.0</td>\n",
       "    </tr>\n",
       "  </tbody>\n",
       "</table>\n",
       "</div>"
      ],
      "text/plain": [
       "             Frequency  SentimentVader\n",
       "Aruba              0.0             0.0\n",
       "Afghanistan        0.0             0.0\n",
       "Angola             0.0             0.0\n",
       "Anguilla           0.0             0.0"
      ]
     },
     "execution_count": 14,
     "metadata": {},
     "output_type": "execute_result"
    }
   ],
   "source": [
    "dataCount = pd.DataFrame(index=Countries, columns=['Frequency', 'SentimentVader'])\n",
    "dataCount.fillna(0.0,inplace=True)\n",
    "dataCount.head(4)"
   ]
  },
  {
   "cell_type": "markdown",
   "metadata": {},
   "source": [
    "### VADER SENTIMENT ANALYZER"
   ]
  },
  {
   "cell_type": "markdown",
   "metadata": {},
   "source": [
    "- In this part, we will use vader sentiment analyzer to do a sentiment analysis on hillary emails with regard to different countries"
   ]
  },
  {
   "cell_type": "code",
   "execution_count": 15,
   "metadata": {
    "collapsed": true
   },
   "outputs": [],
   "source": [
    "sid = SentimentIntensityAnalyzer()"
   ]
  },
  {
   "cell_type": "markdown",
   "metadata": {},
   "source": [
    "- checkCountryMail is a function that given a particular email is gonna update the sentiment and frequency of each country in the dataFrame\n",
    "- As you can see for this function we only consider the name of the country, to refine the analysis one could add bothe the alpha_3 and alpha_2 code by iterating over all elements of Country_check values\n",
    "- We decided to keep only the names for sake of precision since one could easily mistake the alpha_2 and alpha_3 code by another english word."
   ]
  },
  {
   "cell_type": "code",
   "execution_count": 16,
   "metadata": {
    "collapsed": false
   },
   "outputs": [],
   "source": [
    "def checkCountryMail_Vader(mail):\n",
    "    for value in Country_check.values():\n",
    "        for i in [0,1]:\n",
    "            if value[i] in mail:\n",
    "                dataCount.set_value(value[0], 'Frequency',dataCount.get_value(value[0], 'Frequency')+1)\n",
    "                dataCount.set_value(value[0], 'SentimentVader',dataCount.get_value(value[0], 'SentimentVader')+sid.polarity_scores(mail)['compound'])"
   ]
  },
  {
   "cell_type": "markdown",
   "metadata": {},
   "source": [
    "- Updating the data frame for each email and subject in our cleaned corpus ..."
   ]
  },
  {
   "cell_type": "code",
   "execution_count": 17,
   "metadata": {
    "collapsed": false
   },
   "outputs": [],
   "source": [
    "for mail in raw:\n",
    "    checkCountryMail_Vader(mail)"
   ]
  },
  {
   "cell_type": "markdown",
   "metadata": {},
   "source": [
    "- We create a copy of the obtained dataFrame and we choose the countries that has been cited more than 20 times in hillary emails"
   ]
  },
  {
   "cell_type": "code",
   "execution_count": 18,
   "metadata": {
    "collapsed": true
   },
   "outputs": [],
   "source": [
    "dataCount1 = dataCount.copy()\n"
   ]
  },
  {
   "cell_type": "code",
   "execution_count": 19,
   "metadata": {
    "collapsed": true
   },
   "outputs": [],
   "source": [
    "dataCount1=dataCount1[dataCount1['Frequency']>20]\n"
   ]
  },
  {
   "cell_type": "code",
   "execution_count": 20,
   "metadata": {
    "collapsed": false
   },
   "outputs": [
    {
     "data": {
      "text/html": [
       "<div>\n",
       "<table border=\"1\" class=\"dataframe\">\n",
       "  <thead>\n",
       "    <tr style=\"text-align: right;\">\n",
       "      <th></th>\n",
       "      <th>Frequency</th>\n",
       "      <th>SentimentVader</th>\n",
       "    </tr>\n",
       "  </thead>\n",
       "  <tbody>\n",
       "    <tr>\n",
       "      <th>Afghanistan</th>\n",
       "      <td>126.0</td>\n",
       "      <td>41.7973</td>\n",
       "    </tr>\n",
       "    <tr>\n",
       "      <th>Armenia</th>\n",
       "      <td>36.0</td>\n",
       "      <td>7.0112</td>\n",
       "    </tr>\n",
       "    <tr>\n",
       "      <th>Brazil</th>\n",
       "      <td>49.0</td>\n",
       "      <td>20.0580</td>\n",
       "    </tr>\n",
       "    <tr>\n",
       "      <th>Canada</th>\n",
       "      <td>21.0</td>\n",
       "      <td>3.4457</td>\n",
       "    </tr>\n",
       "    <tr>\n",
       "      <th>China</th>\n",
       "      <td>115.0</td>\n",
       "      <td>38.8469</td>\n",
       "    </tr>\n",
       "  </tbody>\n",
       "</table>\n",
       "</div>"
      ],
      "text/plain": [
       "             Frequency  SentimentVader\n",
       "Afghanistan      126.0         41.7973\n",
       "Armenia           36.0          7.0112\n",
       "Brazil            49.0         20.0580\n",
       "Canada            21.0          3.4457\n",
       "China            115.0         38.8469"
      ]
     },
     "execution_count": 20,
     "metadata": {},
     "output_type": "execute_result"
    }
   ],
   "source": [
    "dataCount1.head()"
   ]
  },
  {
   "cell_type": "code",
   "execution_count": 21,
   "metadata": {
    "collapsed": false
   },
   "outputs": [
    {
     "data": {
      "image/png": "[encoded data removed]",
      "text/plain": [
       "<matplotlib.figure.Figure at 0x1031be080>"
      ]
     },
     "metadata": {},
     "output_type": "display_data"
    }
   ],
   "source": [
    "from matplotlib import cm\n",
    "import numpy as np\n",
    "\n",
    "plt.figure(figsize=(16, 10))\n",
    "y = np.array(dataCount1['SentimentVader']/dataCount1['Frequency'])\n",
    "colors = cm.RdYlGn(y / float(max(y)-min(y)))\n",
    "plot = plt.scatter(y, y, c=y, cmap = 'RdYlGn')\n",
    "plt.clf()\n",
    "clb = plt.colorbar(plot)\n",
    "clb.ax.set_title(\"Sentiment Vader\")\n",
    "\n",
    "plt.bar(range(dataCount1.shape[0]), dataCount1['Frequency'], align='center', tick_label=dataCount1.index, color=colors)\n",
    "plt.xticks(rotation=45, ha='right')\n",
    "plt.xlabel(\"Country\")\n",
    "plt.ylabel(\"Frequency\")\n",
    "plt.show()"
   ]
  },
  {
   "cell_type": "markdown",
   "metadata": {},
   "source": [
    "## LIU HU SENTIMENT"
   ]
  },
  {
   "cell_type": "markdown",
   "metadata": {},
   "source": [
    "- Now, we try the LIU HU sentiment analyzer :\n",
    "- We check the sentiment of every word on each email that contain at least one country and we label it as 1 : positive\n",
    "- -1 : negative or 0 : neutral"
   ]
  },
  {
   "cell_type": "code",
   "execution_count": 22,
   "metadata": {
    "collapsed": false
   },
   "outputs": [
    {
     "data": {
      "text/html": [
       "<div>\n",
       "<table border=\"1\" class=\"dataframe\">\n",
       "  <thead>\n",
       "    <tr style=\"text-align: right;\">\n",
       "      <th></th>\n",
       "      <th>Frequency</th>\n",
       "      <th>SentimentLiuHu</th>\n",
       "    </tr>\n",
       "  </thead>\n",
       "  <tbody>\n",
       "    <tr>\n",
       "      <th>Aruba</th>\n",
       "      <td>0.0</td>\n",
       "      <td>0.0</td>\n",
       "    </tr>\n",
       "    <tr>\n",
       "      <th>Afghanistan</th>\n",
       "      <td>0.0</td>\n",
       "      <td>0.0</td>\n",
       "    </tr>\n",
       "    <tr>\n",
       "      <th>Angola</th>\n",
       "      <td>0.0</td>\n",
       "      <td>0.0</td>\n",
       "    </tr>\n",
       "    <tr>\n",
       "      <th>Anguilla</th>\n",
       "      <td>0.0</td>\n",
       "      <td>0.0</td>\n",
       "    </tr>\n",
       "  </tbody>\n",
       "</table>\n",
       "</div>"
      ],
      "text/plain": [
       "             Frequency  SentimentLiuHu\n",
       "Aruba              0.0             0.0\n",
       "Afghanistan        0.0             0.0\n",
       "Angola             0.0             0.0\n",
       "Anguilla           0.0             0.0"
      ]
     },
     "execution_count": 22,
     "metadata": {},
     "output_type": "execute_result"
    }
   ],
   "source": [
    "dataCount_LiuHu = pd.DataFrame(index=Countries, columns=['Frequency', 'SentimentLiuHu'])\n",
    "dataCount_LiuHu.fillna(0.0,inplace=True)\n",
    "dataCount_LiuHu.head(4)"
   ]
  },
  {
   "cell_type": "code",
   "execution_count": 23,
   "metadata": {
    "collapsed": true
   },
   "outputs": [],
   "source": [
    "def getSentimentLiuHu(mail):\n",
    "    score=0\n",
    "    for token in nltk.word_tokenize(mail):\n",
    "        if token in opinion_lexicon.positive():\n",
    "            score+=1\n",
    "        else: \n",
    "            if token in  opinion_lexicon.negative():\n",
    "                score-=1\n",
    "    return score/len(nltk.word_tokenize(mail))"
   ]
  },
  {
   "cell_type": "markdown",
   "metadata": {},
   "source": [
    "- Here we update the dataframe"
   ]
  },
  {
   "cell_type": "code",
   "execution_count": 24,
   "metadata": {
    "collapsed": true
   },
   "outputs": [],
   "source": [
    "def checkCountryMail_LiuHu(mail):\n",
    "    for value in Country_check.values():\n",
    "        for i in range(len(value)):\n",
    "            if value[i] in mail:\n",
    "                dataCount_LiuHu.set_value(value[0], 'Frequency',dataCount_LiuHu.get_value(value[0], 'Frequency')+1)\n",
    "                dataCount_LiuHu.set_value(value[0], 'SentimentLiuHu',dataCount_LiuHu.get_value(value[0], 'SentimentLiuHu')+getSentimentLiuHu(mail))"
   ]
  },
  {
   "cell_type": "code",
   "execution_count": 27,
   "metadata": {
    "collapsed": false
   },
   "outputs": [
    {
     "name": "stdout",
     "output_type": "stream",
     "text": [
      "0\n",
      "20\n",
      "40\n",
      "60\n",
      "80\n",
      "100\n",
      "120\n",
      "140\n",
      "160\n",
      "180\n",
      "200\n",
      "220\n",
      "240\n",
      "260\n",
      "280\n",
      "300\n",
      "320\n",
      "340\n",
      "360\n",
      "380\n",
      "400\n",
      "420\n",
      "440\n",
      "460\n",
      "480\n",
      "500\n",
      "520\n",
      "540\n",
      "560\n",
      "580\n",
      "600\n",
      "620\n",
      "640\n",
      "660\n",
      "680\n",
      "700\n",
      "720\n",
      "740\n",
      "760\n",
      "780\n",
      "800\n",
      "820\n",
      "840\n",
      "860\n",
      "880\n",
      "900\n",
      "920\n",
      "940\n",
      "960\n",
      "980\n",
      "1000\n",
      "1020\n",
      "1040\n",
      "1060\n",
      "1080\n",
      "1100\n",
      "1120\n",
      "1140\n",
      "1160\n",
      "1180\n",
      "1200\n",
      "1220\n",
      "1240\n",
      "1260\n",
      "1280\n",
      "1300\n",
      "1320\n",
      "1340\n",
      "1360\n",
      "1380\n",
      "1400\n",
      "1420\n",
      "1440\n",
      "1460\n",
      "1480\n",
      "1500\n",
      "1520\n",
      "1540\n",
      "1560\n",
      "1580\n",
      "1600\n",
      "1620\n",
      "1640\n",
      "1660\n",
      "1680\n",
      "1700\n",
      "1720\n",
      "1740\n",
      "1760\n",
      "1780\n",
      "1800\n",
      "1820\n",
      "1840\n",
      "1860\n",
      "1880\n",
      "1900\n",
      "1920\n",
      "1940\n",
      "1960\n",
      "1980\n",
      "2000\n",
      "2020\n",
      "2040\n",
      "2060\n",
      "2080\n",
      "2100\n",
      "2120\n",
      "2140\n",
      "2160\n",
      "2180\n",
      "2200\n",
      "2220\n",
      "2240\n",
      "2260\n",
      "2280\n",
      "2300\n",
      "2320\n",
      "2340\n",
      "2360\n",
      "2380\n",
      "2400\n",
      "2420\n",
      "2440\n",
      "2460\n",
      "2480\n",
      "2500\n",
      "2520\n",
      "2540\n",
      "2560\n",
      "2580\n",
      "2600\n",
      "2620\n",
      "2640\n",
      "2660\n",
      "2680\n",
      "2700\n",
      "2720\n",
      "2740\n",
      "2760\n",
      "2780\n",
      "2800\n",
      "2820\n",
      "2840\n",
      "2860\n",
      "2880\n",
      "2900\n",
      "2920\n",
      "2940\n",
      "2960\n",
      "2980\n",
      "3000\n",
      "3020\n",
      "3040\n",
      "3060\n",
      "3080\n",
      "3100\n",
      "3120\n",
      "3140\n",
      "3160\n",
      "3180\n",
      "3200\n",
      "3220\n",
      "3240\n",
      "3260\n",
      "3280\n",
      "3300\n",
      "3320\n",
      "3340\n",
      "3360\n",
      "3380\n",
      "3400\n",
      "3420\n",
      "3440\n",
      "3460\n",
      "3480\n",
      "3500\n",
      "3520\n",
      "3540\n",
      "3560\n",
      "3580\n",
      "3600\n",
      "3620\n",
      "3640\n",
      "3660\n",
      "3680\n",
      "3700\n",
      "3720\n",
      "3740\n",
      "3760\n",
      "3780\n",
      "3800\n",
      "3820\n",
      "3840\n",
      "3860\n",
      "3880\n",
      "3900\n",
      "3920\n",
      "3940\n",
      "3960\n",
      "3980\n",
      "4000\n",
      "4020\n",
      "4040\n",
      "4060\n",
      "4080\n",
      "4100\n",
      "4120\n",
      "4140\n",
      "4160\n",
      "4180\n",
      "4200\n",
      "4220\n",
      "4240\n",
      "4260\n",
      "4280\n",
      "4300\n",
      "4320\n",
      "4340\n",
      "4360\n",
      "4380\n",
      "4400\n",
      "4420\n",
      "4440\n",
      "4460\n",
      "4480\n",
      "4500\n",
      "4520\n",
      "4540\n",
      "4560\n",
      "4580\n",
      "4600\n",
      "4620\n",
      "4640\n",
      "4660\n",
      "4680\n",
      "4700\n",
      "4720\n",
      "4740\n",
      "4760\n",
      "4780\n",
      "4800\n",
      "4820\n",
      "4840\n",
      "4860\n",
      "4880\n",
      "4900\n",
      "4920\n",
      "4940\n",
      "4960\n",
      "4980\n",
      "5000\n",
      "5020\n",
      "5040\n",
      "5060\n",
      "5080\n",
      "5100\n",
      "5120\n",
      "5140\n",
      "5160\n",
      "5180\n",
      "5200\n",
      "5220\n",
      "5240\n",
      "5260\n",
      "5280\n",
      "5300\n",
      "5320\n",
      "5340\n",
      "5360\n",
      "5380\n",
      "5400\n",
      "5420\n",
      "5440\n",
      "5460\n",
      "5480\n",
      "5500\n",
      "5520\n",
      "5540\n",
      "5560\n",
      "5580\n",
      "5600\n",
      "5620\n",
      "5640\n",
      "5660\n",
      "5680\n",
      "5700\n",
      "5720\n",
      "5740\n",
      "5760\n",
      "5780\n",
      "5800\n",
      "5820\n",
      "5840\n",
      "5860\n",
      "5880\n",
      "5900\n",
      "5920\n",
      "5940\n",
      "5960\n",
      "5980\n",
      "6000\n",
      "6020\n",
      "6040\n",
      "6060\n",
      "6080\n",
      "6100\n",
      "6120\n",
      "6140\n",
      "6160\n",
      "6180\n",
      "6200\n",
      "6220\n",
      "6240\n",
      "6260\n",
      "6280\n",
      "6300\n",
      "6320\n",
      "6340\n"
     ]
    }
   ],
   "source": [
    "i=0\n",
    "for mail in raw:\n",
    "    if i%20==0:\n",
    "        print(i)\n",
    "    i+=1\n",
    "    checkCountryMail_LiuHu(mail)"
   ]
  },
  {
   "cell_type": "code",
   "execution_count": 47,
   "metadata": {
    "collapsed": true
   },
   "outputs": [],
   "source": [
    "dataCount2 = dataCount_LiuHu.copy()"
   ]
  },
  {
   "cell_type": "code",
   "execution_count": 48,
   "metadata": {
    "collapsed": true
   },
   "outputs": [],
   "source": [
    "dataCount2=dataCount2[dataCount2['Frequency']>20]"
   ]
  },
  {
   "cell_type": "code",
   "execution_count": 50,
   "metadata": {
    "collapsed": false
   },
   "outputs": [
    {
     "data": {
      "text/html": [
       "<div>\n",
       "<table border=\"1\" class=\"dataframe\">\n",
       "  <thead>\n",
       "    <tr style=\"text-align: right;\">\n",
       "      <th></th>\n",
       "      <th>Frequency</th>\n",
       "      <th>SentimentLiuHu</th>\n",
       "    </tr>\n",
       "  </thead>\n",
       "  <tbody>\n",
       "    <tr>\n",
       "      <th>Afghanistan</th>\n",
       "      <td>126.0</td>\n",
       "      <td>1.788153</td>\n",
       "    </tr>\n",
       "    <tr>\n",
       "      <th>Armenia</th>\n",
       "      <td>36.0</td>\n",
       "      <td>0.339321</td>\n",
       "    </tr>\n",
       "    <tr>\n",
       "      <th>Brazil</th>\n",
       "      <td>49.0</td>\n",
       "      <td>0.491642</td>\n",
       "    </tr>\n",
       "    <tr>\n",
       "      <th>Canada</th>\n",
       "      <td>21.0</td>\n",
       "      <td>0.171387</td>\n",
       "    </tr>\n",
       "    <tr>\n",
       "      <th>China</th>\n",
       "      <td>115.0</td>\n",
       "      <td>1.154177</td>\n",
       "    </tr>\n",
       "    <tr>\n",
       "      <th>Colombia</th>\n",
       "      <td>25.0</td>\n",
       "      <td>0.529178</td>\n",
       "    </tr>\n",
       "    <tr>\n",
       "      <th>Cuba</th>\n",
       "      <td>32.0</td>\n",
       "      <td>0.079169</td>\n",
       "    </tr>\n",
       "    <tr>\n",
       "      <th>Germany</th>\n",
       "      <td>26.0</td>\n",
       "      <td>-0.068150</td>\n",
       "    </tr>\n",
       "    <tr>\n",
       "      <th>Egypt</th>\n",
       "      <td>58.0</td>\n",
       "      <td>0.210380</td>\n",
       "    </tr>\n",
       "    <tr>\n",
       "      <th>France</th>\n",
       "      <td>28.0</td>\n",
       "      <td>-0.196512</td>\n",
       "    </tr>\n",
       "    <tr>\n",
       "      <th>Guinea</th>\n",
       "      <td>22.0</td>\n",
       "      <td>0.660389</td>\n",
       "    </tr>\n",
       "    <tr>\n",
       "      <th>Honduras</th>\n",
       "      <td>61.0</td>\n",
       "      <td>2.188749</td>\n",
       "    </tr>\n",
       "    <tr>\n",
       "      <th>Haiti</th>\n",
       "      <td>188.0</td>\n",
       "      <td>4.495883</td>\n",
       "    </tr>\n",
       "    <tr>\n",
       "      <th>Indonesia</th>\n",
       "      <td>32.0</td>\n",
       "      <td>1.246447</td>\n",
       "    </tr>\n",
       "    <tr>\n",
       "      <th>India</th>\n",
       "      <td>87.0</td>\n",
       "      <td>1.961406</td>\n",
       "    </tr>\n",
       "    <tr>\n",
       "      <th>Ireland</th>\n",
       "      <td>48.0</td>\n",
       "      <td>-0.164323</td>\n",
       "    </tr>\n",
       "    <tr>\n",
       "      <th>Iran</th>\n",
       "      <td>181.0</td>\n",
       "      <td>2.008804</td>\n",
       "    </tr>\n",
       "    <tr>\n",
       "      <th>Iraq</th>\n",
       "      <td>93.0</td>\n",
       "      <td>0.992643</td>\n",
       "    </tr>\n",
       "    <tr>\n",
       "      <th>Israel</th>\n",
       "      <td>186.0</td>\n",
       "      <td>-1.022134</td>\n",
       "    </tr>\n",
       "    <tr>\n",
       "      <th>Jordan</th>\n",
       "      <td>30.0</td>\n",
       "      <td>0.419162</td>\n",
       "    </tr>\n",
       "    <tr>\n",
       "      <th>Japan</th>\n",
       "      <td>38.0</td>\n",
       "      <td>0.502627</td>\n",
       "    </tr>\n",
       "    <tr>\n",
       "      <th>Libya</th>\n",
       "      <td>114.0</td>\n",
       "      <td>-0.936551</td>\n",
       "    </tr>\n",
       "    <tr>\n",
       "      <th>Sri Lanka</th>\n",
       "      <td>24.0</td>\n",
       "      <td>-0.063667</td>\n",
       "    </tr>\n",
       "    <tr>\n",
       "      <th>Mexico</th>\n",
       "      <td>49.0</td>\n",
       "      <td>0.511740</td>\n",
       "    </tr>\n",
       "    <tr>\n",
       "      <th>Mali</th>\n",
       "      <td>39.0</td>\n",
       "      <td>0.193970</td>\n",
       "    </tr>\n",
       "    <tr>\n",
       "      <th>Oman</th>\n",
       "      <td>96.0</td>\n",
       "      <td>1.262399</td>\n",
       "    </tr>\n",
       "    <tr>\n",
       "      <th>Pakistan</th>\n",
       "      <td>144.0</td>\n",
       "      <td>-0.159250</td>\n",
       "    </tr>\n",
       "    <tr>\n",
       "      <th>North Korea</th>\n",
       "      <td>39.0</td>\n",
       "      <td>-0.175107</td>\n",
       "    </tr>\n",
       "    <tr>\n",
       "      <th>Qatar</th>\n",
       "      <td>29.0</td>\n",
       "      <td>1.110041</td>\n",
       "    </tr>\n",
       "    <tr>\n",
       "      <th>Russia</th>\n",
       "      <td>103.0</td>\n",
       "      <td>0.988958</td>\n",
       "    </tr>\n",
       "    <tr>\n",
       "      <th>Sudan</th>\n",
       "      <td>31.0</td>\n",
       "      <td>0.694042</td>\n",
       "    </tr>\n",
       "    <tr>\n",
       "      <th>Syria</th>\n",
       "      <td>33.0</td>\n",
       "      <td>0.232140</td>\n",
       "    </tr>\n",
       "    <tr>\n",
       "      <th>Turkey</th>\n",
       "      <td>61.0</td>\n",
       "      <td>0.644971</td>\n",
       "    </tr>\n",
       "    <tr>\n",
       "      <th>United States</th>\n",
       "      <td>165.0</td>\n",
       "      <td>1.078951</td>\n",
       "    </tr>\n",
       "  </tbody>\n",
       "</table>\n",
       "</div>"
      ],
      "text/plain": [
       "               Frequency  SentimentLiuHu\n",
       "Afghanistan        126.0        1.788153\n",
       "Armenia             36.0        0.339321\n",
       "Brazil              49.0        0.491642\n",
       "Canada              21.0        0.171387\n",
       "China              115.0        1.154177\n",
       "Colombia            25.0        0.529178\n",
       "Cuba                32.0        0.079169\n",
       "Germany             26.0       -0.068150\n",
       "Egypt               58.0        0.210380\n",
       "France              28.0       -0.196512\n",
       "Guinea              22.0        0.660389\n",
       "Honduras            61.0        2.188749\n",
       "Haiti              188.0        4.495883\n",
       "Indonesia           32.0        1.246447\n",
       "India               87.0        1.961406\n",
       "Ireland             48.0       -0.164323\n",
       "Iran               181.0        2.008804\n",
       "Iraq                93.0        0.992643\n",
       "Israel             186.0       -1.022134\n",
       "Jordan              30.0        0.419162\n",
       "Japan               38.0        0.502627\n",
       "Libya              114.0       -0.936551\n",
       "Sri Lanka           24.0       -0.063667\n",
       "Mexico              49.0        0.511740\n",
       "Mali                39.0        0.193970\n",
       "Oman                96.0        1.262399\n",
       "Pakistan           144.0       -0.159250\n",
       "North Korea         39.0       -0.175107\n",
       "Qatar               29.0        1.110041\n",
       "Russia             103.0        0.988958\n",
       "Sudan               31.0        0.694042\n",
       "Syria               33.0        0.232140\n",
       "Turkey              61.0        0.644971\n",
       "United States      165.0        1.078951"
      ]
     },
     "execution_count": 50,
     "metadata": {},
     "output_type": "execute_result"
    }
   ],
   "source": [
    "dataCount2"
   ]
  },
  {
   "cell_type": "code",
   "execution_count": 53,
   "metadata": {
    "collapsed": false
   },
   "outputs": [
    {
     "data": {
      "image/png": "[encoded data removed]",
      "text/plain": [
       "<matplotlib.figure.Figure at 0x10dd4bf28>"
      ]
     },
     "metadata": {},
     "output_type": "display_data"
    }
   ],
   "source": [
    "plt.figure(figsize=(16, 10))\n",
    "y = np.array(dataCount2['SentimentLiuHu']/dataCount2['Frequency'])\n",
    "colors = cm.RdYlGn(y / float(max(y)-min(y)))\n",
    "plot = plt.scatter(y, y, c=y, cmap = 'RdYlGn')\n",
    "plt.clf()\n",
    "clb = plt.colorbar(plot)\n",
    "clb.ax.set_title(\"Sentiment Vader\")\n",
    "\n",
    "plt.bar(range(dataCount2.shape[0]), dataCount2['Frequency'], align='center', tick_label=dataCount2.index, color=colors)\n",
    "plt.xticks(rotation=45, ha='right')\n",
    "plt.xlabel(\"Country\")\n",
    "plt.ylabel(\"Frequency\")\n",
    "plt.show()"
   ]
  },
  {
   "cell_type": "markdown",
   "metadata": {},
   "source": [
    "- We notice that there is a significant difference between Liu Hu sentiment analyzer and Vader sentiment analyzer\n",
    "- There are a lot more negative sentiments with regard to the countries for Liu hu sentiment analyzer\n",
    "- This is probably due for considering each word of the corpus as one of positive negative or neutral\n",
    "- you can see an example of it below :\n",
    "- the word crime is rated as -0.543 for the vader analyzer and by -1 for Liu Hu\n",
    "- Hillary uses a lot of words that are rated -1 by Liu hu, which explains the difference of ratings between those two analyzers."
   ]
  },
  {
   "cell_type": "code",
   "execution_count": 58,
   "metadata": {
    "collapsed": false
   },
   "outputs": [
    {
     "data": {
      "text/plain": [
       "-1.0"
      ]
     },
     "execution_count": 58,
     "metadata": {},
     "output_type": "execute_result"
    }
   ],
   "source": [
    "getSentimentLiuHu('crime')"
   ]
  },
  {
   "cell_type": "code",
   "execution_count": 59,
   "metadata": {
    "collapsed": false
   },
   "outputs": [
    {
     "data": {
      "text/plain": [
       "-0.5423"
      ]
     },
     "execution_count": 59,
     "metadata": {},
     "output_type": "execute_result"
    }
   ],
   "source": [
    "sid.polarity_scores('crime')['compound']"
   ]
  }
 ],
 "metadata": {
  "kernelspec": {
   "display_name": "Python 3",
   "language": "python",
   "name": "python3"
  },
  "language_info": {
   "codemirror_mode": {
    "name": "ipython",
    "version": 3
   },
   "file_extension": ".py",
   "mimetype": "text/x-python",
   "name": "python",
   "nbconvert_exporter": "python",
   "pygments_lexer": "ipython3",
   "version": "3.5.2"
  }
 },
 "nbformat": 4,
 "nbformat_minor": 1
}

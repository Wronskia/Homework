{
 "cells": [
  {
   "cell_type": "code",
   "execution_count": 1,
   "metadata": {
    "collapsed": true
   },
   "outputs": [],
   "source": [
    "from nltk.sentiment.util import *\n",
    "from nltk.sentiment import SentimentIntensityAnalyzer\n",
    "import pycountry\n",
    "from nltk.corpus import words\n",
    "import pandas as pd\n",
    "import nltk\n",
    "import pandas as pd\n",
    "import re\n",
    "from nltk.corpus import stopwords\n",
    "from nltk.tokenize import sent_tokenize, word_tokenize\n",
    "from nltk.stem.wordnet import WordNetLemmatizer\n",
    "import matplotlib.pyplot as plt\n",
    "from nltk.corpus import opinion_lexicon\n",
    "\n",
    "%matplotlib inline"
   ]
  },
  {
   "cell_type": "markdown",
   "metadata": {},
   "source": [
    "# Sentiment analysis on hillary clinton Emails"
   ]
  },
  {
   "cell_type": "markdown",
   "metadata": {},
   "source": [
    "- For this exercises we will implement a sentiment analysis on hillary emails and grouping them by country"
   ]
  },
  {
   "cell_type": "code",
   "execution_count": 2,
   "metadata": {
    "collapsed": false
   },
   "outputs": [],
   "source": [
    "data=pd.read_csv(\"Emails.csv\")\n",
    "data.fillna(' ',inplace=True)"
   ]
  },
  {
   "cell_type": "markdown",
   "metadata": {},
   "source": [
    "- we load the data and we clean it to be able to use it for the sentiment analysis.\n",
    "- We don't lower the text since we think that it could be more significant that hillary uses for instance AM as an alpha_2 code for a country than am or Am that could represent 'I am in ..'\n",
    "- We remove stop words and non character tokens"
   ]
  },
  {
   "cell_type": "code",
   "execution_count": 3,
   "metadata": {
    "collapsed": false
   },
   "outputs": [],
   "source": [
    "raw=data['ExtractedSubject'] + ' ' + data['ExtractedBodyText'].tolist()"
   ]
  },
  {
   "cell_type": "markdown",
   "metadata": {},
   "source": [
    "- Here for the cleaning, we decided to lowercase all the emails but on could refine the analysis by removing this function and analyzing alpha_3 and alpha_2 codes"
   ]
  },
  {
   "cell_type": "markdown",
   "metadata": {},
   "source": [
    "## CLEANING"
   ]
  },
  {
   "cell_type": "code",
   "execution_count": 4,
   "metadata": {
    "collapsed": true
   },
   "outputs": [],
   "source": [
    "def removeStopWords(String):\n",
    "    stopwordlist = set(stopwords.words(\"english\"))\n",
    "    toRemove = ['fm','am',\"n't\", 'sent', 'fw', 'pm', 'fwd', 're','cc', 'attachments', \"rv\", \"al\", \"aq\", \"la\", \"ben\"]\n",
    "    stopwordlist.update(toRemove)  \n",
    "    liste=[word for word in String if word.lower() not in stopwordlist]\n",
    "    return liste\n",
    "\n",
    "def removeChar(string):\n",
    "    return re.sub(\"[^a-zA-Z]+\", \" \", string)\n",
    "\n",
    "def lowerCase(string):\n",
    "    return string.lower()"
   ]
  },
  {
   "cell_type": "code",
   "execution_count": 5,
   "metadata": {
    "collapsed": false
   },
   "outputs": [],
   "source": [
    "i=0\n",
    "for mail in raw:    \n",
    "    cleaned_raw=mail\n",
    "    cleaned_raw=lowerCase(cleaned_raw)\n",
    "    cleaned_raw=nltk.word_tokenize(cleaned_raw)\n",
    "    cleaned_raw=removeStopWords(cleaned_raw)\n",
    "    cleaned_raw=' '.join(cleaned_raw)\n",
    "    cleaned_raw=removeChar(cleaned_raw)\n",
    "    cleaned_raw=[token for token in cleaned_raw.split() if len(token)>1]\n",
    "    raw[i]= \" \".join(cleaned_raw)\n",
    "    i+=1"
   ]
  },
  {
   "cell_type": "markdown",
   "metadata": {},
   "source": [
    "- We only take emails with more than 3 tokens"
   ]
  },
  {
   "cell_type": "code",
   "execution_count": 6,
   "metadata": {
    "collapsed": false
   },
   "outputs": [],
   "source": [
    "raw=[mail for mail in raw if len(mail.split())>3]"
   ]
  },
  {
   "cell_type": "code",
   "execution_count": 7,
   "metadata": {
    "collapsed": false
   },
   "outputs": [
    {
     "data": {
      "text/plain": [
       "'sullivan jacob sullivanjj state gov monday march mexico tuna dolphin case already pinged wha get recommendation approach tomorrow would guess call kirk follow up nsc game plan first thing'"
      ]
     },
     "execution_count": 7,
     "metadata": {},
     "output_type": "execute_result"
    }
   ],
   "source": [
    "raw[1004]"
   ]
  },
  {
   "cell_type": "markdown",
   "metadata": {},
   "source": [
    "## SENTIMENT ANALYSIS"
   ]
  },
  {
   "cell_type": "markdown",
   "metadata": {},
   "source": [
    "- After the Cleaning part we append the list of all countries in the list Countries by using pycountry\n",
    "- Below, you can see that we deal with special cases manually : for instance, we replace 'Korea, Republic of' by 'south korea'"
   ]
  },
  {
   "cell_type": "code",
   "execution_count": 8,
   "metadata": {
    "collapsed": false,
    "scrolled": true
   },
   "outputs": [
    {
     "name": "stdout",
     "output_type": "stream",
     "text": [
      "Bonaire, Sint Eustatius and Saba\n",
      "Bolivia, Plurinational State of\n",
      "Congo, The Democratic Republic of the\n",
      "Micronesia, Federated States of\n",
      "Iran, Islamic Republic of\n",
      "Korea, Republic of\n",
      "Moldova, Republic of\n",
      "Macedonia, Republic of\n",
      "Korea, Democratic People's Republic of\n",
      "Palestine, State of\n",
      "Saint Helena, Ascension and Tristan da Cunha\n",
      "Taiwan, Province of China\n",
      "Tanzania, United Republic of\n",
      "Venezuela, Bolivarian Republic of\n",
      "Virgin Islands, British\n",
      "Virgin Islands, U.S.\n"
     ]
    }
   ],
   "source": [
    "Countries=[]\n",
    "for i in range(len(pycountry.countries)):\n",
    "    if ',' in list(pycountry.countries)[i].name:\n",
    "        print(list(pycountry.countries)[i].name)\n",
    "        if list(pycountry.countries)[i].name=='Korea, Republic of':\n",
    "            Countries.append('South Korea')\n",
    "        else:\n",
    "            if list(pycountry.countries)[i].name=='Korea, Democratic People\\'s Republic of':\n",
    "                Countries.append('North Korea')\n",
    "            else:\n",
    "                if list(pycountry.countries)[i].name=='Congo, The Democratic Republic of the':\n",
    "                    Countries.append('Democratic Republic of the Congo')\n",
    "                else:\n",
    "                    if list(pycountry.countries)[i].name=='Virgin Islands, British':\n",
    "                        Countries.append('British Virgin Islands')\n",
    "                    else:\n",
    "                        if list(pycountry.countries)[i].name=='Virgin Islands, U.S.':\n",
    "                            Countries.append('U.S. Virgin Islands')\n",
    "                        else:\n",
    "                            Countries.append(list(pycountry.countries)[i].name.split(',')[0])\n",
    "    else:\n",
    " \n",
    "        if list(pycountry.countries)[i].name=='Syrian Arab Republic':\n",
    "            Countries.append('Syria')\n",
    "        else:\n",
    "            if list(pycountry.countries)[i].name=='Russian Federation':  \n",
    "                Countries.append('Russia')\n",
    "            else:\n",
    "                Countries.append(list(pycountry.countries)[i].name)"
   ]
  },
  {
   "cell_type": "markdown",
   "metadata": {},
   "source": [
    "- Then we create a dictionary Country_check with keys all the countries appended before in Countries and as values the name of the country and the alpha_2 and alpha_3 codes\n",
    "- For example : 'Morocco':['Morocco', 'morocco', 'MA', 'MAR']"
   ]
  },
  {
   "cell_type": "code",
   "execution_count": 9,
   "metadata": {
    "collapsed": false
   },
   "outputs": [],
   "source": [
    "Country_check={}\n",
    "for i in range(len(list(pycountry.countries))):\n",
    "    Country_check[Countries[i]]=[Countries[i],Countries[i].lower(),list(pycountry.countries)[i].alpha_2,list(pycountry.countries)[i].alpha_3]"
   ]
  },
  {
   "cell_type": "markdown",
   "metadata": {},
   "source": [
    "- We refine United kingdom key"
   ]
  },
  {
   "cell_type": "code",
   "execution_count": 12,
   "metadata": {
    "collapsed": false
   },
   "outputs": [],
   "source": [
    "Country_check['United Kingdom'].extend(['GB','UK', 'Great Britain', 'great britain'])"
   ]
  },
  {
   "cell_type": "markdown",
   "metadata": {},
   "source": [
    "- Here we create a dataframe with two columns : Frequencey and Sentiment and as indexes the country names\n",
    "- each time a country will be in one of hillary emails we will update the corresponding values in the dataframe"
   ]
  },
  {
   "cell_type": "code",
   "execution_count": 14,
   "metadata": {
    "collapsed": false
   },
   "outputs": [
    {
     "data": {
      "text/html": [
       "<div>\n",
       "<table border=\"1\" class=\"dataframe\">\n",
       "  <thead>\n",
       "    <tr style=\"text-align: right;\">\n",
       "      <th></th>\n",
       "      <th>Frequency</th>\n",
       "      <th>SentimentVader</th>\n",
       "    </tr>\n",
       "  </thead>\n",
       "  <tbody>\n",
       "    <tr>\n",
       "      <th>Aruba</th>\n",
       "      <td>0.0</td>\n",
       "      <td>0.0</td>\n",
       "    </tr>\n",
       "    <tr>\n",
       "      <th>Afghanistan</th>\n",
       "      <td>0.0</td>\n",
       "      <td>0.0</td>\n",
       "    </tr>\n",
       "    <tr>\n",
       "      <th>Angola</th>\n",
       "      <td>0.0</td>\n",
       "      <td>0.0</td>\n",
       "    </tr>\n",
       "    <tr>\n",
       "      <th>Anguilla</th>\n",
       "      <td>0.0</td>\n",
       "      <td>0.0</td>\n",
       "    </tr>\n",
       "  </tbody>\n",
       "</table>\n",
       "</div>"
      ],
      "text/plain": [
       "             Frequency  SentimentVader\n",
       "Aruba              0.0             0.0\n",
       "Afghanistan        0.0             0.0\n",
       "Angola             0.0             0.0\n",
       "Anguilla           0.0             0.0"
      ]
     },
     "execution_count": 14,
     "metadata": {},
     "output_type": "execute_result"
    }
   ],
   "source": [
    "dataCount = pd.DataFrame(index=Countries, columns=['Frequency', 'SentimentVader'])\n",
    "dataCount.fillna(0.0,inplace=True)\n",
    "dataCount.head(4)"
   ]
  },
  {
   "cell_type": "markdown",
   "metadata": {},
   "source": [
    "### VADER SENTIMENT ANALYZER"
   ]
  },
  {
   "cell_type": "markdown",
   "metadata": {},
   "source": [
    "- In this part, we will use vader sentiment analyzer to do a sentiment analysis on hillary emails with regard to different countries"
   ]
  },
  {
   "cell_type": "code",
   "execution_count": 15,
   "metadata": {
    "collapsed": true
   },
   "outputs": [],
   "source": [
    "sid = SentimentIntensityAnalyzer()"
   ]
  },
  {
   "cell_type": "markdown",
   "metadata": {},
   "source": [
    "- checkCountryMail is a function that given a particular email is gonna update the sentiment and frequency of each country in the dataFrame\n",
    "- As you can see for this function we only consider the name of the country, to refine the analysis one could add bothe the alpha_3 and alpha_2 code by iterating over all elements of Country_check values\n",
    "- We decided to keep only the names for sake of precision since one could easily mistake the alpha_2 and alpha_3 code by another english word."
   ]
  },
  {
   "cell_type": "code",
   "execution_count": 16,
   "metadata": {
    "collapsed": false
   },
   "outputs": [],
   "source": [
    "def checkCountryMail_Vader(mail):\n",
    "    for value in Country_check.values():\n",
    "        for i in [0,1]:\n",
    "            if value[i] in mail:\n",
    "                dataCount.set_value(value[0], 'Frequency',dataCount.get_value(value[0], 'Frequency')+1)\n",
    "                dataCount.set_value(value[0], 'SentimentVader',dataCount.get_value(value[0], 'SentimentVader')+sid.polarity_scores(mail)['compound'])"
   ]
  },
  {
   "cell_type": "markdown",
   "metadata": {},
   "source": [
    "- Updating the data frame for each email and subject in our cleaned corpus ..."
   ]
  },
  {
   "cell_type": "code",
   "execution_count": 17,
   "metadata": {
    "collapsed": false
   },
   "outputs": [],
   "source": [
    "for mail in raw:\n",
    "    checkCountryMail_Vader(mail)"
   ]
  },
  {
   "cell_type": "markdown",
   "metadata": {},
   "source": [
    "- We create a copy of the obtained dataFrame and we choose the countries that has been cited more than 20 times in hillary emails"
   ]
  },
  {
   "cell_type": "code",
   "execution_count": 18,
   "metadata": {
    "collapsed": true
   },
   "outputs": [],
   "source": [
    "dataCount1 = dataCount.copy()\n"
   ]
  },
  {
   "cell_type": "code",
   "execution_count": 19,
   "metadata": {
    "collapsed": true
   },
   "outputs": [],
   "source": [
    "dataCount1=dataCount1[dataCount1['Frequency']>20]\n"
   ]
  },
  {
   "cell_type": "code",
   "execution_count": 20,
   "metadata": {
    "collapsed": false
   },
   "outputs": [
    {
     "data": {
      "text/html": [
       "<div>\n",
       "<table border=\"1\" class=\"dataframe\">\n",
       "  <thead>\n",
       "    <tr style=\"text-align: right;\">\n",
       "      <th></th>\n",
       "      <th>Frequency</th>\n",
       "      <th>SentimentVader</th>\n",
       "    </tr>\n",
       "  </thead>\n",
       "  <tbody>\n",
       "    <tr>\n",
       "      <th>Afghanistan</th>\n",
       "      <td>126.0</td>\n",
       "      <td>41.7973</td>\n",
       "    </tr>\n",
       "    <tr>\n",
       "      <th>Armenia</th>\n",
       "      <td>36.0</td>\n",
       "      <td>7.0112</td>\n",
       "    </tr>\n",
       "    <tr>\n",
       "      <th>Brazil</th>\n",
       "      <td>49.0</td>\n",
       "      <td>20.0580</td>\n",
       "    </tr>\n",
       "    <tr>\n",
       "      <th>Canada</th>\n",
       "      <td>21.0</td>\n",
       "      <td>3.4457</td>\n",
       "    </tr>\n",
       "    <tr>\n",
       "      <th>China</th>\n",
       "      <td>115.0</td>\n",
       "      <td>38.8469</td>\n",
       "    </tr>\n",
       "  </tbody>\n",
       "</table>\n",
       "</div>"
      ],
      "text/plain": [
       "             Frequency  SentimentVader\n",
       "Afghanistan      126.0         41.7973\n",
       "Armenia           36.0          7.0112\n",
       "Brazil            49.0         20.0580\n",
       "Canada            21.0          3.4457\n",
       "China            115.0         38.8469"
      ]
     },
     "execution_count": 20,
     "metadata": {},
     "output_type": "execute_result"
    }
   ],
   "source": [
    "dataCount1.head()"
   ]
  },
  {
   "cell_type": "code",
   "execution_count": 21,
   "metadata": {
    "collapsed": false
   },
   "outputs": [
    {
     "data": {
      "image/png": "[encoded data removed]",
      "text/plain": [
       "<matplotlib.figure.Figure at 0x1031be080>"
      ]
     },
     "metadata": {},
     "output_type": "display_data"
    }
   ],
   "source": [
    "from matplotlib import cm\n",
    "import numpy as np\n",
    "\n",
    "plt.figure(figsize=(16, 10))\n",
    "y = np.array(dataCount1['SentimentVader']/dataCount1['Frequency'])\n",
    "colors = cm.RdYlGn(y / float(max(y)-min(y)))\n",
    "plot = plt.scatter(y, y, c=y, cmap = 'RdYlGn')\n",
    "plt.clf()\n",
    "clb = plt.colorbar(plot)\n",
    "clb.ax.set_title(\"Sentiment Vader\")\n",
    "\n",
    "plt.bar(range(dataCount1.shape[0]), dataCount1['Frequency'], align='center', tick_label=dataCount1.index, color=colors)\n",
    "plt.xticks(rotation=45, ha='right')\n",
    "plt.xlabel(\"Country\")\n",
    "plt.ylabel(\"Frequency\")\n",
    "plt.show()"
   ]
  },
  {
   "cell_type": "markdown",
   "metadata": {},
   "source": [
    "## LIU HU SENTIMENT"
   ]
  },
  {
   "cell_type": "markdown",
   "metadata": {},
   "source": [
    "- Now, we try the LIU HU sentiment analyzer :\n",
    "- We check the sentiment of every word on each email that contain at least one country and we label it as 1 : positive\n",
    "- -1 : negative or 0 : neutral"
   ]
  },
  {
   "cell_type": "code",
   "execution_count": 22,
   "metadata": {
    "collapsed": false
   },
   "outputs": [
    {
     "data": {
      "text/html": [
       "<div>\n",
       "<table border=\"1\" class=\"dataframe\">\n",
       "  <thead>\n",
       "    <tr style=\"text-align: right;\">\n",
       "      <th></th>\n",
       "      <th>Frequency</th>\n",
       "      <th>SentimentLiuHu</th>\n",
       "    </tr>\n",
       "  </thead>\n",
       "  <tbody>\n",
       "    <tr>\n",
       "      <th>Aruba</th>\n",
       "      <td>0.0</td>\n",
       "      <td>0.0</td>\n",
       "    </tr>\n",
       "    <tr>\n",
       "      <th>Afghanistan</th>\n",
       "      <td>0.0</td>\n",
       "      <td>0.0</td>\n",
       "    </tr>\n",
       "    <tr>\n",
       "      <th>Angola</th>\n",
       "      <td>0.0</td>\n",
       "      <td>0.0</td>\n",
       "    </tr>\n",
       "    <tr>\n",
       "      <th>Anguilla</th>\n",
       "      <td>0.0</td>\n",
       "      <td>0.0</td>\n",
       "    </tr>\n",
       "  </tbody>\n",
       "</table>\n",
       "</div>"
      ],
      "text/plain": [
       "             Frequency  SentimentLiuHu\n",
       "Aruba              0.0             0.0\n",
       "Afghanistan        0.0             0.0\n",
       "Angola             0.0             0.0\n",
       "Anguilla           0.0             0.0"
      ]
     },
     "execution_count": 22,
     "metadata": {},
     "output_type": "execute_result"
    }
   ],
   "source": [
    "dataCount_LiuHu = pd.DataFrame(index=Countries, columns=['Frequency', 'SentimentLiuHu'])\n",
    "dataCount_LiuHu.fillna(0.0,inplace=True)\n",
    "dataCount_LiuHu.head(4)"
   ]
  },
  {
   "cell_type": "code",
   "execution_count": 23,
   "metadata": {
    "collapsed": true
   },
   "outputs": [],
   "source": [
    "def getSentimentLiuHu(mail):\n",
    "    score=0\n",
    "    for token in nltk.word_tokenize(mail):\n",
    "        if token in opinion_lexicon.positive():\n",
    "            score+=1\n",
    "        else: \n",
    "            if token in  opinion_lexicon.negative():\n",
    "                score-=1\n",
    "    return score/len(nltk.word_tokenize(mail))"
   ]
  },
  {
   "cell_type": "code",
   "execution_count": 24,
   "metadata": {
    "collapsed": true
   },
   "outputs": [],
   "source": [
    "def checkCountryMail_LiuHu(mail):\n",
    "    for value in Country_check.values():\n",
    "        for i in range(len(value)):\n",
    "            if value[i] in mail:\n",
    "                dataCount_LiuHu.set_value(value[0], 'Frequency',dataCount_LiuHu.get_value(value[0], 'Frequency')+1)\n",
    "                dataCount_LiuHu.set_value(value[0], 'SentimentLiuHu',dataCount_LiuHu.get_value(value[0], 'SentimentLiuHu')+getSentimentLiuHu(mail))"
   ]
  },
  {
   "cell_type": "code",
   "execution_count": null,
   "metadata": {
    "collapsed": false
   },
   "outputs": [
    {
     "name": "stdout",
     "output_type": "stream",
     "text": [
      "0\n"
     ]
    }
   ],
   "source": [
    "i=0\n",
    "for mail in raw:\n",
    "    if i%20==0:\n",
    "        print(i)\n",
    "    i+=1\n",
    "    checkCountryMail_LiuHu(mail)"
   ]
  },
  {
   "cell_type": "code",
   "execution_count": null,
   "metadata": {
    "collapsed": true
   },
   "outputs": [],
   "source": [
    "from matplotlib import cm\n",
    "import numpy as np\n",
    "\n",
    "plt.figure(figsize=(16, 10))\n",
    "y = np.array(dataCount1['SentimentVader']/dataCount1['Frequency'])\n",
    "colors = cm.RdYlGn(y / float(max(y)-min(y)))\n",
    "plot = plt.scatter(y, y, c=y, cmap = 'RdYlGn')\n",
    "plt.clf()\n",
    "clb = plt.colorbar(plot)\n",
    "clb.ax.set_title(\"Sentiment Vader\")\n",
    "\n",
    "plt.bar(range(dataCount1.shape[0]), dataCount1['Frequency'], align='center', tick_label=dataCount1.index, color=colors)\n",
    "plt.xticks(rotation=45, ha='right')\n",
    "plt.xlabel(\"Country\")\n",
    "plt.ylabel(\"Frequency\")\n",
    "plt.show()"
   ]
  }
 ],
 "metadata": {
  "kernelspec": {
   "display_name": "Python 3",
   "language": "python",
   "name": "python3"
  },
  "language_info": {
   "codemirror_mode": {
    "name": "ipython",
    "version": 3
   },
   "file_extension": ".py",
   "mimetype": "text/x-python",
   "name": "python",
   "nbconvert_exporter": "python",
   "pygments_lexer": "ipython3",
   "version": "3.5.2"
  }
 },
 "nbformat": 4,
 "nbformat_minor": 1
}

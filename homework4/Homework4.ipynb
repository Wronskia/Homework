{
 "cells": [
  {
   "cell_type": "code",
   "execution_count": 1,
   "metadata": {
    "collapsed": true
   },
   "outputs": [],
   "source": [
    "import pandas as pd\n",
    "import numpy as np\n",
    "import matplotlib.pyplot as plt\n",
    "%matplotlib inline\n",
    "import seaborn as sns  \n",
    "from collections import Counter\n",
    "import csv\n",
    "import itertools\n",
    "import nltk"
   ]
  },
  {
   "cell_type": "markdown",
   "metadata": {},
   "source": [
    "### LOAD THE DATA"
   ]
  },
  {
   "cell_type": "code",
   "execution_count": 2,
   "metadata": {
    "collapsed": false
   },
   "outputs": [],
   "source": [
    "data = pd.read_csv('CrowdstormingDataJuly1st.csv',sep=\",\")"
   ]
  },
  {
   "cell_type": "code",
   "execution_count": 3,
   "metadata": {
    "collapsed": false
   },
   "outputs": [
    {
     "data": {
      "text/plain": [
       "(146028, 28)"
      ]
     },
     "execution_count": 3,
     "metadata": {},
     "output_type": "execute_result"
    }
   ],
   "source": [
    "data.shape"
   ]
  },
  {
   "cell_type": "markdown",
   "metadata": {},
   "source": [
    "### REMARKS ABOUT THE DATASET"
   ]
  },
  {
   "cell_type": "markdown",
   "metadata": {},
   "source": [
    "- Our data consist of interactions between players and referees in the 4 major leagues\n",
    "- Since we will predict the skin color at first hand then ratings will be our labels\n",
    "- The ratings are imbalanced toward white people\n",
    "- It happens that both raters disagree on the skin color of a player\n",
    "- playerShort is the unique name player so we will be using it\n",
    "- Some players are not rated by raters (NaN) Those will be removed. Those players correspond to player for which there is no photo ID.\n",
    "- Some players have more than two names (3 or 4 tokens)"
   ]
  },
  {
   "cell_type": "markdown",
   "metadata": {},
   "source": [
    "### IDEA OF THE TREATMENT"
   ]
  },
  {
   "cell_type": "markdown",
   "metadata": {},
   "source": [
    "- We noticed that in very few cases (3) both raters disagree by 0.5 or more. Thus, we decided to keep them.\n",
    "- To manage disagreements in both raters, we decided to average them. Therefore, we will create 4 new classes resulting in a total of 9 classes\n",
    "- For simplicity, we will fit 2 class labels to our classifier (greater or smaller than 0.5).\n",
    "- We decided to keep some common player first/last names since it could be informative of the skin color of a particular player\n",
    "- We decided to groupby the unique name of players (since we don't want to predict the skin color of the same player many times) and to sum all the player-games related features (redCards,...) and divide them by the total number of games. However, since players encountered many referees, how to use features related to the referees that interacted with each player ?\n",
    "- That's why, we decided to classify the referees into three categories with regard to their country of origin. Indeed, we use meanExp and meanIAT after standardizing and averaging them, that way each referee will be classified as one of the three categories : 1/ Referee country correspond to greater feelings of warmth toward whites versus blacks , 2/ Referee country Neutral, 3/ Referee country correspond to lesser feelings of warmth toward whites versus blacks\n",
    "- We will now groupby the unique player name AND the referee category and sum over all the player-game related features and divide them by the total number of games in each category.\n",
    "- Finally we pivot (which will create new features) and feed the model."
   ]
  },
  {
   "cell_type": "markdown",
   "metadata": {},
   "source": [
    "### MAJOR PROBLEM WITH THE ANALYSIS : IMBALANCE OF THE DATASET"
   ]
  },
  {
   "cell_type": "markdown",
   "metadata": {},
   "source": [
    "- We noticed that the dataset is biased toward white people (75.7% for whites and 24.3 for blacks)\n",
    "- Therefore, if we fit a supervised learning model to our data, we will end up with predictions highly biased.\n",
    "- We will discuss below the solutions we have found to deal with this problem"
   ]
  },
  {
   "cell_type": "markdown",
   "metadata": {},
   "source": [
    "# EXPLANATORY DATA ANALYSIS"
   ]
  },
  {
   "cell_type": "code",
   "execution_count": 4,
   "metadata": {
    "collapsed": false
   },
   "outputs": [
    {
     "data": {
      "text/html": [
       "<div>\n",
       "<table border=\"1\" class=\"dataframe\">\n",
       "  <thead>\n",
       "    <tr style=\"text-align: right;\">\n",
       "      <th></th>\n",
       "      <th>playerShort</th>\n",
       "      <th>player</th>\n",
       "      <th>club</th>\n",
       "      <th>leagueCountry</th>\n",
       "      <th>birthday</th>\n",
       "      <th>height</th>\n",
       "      <th>weight</th>\n",
       "      <th>position</th>\n",
       "      <th>games</th>\n",
       "      <th>victories</th>\n",
       "      <th>...</th>\n",
       "      <th>rater2</th>\n",
       "      <th>refNum</th>\n",
       "      <th>refCountry</th>\n",
       "      <th>Alpha_3</th>\n",
       "      <th>meanIAT</th>\n",
       "      <th>nIAT</th>\n",
       "      <th>seIAT</th>\n",
       "      <th>meanExp</th>\n",
       "      <th>nExp</th>\n",
       "      <th>seExp</th>\n",
       "    </tr>\n",
       "  </thead>\n",
       "  <tbody>\n",
       "    <tr>\n",
       "      <th>0</th>\n",
       "      <td>lucas-wilchez</td>\n",
       "      <td>Lucas Wilchez</td>\n",
       "      <td>Real Zaragoza</td>\n",
       "      <td>Spain</td>\n",
       "      <td>31.08.1983</td>\n",
       "      <td>177.0</td>\n",
       "      <td>72.0</td>\n",
       "      <td>Attacking Midfielder</td>\n",
       "      <td>1</td>\n",
       "      <td>0</td>\n",
       "      <td>...</td>\n",
       "      <td>0.50</td>\n",
       "      <td>1</td>\n",
       "      <td>1</td>\n",
       "      <td>GRC</td>\n",
       "      <td>0.326391</td>\n",
       "      <td>712.0</td>\n",
       "      <td>0.000564</td>\n",
       "      <td>0.396000</td>\n",
       "      <td>750.0</td>\n",
       "      <td>0.002696</td>\n",
       "    </tr>\n",
       "    <tr>\n",
       "      <th>1</th>\n",
       "      <td>john-utaka</td>\n",
       "      <td>John Utaka</td>\n",
       "      <td>Montpellier HSC</td>\n",
       "      <td>France</td>\n",
       "      <td>08.01.1982</td>\n",
       "      <td>179.0</td>\n",
       "      <td>82.0</td>\n",
       "      <td>Right Winger</td>\n",
       "      <td>1</td>\n",
       "      <td>0</td>\n",
       "      <td>...</td>\n",
       "      <td>0.75</td>\n",
       "      <td>2</td>\n",
       "      <td>2</td>\n",
       "      <td>ZMB</td>\n",
       "      <td>0.203375</td>\n",
       "      <td>40.0</td>\n",
       "      <td>0.010875</td>\n",
       "      <td>-0.204082</td>\n",
       "      <td>49.0</td>\n",
       "      <td>0.061504</td>\n",
       "    </tr>\n",
       "    <tr>\n",
       "      <th>2</th>\n",
       "      <td>abdon-prats</td>\n",
       "      <td>Abdón Prats</td>\n",
       "      <td>RCD Mallorca</td>\n",
       "      <td>Spain</td>\n",
       "      <td>17.12.1992</td>\n",
       "      <td>181.0</td>\n",
       "      <td>79.0</td>\n",
       "      <td>NaN</td>\n",
       "      <td>1</td>\n",
       "      <td>0</td>\n",
       "      <td>...</td>\n",
       "      <td>NaN</td>\n",
       "      <td>3</td>\n",
       "      <td>3</td>\n",
       "      <td>ESP</td>\n",
       "      <td>0.369894</td>\n",
       "      <td>1785.0</td>\n",
       "      <td>0.000229</td>\n",
       "      <td>0.588297</td>\n",
       "      <td>1897.0</td>\n",
       "      <td>0.001002</td>\n",
       "    </tr>\n",
       "    <tr>\n",
       "      <th>3</th>\n",
       "      <td>pablo-mari</td>\n",
       "      <td>Pablo Marí</td>\n",
       "      <td>RCD Mallorca</td>\n",
       "      <td>Spain</td>\n",
       "      <td>31.08.1993</td>\n",
       "      <td>191.0</td>\n",
       "      <td>87.0</td>\n",
       "      <td>Center Back</td>\n",
       "      <td>1</td>\n",
       "      <td>1</td>\n",
       "      <td>...</td>\n",
       "      <td>NaN</td>\n",
       "      <td>3</td>\n",
       "      <td>3</td>\n",
       "      <td>ESP</td>\n",
       "      <td>0.369894</td>\n",
       "      <td>1785.0</td>\n",
       "      <td>0.000229</td>\n",
       "      <td>0.588297</td>\n",
       "      <td>1897.0</td>\n",
       "      <td>0.001002</td>\n",
       "    </tr>\n",
       "    <tr>\n",
       "      <th>4</th>\n",
       "      <td>ruben-pena</td>\n",
       "      <td>Rubén Peña</td>\n",
       "      <td>Real Valladolid</td>\n",
       "      <td>Spain</td>\n",
       "      <td>18.07.1991</td>\n",
       "      <td>172.0</td>\n",
       "      <td>70.0</td>\n",
       "      <td>Right Midfielder</td>\n",
       "      <td>1</td>\n",
       "      <td>1</td>\n",
       "      <td>...</td>\n",
       "      <td>NaN</td>\n",
       "      <td>3</td>\n",
       "      <td>3</td>\n",
       "      <td>ESP</td>\n",
       "      <td>0.369894</td>\n",
       "      <td>1785.0</td>\n",
       "      <td>0.000229</td>\n",
       "      <td>0.588297</td>\n",
       "      <td>1897.0</td>\n",
       "      <td>0.001002</td>\n",
       "    </tr>\n",
       "  </tbody>\n",
       "</table>\n",
       "<p>5 rows × 28 columns</p>\n",
       "</div>"
      ],
      "text/plain": [
       "     playerShort         player             club leagueCountry    birthday  \\\n",
       "0  lucas-wilchez  Lucas Wilchez    Real Zaragoza         Spain  31.08.1983   \n",
       "1     john-utaka     John Utaka  Montpellier HSC        France  08.01.1982   \n",
       "2    abdon-prats    Abdón Prats     RCD Mallorca         Spain  17.12.1992   \n",
       "3     pablo-mari     Pablo Marí     RCD Mallorca         Spain  31.08.1993   \n",
       "4     ruben-pena     Rubén Peña  Real Valladolid         Spain  18.07.1991   \n",
       "\n",
       "   height  weight              position  games  victories    ...     rater2  \\\n",
       "0   177.0    72.0  Attacking Midfielder      1          0    ...       0.50   \n",
       "1   179.0    82.0          Right Winger      1          0    ...       0.75   \n",
       "2   181.0    79.0                   NaN      1          0    ...        NaN   \n",
       "3   191.0    87.0           Center Back      1          1    ...        NaN   \n",
       "4   172.0    70.0      Right Midfielder      1          1    ...        NaN   \n",
       "\n",
       "   refNum  refCountry  Alpha_3   meanIAT    nIAT     seIAT   meanExp    nExp  \\\n",
       "0       1           1      GRC  0.326391   712.0  0.000564  0.396000   750.0   \n",
       "1       2           2      ZMB  0.203375    40.0  0.010875 -0.204082    49.0   \n",
       "2       3           3      ESP  0.369894  1785.0  0.000229  0.588297  1897.0   \n",
       "3       3           3      ESP  0.369894  1785.0  0.000229  0.588297  1897.0   \n",
       "4       3           3      ESP  0.369894  1785.0  0.000229  0.588297  1897.0   \n",
       "\n",
       "      seExp  \n",
       "0  0.002696  \n",
       "1  0.061504  \n",
       "2  0.001002  \n",
       "3  0.001002  \n",
       "4  0.001002  \n",
       "\n",
       "[5 rows x 28 columns]"
      ]
     },
     "execution_count": 4,
     "metadata": {},
     "output_type": "execute_result"
    }
   ],
   "source": [
    "data.head()"
   ]
  },
  {
   "cell_type": "markdown",
   "metadata": {},
   "source": [
    "- The plot below shows us that there is a clear imbalance of the dataset\n",
    "- more than 75% of ratings are biased toward white people"
   ]
  },
  {
   "cell_type": "code",
   "execution_count": 5,
   "metadata": {
    "collapsed": false
   },
   "outputs": [
    {
     "data": {
      "text/plain": [
       "(array([ 35712.,  56483.,  12650.,   9915.,   9861.]),\n",
       " array([ 0. ,  0.2,  0.4,  0.6,  0.8,  1. ]),\n",
       " <a list of 5 Patch objects>)"
      ]
     },
     "execution_count": 5,
     "metadata": {},
     "output_type": "execute_result"
    },
    {
     "data": {
      "image/png": "[encoded data removed]",
      "text/plain": [
       "<matplotlib.figure.Figure at 0x7fb3ae6cc908>"
      ]
     },
     "metadata": {},
     "output_type": "display_data"
    }
   ],
   "source": [
    "c = sns.color_palette()\n",
    "fig, ax = plt.subplots(1,2,figsize=(8, 3))\n",
    "ax[0].hist(data['rater1'],bins = 5, range = (0,1),color = c[2])\n",
    "ax[1].hist(data['rater2'],bins = 5, range = (0,1),color = c[1])"
   ]
  },
  {
   "cell_type": "markdown",
   "metadata": {},
   "source": [
    "# Cleaning "
   ]
  },
  {
   "cell_type": "markdown",
   "metadata": {},
   "source": [
    "- Removing all NaN values in the ratings\n",
    "- Around 20000 entries"
   ]
  },
  {
   "cell_type": "code",
   "execution_count": 6,
   "metadata": {
    "collapsed": true
   },
   "outputs": [],
   "source": [
    "data=data[(pd.isnull(data[\"rater1\"])==False) & (pd.isnull(data[\"rater2\"])==False)]"
   ]
  },
  {
   "cell_type": "code",
   "execution_count": 7,
   "metadata": {
    "collapsed": false
   },
   "outputs": [
    {
     "data": {
      "text/plain": [
       "(124621, 28)"
      ]
     },
     "execution_count": 7,
     "metadata": {},
     "output_type": "execute_result"
    }
   ],
   "source": [
    "data.shape"
   ]
  },
  {
   "cell_type": "markdown",
   "metadata": {},
   "source": [
    "## DEALING WITH THE PLAYERS NAME"
   ]
  },
  {
   "cell_type": "markdown",
   "metadata": {},
   "source": [
    "- Here we decided to keep the 60 most common first/last names"
   ]
  },
  {
   "cell_type": "code",
   "execution_count": 8,
   "metadata": {
    "collapsed": true
   },
   "outputs": [],
   "source": [
    "nNames = 60\n",
    "uncommon_name = \"UNCOMMON\""
   ]
  },
  {
   "cell_type": "code",
   "execution_count": 9,
   "metadata": {
    "collapsed": true
   },
   "outputs": [],
   "source": [
    "names=data['player'].unique()"
   ]
  },
  {
   "cell_type": "markdown",
   "metadata": {},
   "source": [
    "- Tokenizing"
   ]
  },
  {
   "cell_type": "code",
   "execution_count": 10,
   "metadata": {
    "collapsed": true
   },
   "outputs": [],
   "source": [
    "tokenizedNames = [nltk.word_tokenize(name) for name in names]"
   ]
  },
  {
   "cell_type": "markdown",
   "metadata": {},
   "source": [
    "- nameFreq is a dictionary of each token with values the number of times it appeared in tokenizedNames"
   ]
  },
  {
   "cell_type": "code",
   "execution_count": 11,
   "metadata": {
    "collapsed": true
   },
   "outputs": [],
   "source": [
    "nameFreq = nltk.FreqDist(itertools.chain(*tokenizedNames))"
   ]
  },
  {
   "cell_type": "markdown",
   "metadata": {},
   "source": [
    "- commonNames: Taking most 60 common names with the number of appearance\n",
    "- nameToIndex : dictionary of indexes of each most common name"
   ]
  },
  {
   "cell_type": "code",
   "execution_count": 12,
   "metadata": {
    "collapsed": true
   },
   "outputs": [],
   "source": [
    "commonNames = nameFreq.most_common(nNames-1)\n",
    "indexToName = [x[0] for x in commonNames]\n",
    "indexToName.append(uncommon_name)\n",
    "nameToIndex = dict([(n,i) for i,n in enumerate(indexToName)])"
   ]
  },
  {
   "cell_type": "markdown",
   "metadata": {},
   "source": [
    "- tokenizedNames list of list for each player with common and uncommon tokens (name)"
   ]
  },
  {
   "cell_type": "code",
   "execution_count": 13,
   "metadata": {
    "collapsed": true
   },
   "outputs": [],
   "source": [
    "for i, name in enumerate(tokenizedNames):\n",
    "    tokenizedNames[i] = [n if n in nameToIndex else uncommon_name for n in name]"
   ]
  },
  {
   "cell_type": "markdown",
   "metadata": {},
   "source": [
    "- Creating a dictionary with most common names as keys and frequency as values"
   ]
  },
  {
   "cell_type": "code",
   "execution_count": 14,
   "metadata": {
    "collapsed": true
   },
   "outputs": [],
   "source": [
    "n_name={}"
   ]
  },
  {
   "cell_type": "code",
   "execution_count": 15,
   "metadata": {
    "collapsed": true
   },
   "outputs": [],
   "source": [
    "for x in commonNames:\n",
    "    n_name[x[0]]=x[1]"
   ]
  },
  {
   "cell_type": "code",
   "execution_count": 16,
   "metadata": {
    "collapsed": true
   },
   "outputs": [],
   "source": [
    "n_name[\"\"]=0"
   ]
  },
  {
   "cell_type": "code",
   "execution_count": 17,
   "metadata": {
    "collapsed": true
   },
   "outputs": [],
   "source": [
    "players=data['player'].tolist()"
   ]
  },
  {
   "cell_type": "code",
   "execution_count": 18,
   "metadata": {
    "collapsed": true
   },
   "outputs": [],
   "source": [
    "players=[players[i].split(' ') for i in range(len(players))]"
   ]
  },
  {
   "cell_type": "markdown",
   "metadata": {},
   "source": [
    "- Creating a new feature with the index of most common names and 0 for the others"
   ]
  },
  {
   "cell_type": "code",
   "execution_count": 19,
   "metadata": {
    "collapsed": true
   },
   "outputs": [],
   "source": [
    "players_index=[]"
   ]
  },
  {
   "cell_type": "code",
   "execution_count": 20,
   "metadata": {
    "collapsed": true
   },
   "outputs": [],
   "source": [
    "for i in range(len(players)):\n",
    "    if players[i][0] in nameToIndex.keys():\n",
    "        k=nameToIndex[players[i][0]]+1\n",
    "        name=players[i][0]\n",
    "    else:\n",
    "        k=0\n",
    "        name=\"\"\n",
    "    for j in range(1,len(players[i])):\n",
    "        if players[i][j] in nameToIndex.keys() and n_name[name]<n_name[players[i][j]]:\n",
    "            k=nameToIndex[players[i][j]]+1\n",
    "            name=players[i][j]\n",
    "    players_index.append(k)"
   ]
  },
  {
   "cell_type": "code",
   "execution_count": 21,
   "metadata": {
    "collapsed": true
   },
   "outputs": [],
   "source": [
    "data['player']=players_index"
   ]
  },
  {
   "cell_type": "markdown",
   "metadata": {},
   "source": [
    "## keeping the birthyear"
   ]
  },
  {
   "cell_type": "markdown",
   "metadata": {},
   "source": [
    "- We decided to keep the birth years of the players"
   ]
  },
  {
   "cell_type": "code",
   "execution_count": 22,
   "metadata": {
    "collapsed": true
   },
   "outputs": [],
   "source": [
    "birth=data['birthday'].str.split('.').tolist()"
   ]
  },
  {
   "cell_type": "code",
   "execution_count": 23,
   "metadata": {
    "collapsed": false
   },
   "outputs": [],
   "source": [
    "x=[]\n",
    "for i in range(len(birth)):    \n",
    "    x.append(int(birth[i][2]))"
   ]
  },
  {
   "cell_type": "code",
   "execution_count": 24,
   "metadata": {
    "collapsed": false
   },
   "outputs": [],
   "source": [
    "data['birthday']=x"
   ]
  },
  {
   "cell_type": "code",
   "execution_count": 25,
   "metadata": {
    "collapsed": false
   },
   "outputs": [
    {
     "data": {
      "text/html": [
       "<div>\n",
       "<table border=\"1\" class=\"dataframe\">\n",
       "  <thead>\n",
       "    <tr style=\"text-align: right;\">\n",
       "      <th></th>\n",
       "      <th>playerShort</th>\n",
       "      <th>player</th>\n",
       "      <th>club</th>\n",
       "      <th>leagueCountry</th>\n",
       "      <th>birthday</th>\n",
       "      <th>height</th>\n",
       "      <th>weight</th>\n",
       "      <th>position</th>\n",
       "      <th>games</th>\n",
       "      <th>victories</th>\n",
       "      <th>...</th>\n",
       "      <th>rater2</th>\n",
       "      <th>refNum</th>\n",
       "      <th>refCountry</th>\n",
       "      <th>Alpha_3</th>\n",
       "      <th>meanIAT</th>\n",
       "      <th>nIAT</th>\n",
       "      <th>seIAT</th>\n",
       "      <th>meanExp</th>\n",
       "      <th>nExp</th>\n",
       "      <th>seExp</th>\n",
       "    </tr>\n",
       "  </thead>\n",
       "  <tbody>\n",
       "    <tr>\n",
       "      <th>0</th>\n",
       "      <td>lucas-wilchez</td>\n",
       "      <td>37</td>\n",
       "      <td>Real Zaragoza</td>\n",
       "      <td>Spain</td>\n",
       "      <td>1983</td>\n",
       "      <td>177.0</td>\n",
       "      <td>72.0</td>\n",
       "      <td>Attacking Midfielder</td>\n",
       "      <td>1</td>\n",
       "      <td>0</td>\n",
       "      <td>...</td>\n",
       "      <td>0.50</td>\n",
       "      <td>1</td>\n",
       "      <td>1</td>\n",
       "      <td>GRC</td>\n",
       "      <td>0.326391</td>\n",
       "      <td>712.0</td>\n",
       "      <td>0.000564</td>\n",
       "      <td>0.396000</td>\n",
       "      <td>750.0</td>\n",
       "      <td>0.002696</td>\n",
       "    </tr>\n",
       "    <tr>\n",
       "      <th>1</th>\n",
       "      <td>john-utaka</td>\n",
       "      <td>14</td>\n",
       "      <td>Montpellier HSC</td>\n",
       "      <td>France</td>\n",
       "      <td>1982</td>\n",
       "      <td>179.0</td>\n",
       "      <td>82.0</td>\n",
       "      <td>Right Winger</td>\n",
       "      <td>1</td>\n",
       "      <td>0</td>\n",
       "      <td>...</td>\n",
       "      <td>0.75</td>\n",
       "      <td>2</td>\n",
       "      <td>2</td>\n",
       "      <td>ZMB</td>\n",
       "      <td>0.203375</td>\n",
       "      <td>40.0</td>\n",
       "      <td>0.010875</td>\n",
       "      <td>-0.204082</td>\n",
       "      <td>49.0</td>\n",
       "      <td>0.061504</td>\n",
       "    </tr>\n",
       "    <tr>\n",
       "      <th>5</th>\n",
       "      <td>aaron-hughes</td>\n",
       "      <td>0</td>\n",
       "      <td>Fulham FC</td>\n",
       "      <td>England</td>\n",
       "      <td>1979</td>\n",
       "      <td>182.0</td>\n",
       "      <td>71.0</td>\n",
       "      <td>Center Back</td>\n",
       "      <td>1</td>\n",
       "      <td>0</td>\n",
       "      <td>...</td>\n",
       "      <td>0.00</td>\n",
       "      <td>4</td>\n",
       "      <td>4</td>\n",
       "      <td>LUX</td>\n",
       "      <td>0.325185</td>\n",
       "      <td>127.0</td>\n",
       "      <td>0.003297</td>\n",
       "      <td>0.538462</td>\n",
       "      <td>130.0</td>\n",
       "      <td>0.013752</td>\n",
       "    </tr>\n",
       "    <tr>\n",
       "      <th>6</th>\n",
       "      <td>aleksandar-kolarov</td>\n",
       "      <td>0</td>\n",
       "      <td>Manchester City</td>\n",
       "      <td>England</td>\n",
       "      <td>1985</td>\n",
       "      <td>187.0</td>\n",
       "      <td>80.0</td>\n",
       "      <td>Left Fullback</td>\n",
       "      <td>1</td>\n",
       "      <td>1</td>\n",
       "      <td>...</td>\n",
       "      <td>0.25</td>\n",
       "      <td>4</td>\n",
       "      <td>4</td>\n",
       "      <td>LUX</td>\n",
       "      <td>0.325185</td>\n",
       "      <td>127.0</td>\n",
       "      <td>0.003297</td>\n",
       "      <td>0.538462</td>\n",
       "      <td>130.0</td>\n",
       "      <td>0.013752</td>\n",
       "    </tr>\n",
       "    <tr>\n",
       "      <th>7</th>\n",
       "      <td>alexander-tettey</td>\n",
       "      <td>10</td>\n",
       "      <td>Norwich City</td>\n",
       "      <td>England</td>\n",
       "      <td>1986</td>\n",
       "      <td>180.0</td>\n",
       "      <td>68.0</td>\n",
       "      <td>Defensive Midfielder</td>\n",
       "      <td>1</td>\n",
       "      <td>0</td>\n",
       "      <td>...</td>\n",
       "      <td>1.00</td>\n",
       "      <td>4</td>\n",
       "      <td>4</td>\n",
       "      <td>LUX</td>\n",
       "      <td>0.325185</td>\n",
       "      <td>127.0</td>\n",
       "      <td>0.003297</td>\n",
       "      <td>0.538462</td>\n",
       "      <td>130.0</td>\n",
       "      <td>0.013752</td>\n",
       "    </tr>\n",
       "  </tbody>\n",
       "</table>\n",
       "<p>5 rows × 28 columns</p>\n",
       "</div>"
      ],
      "text/plain": [
       "          playerShort  player             club leagueCountry  birthday  \\\n",
       "0       lucas-wilchez      37    Real Zaragoza         Spain      1983   \n",
       "1          john-utaka      14  Montpellier HSC        France      1982   \n",
       "5        aaron-hughes       0        Fulham FC       England      1979   \n",
       "6  aleksandar-kolarov       0  Manchester City       England      1985   \n",
       "7    alexander-tettey      10     Norwich City       England      1986   \n",
       "\n",
       "   height  weight              position  games  victories    ...     rater2  \\\n",
       "0   177.0    72.0  Attacking Midfielder      1          0    ...       0.50   \n",
       "1   179.0    82.0          Right Winger      1          0    ...       0.75   \n",
       "5   182.0    71.0           Center Back      1          0    ...       0.00   \n",
       "6   187.0    80.0         Left Fullback      1          1    ...       0.25   \n",
       "7   180.0    68.0  Defensive Midfielder      1          0    ...       1.00   \n",
       "\n",
       "   refNum  refCountry  Alpha_3   meanIAT   nIAT     seIAT   meanExp   nExp  \\\n",
       "0       1           1      GRC  0.326391  712.0  0.000564  0.396000  750.0   \n",
       "1       2           2      ZMB  0.203375   40.0  0.010875 -0.204082   49.0   \n",
       "5       4           4      LUX  0.325185  127.0  0.003297  0.538462  130.0   \n",
       "6       4           4      LUX  0.325185  127.0  0.003297  0.538462  130.0   \n",
       "7       4           4      LUX  0.325185  127.0  0.003297  0.538462  130.0   \n",
       "\n",
       "      seExp  \n",
       "0  0.002696  \n",
       "1  0.061504  \n",
       "5  0.013752  \n",
       "6  0.013752  \n",
       "7  0.013752  \n",
       "\n",
       "[5 rows x 28 columns]"
      ]
     },
     "execution_count": 25,
     "metadata": {},
     "output_type": "execute_result"
    }
   ],
   "source": [
    "data.head()"
   ]
  },
  {
   "cell_type": "markdown",
   "metadata": {},
   "source": [
    "# REPLACE EACH STRING COLUMN BY ITS INDEXES"
   ]
  },
  {
   "cell_type": "markdown",
   "metadata": {},
   "source": [
    "## leagueCountry"
   ]
  },
  {
   "cell_type": "markdown",
   "metadata": {},
   "source": [
    "- Here we encode all strings to feed them to the random forest model."
   ]
  },
  {
   "cell_type": "code",
   "execution_count": 26,
   "metadata": {
    "collapsed": true
   },
   "outputs": [],
   "source": [
    "y=[]\n",
    "for x in data['leagueCountry']:\n",
    "    if x=='Spain':\n",
    "        y.append(1)\n",
    "    if x=='England':\n",
    "        y.append(2)\n",
    "    if x=='France':\n",
    "        y.append(3)\n",
    "    if x=='Germany':\n",
    "        y.append(4)"
   ]
  },
  {
   "cell_type": "code",
   "execution_count": 27,
   "metadata": {
    "collapsed": false
   },
   "outputs": [],
   "source": [
    "data['leagueCountry']=y"
   ]
  },
  {
   "cell_type": "markdown",
   "metadata": {},
   "source": [
    "## club"
   ]
  },
  {
   "cell_type": "markdown",
   "metadata": {},
   "source": [
    "- Indexing the club names"
   ]
  },
  {
   "cell_type": "code",
   "execution_count": 28,
   "metadata": {
    "collapsed": false
   },
   "outputs": [],
   "source": [
    "club=data['club'].unique()"
   ]
  },
  {
   "cell_type": "code",
   "execution_count": 29,
   "metadata": {
    "collapsed": true
   },
   "outputs": [],
   "source": [
    "club_to_index=dict([(w,i) for i,w in enumerate(club)])"
   ]
  },
  {
   "cell_type": "code",
   "execution_count": 30,
   "metadata": {
    "collapsed": false
   },
   "outputs": [],
   "source": [
    "z=[]\n",
    "for x in data['club']:\n",
    "    z.append(club_to_index[x])"
   ]
  },
  {
   "cell_type": "code",
   "execution_count": 31,
   "metadata": {
    "collapsed": false
   },
   "outputs": [
    {
     "data": {
      "text/plain": [
       "array([  1,   3,   5, ..., 115,  19, 109])"
      ]
     },
     "execution_count": 31,
     "metadata": {},
     "output_type": "execute_result"
    }
   ],
   "source": [
    "z+=np.add(z,1)\n",
    "z"
   ]
  },
  {
   "cell_type": "code",
   "execution_count": 32,
   "metadata": {
    "collapsed": true
   },
   "outputs": [],
   "source": [
    "data['club']=z"
   ]
  },
  {
   "cell_type": "markdown",
   "metadata": {},
   "source": [
    "## position"
   ]
  },
  {
   "cell_type": "markdown",
   "metadata": {},
   "source": [
    "- indexing the positions"
   ]
  },
  {
   "cell_type": "code",
   "execution_count": 33,
   "metadata": {
    "collapsed": true
   },
   "outputs": [],
   "source": [
    "position=data['position'].unique()"
   ]
  },
  {
   "cell_type": "code",
   "execution_count": 34,
   "metadata": {
    "collapsed": true
   },
   "outputs": [],
   "source": [
    "position_to_index=dict([(w,i) for i,w in enumerate(position)])"
   ]
  },
  {
   "cell_type": "code",
   "execution_count": 35,
   "metadata": {
    "collapsed": true
   },
   "outputs": [],
   "source": [
    "z=[]\n",
    "for x in data['position']:\n",
    "    z.append(position_to_index[x])"
   ]
  },
  {
   "cell_type": "code",
   "execution_count": 36,
   "metadata": {
    "collapsed": false
   },
   "outputs": [],
   "source": [
    "z+=np.add(z,1)"
   ]
  },
  {
   "cell_type": "code",
   "execution_count": 37,
   "metadata": {
    "collapsed": true
   },
   "outputs": [],
   "source": [
    "data['position']=z"
   ]
  },
  {
   "cell_type": "code",
   "execution_count": 38,
   "metadata": {
    "collapsed": false
   },
   "outputs": [
    {
     "data": {
      "text/plain": [
       "Index(['playerShort', 'player', 'club', 'leagueCountry', 'birthday', 'height',\n",
       "       'weight', 'position', 'games', 'victories', 'ties', 'defeats', 'goals',\n",
       "       'yellowCards', 'yellowReds', 'redCards', 'photoID', 'rater1', 'rater2',\n",
       "       'refNum', 'refCountry', 'Alpha_3', 'meanIAT', 'nIAT', 'seIAT',\n",
       "       'meanExp', 'nExp', 'seExp'],\n",
       "      dtype='object')"
      ]
     },
     "execution_count": 38,
     "metadata": {},
     "output_type": "execute_result"
    }
   ],
   "source": [
    "data.columns"
   ]
  },
  {
   "cell_type": "markdown",
   "metadata": {},
   "source": [
    "## DEALING WITH THE AGGREG"
   ]
  },
  {
   "cell_type": "markdown",
   "metadata": {},
   "source": [
    "## BUILDING THE X MATRIX"
   ]
  },
  {
   "cell_type": "markdown",
   "metadata": {},
   "source": [
    "#### ALL FEATURES RELATED TO THE PLAYER ONLY"
   ]
  },
  {
   "cell_type": "code",
   "execution_count": 39,
   "metadata": {
    "collapsed": true
   },
   "outputs": [],
   "source": [
    "dataPlayer=data[['playerShort','player','club','leagueCountry','birthday','height','weight','position','rater1','rater2']]"
   ]
  },
  {
   "cell_type": "code",
   "execution_count": 40,
   "metadata": {
    "collapsed": true
   },
   "outputs": [],
   "source": [
    "dataPlayer=dataPlayer.drop_duplicates()\n",
    "dataPlayer=dataPlayer.reset_index()"
   ]
  },
  {
   "cell_type": "code",
   "execution_count": 41,
   "metadata": {
    "collapsed": false
   },
   "outputs": [],
   "source": [
    "dataPlayer=dataPlayer.drop('index',axis=1)"
   ]
  },
  {
   "cell_type": "code",
   "execution_count": 42,
   "metadata": {
    "collapsed": false
   },
   "outputs": [
    {
     "data": {
      "text/html": [
       "<div>\n",
       "<table border=\"1\" class=\"dataframe\">\n",
       "  <thead>\n",
       "    <tr style=\"text-align: right;\">\n",
       "      <th></th>\n",
       "      <th>playerShort</th>\n",
       "      <th>player</th>\n",
       "      <th>club</th>\n",
       "      <th>leagueCountry</th>\n",
       "      <th>birthday</th>\n",
       "      <th>height</th>\n",
       "      <th>weight</th>\n",
       "      <th>position</th>\n",
       "      <th>rater1</th>\n",
       "      <th>rater2</th>\n",
       "    </tr>\n",
       "  </thead>\n",
       "  <tbody>\n",
       "    <tr>\n",
       "      <th>0</th>\n",
       "      <td>lucas-wilchez</td>\n",
       "      <td>37</td>\n",
       "      <td>1</td>\n",
       "      <td>1</td>\n",
       "      <td>1983</td>\n",
       "      <td>177.0</td>\n",
       "      <td>72.0</td>\n",
       "      <td>1</td>\n",
       "      <td>0.25</td>\n",
       "      <td>0.50</td>\n",
       "    </tr>\n",
       "    <tr>\n",
       "      <th>1</th>\n",
       "      <td>john-utaka</td>\n",
       "      <td>14</td>\n",
       "      <td>3</td>\n",
       "      <td>3</td>\n",
       "      <td>1982</td>\n",
       "      <td>179.0</td>\n",
       "      <td>82.0</td>\n",
       "      <td>3</td>\n",
       "      <td>0.75</td>\n",
       "      <td>0.75</td>\n",
       "    </tr>\n",
       "    <tr>\n",
       "      <th>2</th>\n",
       "      <td>aaron-hughes</td>\n",
       "      <td>0</td>\n",
       "      <td>5</td>\n",
       "      <td>2</td>\n",
       "      <td>1979</td>\n",
       "      <td>182.0</td>\n",
       "      <td>71.0</td>\n",
       "      <td>5</td>\n",
       "      <td>0.25</td>\n",
       "      <td>0.00</td>\n",
       "    </tr>\n",
       "    <tr>\n",
       "      <th>3</th>\n",
       "      <td>aleksandar-kolarov</td>\n",
       "      <td>0</td>\n",
       "      <td>7</td>\n",
       "      <td>2</td>\n",
       "      <td>1985</td>\n",
       "      <td>187.0</td>\n",
       "      <td>80.0</td>\n",
       "      <td>7</td>\n",
       "      <td>0.00</td>\n",
       "      <td>0.25</td>\n",
       "    </tr>\n",
       "    <tr>\n",
       "      <th>4</th>\n",
       "      <td>alexander-tettey</td>\n",
       "      <td>10</td>\n",
       "      <td>9</td>\n",
       "      <td>2</td>\n",
       "      <td>1986</td>\n",
       "      <td>180.0</td>\n",
       "      <td>68.0</td>\n",
       "      <td>9</td>\n",
       "      <td>1.00</td>\n",
       "      <td>1.00</td>\n",
       "    </tr>\n",
       "  </tbody>\n",
       "</table>\n",
       "</div>"
      ],
      "text/plain": [
       "          playerShort  player  club  leagueCountry  birthday  height  weight  \\\n",
       "0       lucas-wilchez      37     1              1      1983   177.0    72.0   \n",
       "1          john-utaka      14     3              3      1982   179.0    82.0   \n",
       "2        aaron-hughes       0     5              2      1979   182.0    71.0   \n",
       "3  aleksandar-kolarov       0     7              2      1985   187.0    80.0   \n",
       "4    alexander-tettey      10     9              2      1986   180.0    68.0   \n",
       "\n",
       "   position  rater1  rater2  \n",
       "0         1    0.25    0.50  \n",
       "1         3    0.75    0.75  \n",
       "2         5    0.25    0.00  \n",
       "3         7    0.00    0.25  \n",
       "4         9    1.00    1.00  "
      ]
     },
     "execution_count": 42,
     "metadata": {},
     "output_type": "execute_result"
    }
   ],
   "source": [
    "dataPlayer.head()"
   ]
  },
  {
   "cell_type": "markdown",
   "metadata": {},
   "source": [
    "- Filling the missing values by the mean"
   ]
  },
  {
   "cell_type": "code",
   "execution_count": 43,
   "metadata": {
    "collapsed": false
   },
   "outputs": [],
   "source": [
    "dataPlayer=dataPlayer.fillna(dataPlayer.mean())"
   ]
  },
  {
   "cell_type": "markdown",
   "metadata": {},
   "source": [
    "- dropping the playerShort because it is equivalent to the index"
   ]
  },
  {
   "cell_type": "code",
   "execution_count": 44,
   "metadata": {
    "collapsed": true
   },
   "outputs": [],
   "source": [
    "dataPlayer=dataPlayer.drop('playerShort',axis=1)"
   ]
  },
  {
   "cell_type": "code",
   "execution_count": 45,
   "metadata": {
    "collapsed": false
   },
   "outputs": [
    {
     "data": {
      "text/html": [
       "<div>\n",
       "<table border=\"1\" class=\"dataframe\">\n",
       "  <thead>\n",
       "    <tr style=\"text-align: right;\">\n",
       "      <th></th>\n",
       "      <th>player</th>\n",
       "      <th>club</th>\n",
       "      <th>leagueCountry</th>\n",
       "      <th>birthday</th>\n",
       "      <th>height</th>\n",
       "      <th>weight</th>\n",
       "      <th>position</th>\n",
       "      <th>rater1</th>\n",
       "      <th>rater2</th>\n",
       "    </tr>\n",
       "  </thead>\n",
       "  <tbody>\n",
       "    <tr>\n",
       "      <th>0</th>\n",
       "      <td>37</td>\n",
       "      <td>1</td>\n",
       "      <td>1</td>\n",
       "      <td>1983</td>\n",
       "      <td>177.0</td>\n",
       "      <td>72.0</td>\n",
       "      <td>1</td>\n",
       "      <td>0.25</td>\n",
       "      <td>0.50</td>\n",
       "    </tr>\n",
       "    <tr>\n",
       "      <th>1</th>\n",
       "      <td>14</td>\n",
       "      <td>3</td>\n",
       "      <td>3</td>\n",
       "      <td>1982</td>\n",
       "      <td>179.0</td>\n",
       "      <td>82.0</td>\n",
       "      <td>3</td>\n",
       "      <td>0.75</td>\n",
       "      <td>0.75</td>\n",
       "    </tr>\n",
       "    <tr>\n",
       "      <th>2</th>\n",
       "      <td>0</td>\n",
       "      <td>5</td>\n",
       "      <td>2</td>\n",
       "      <td>1979</td>\n",
       "      <td>182.0</td>\n",
       "      <td>71.0</td>\n",
       "      <td>5</td>\n",
       "      <td>0.25</td>\n",
       "      <td>0.00</td>\n",
       "    </tr>\n",
       "    <tr>\n",
       "      <th>3</th>\n",
       "      <td>0</td>\n",
       "      <td>7</td>\n",
       "      <td>2</td>\n",
       "      <td>1985</td>\n",
       "      <td>187.0</td>\n",
       "      <td>80.0</td>\n",
       "      <td>7</td>\n",
       "      <td>0.00</td>\n",
       "      <td>0.25</td>\n",
       "    </tr>\n",
       "    <tr>\n",
       "      <th>4</th>\n",
       "      <td>10</td>\n",
       "      <td>9</td>\n",
       "      <td>2</td>\n",
       "      <td>1986</td>\n",
       "      <td>180.0</td>\n",
       "      <td>68.0</td>\n",
       "      <td>9</td>\n",
       "      <td>1.00</td>\n",
       "      <td>1.00</td>\n",
       "    </tr>\n",
       "  </tbody>\n",
       "</table>\n",
       "</div>"
      ],
      "text/plain": [
       "   player  club  leagueCountry  birthday  height  weight  position  rater1  \\\n",
       "0      37     1              1      1983   177.0    72.0         1    0.25   \n",
       "1      14     3              3      1982   179.0    82.0         3    0.75   \n",
       "2       0     5              2      1979   182.0    71.0         5    0.25   \n",
       "3       0     7              2      1985   187.0    80.0         7    0.00   \n",
       "4      10     9              2      1986   180.0    68.0         9    1.00   \n",
       "\n",
       "   rater2  \n",
       "0    0.50  \n",
       "1    0.75  \n",
       "2    0.00  \n",
       "3    0.25  \n",
       "4    1.00  "
      ]
     },
     "execution_count": 45,
     "metadata": {},
     "output_type": "execute_result"
    }
   ],
   "source": [
    "dataPlayer.head()"
   ]
  },
  {
   "cell_type": "markdown",
   "metadata": {},
   "source": [
    "- Averaging the ratings : creating a new response with the average of both raters"
   ]
  },
  {
   "cell_type": "code",
   "execution_count": 46,
   "metadata": {
    "collapsed": true
   },
   "outputs": [],
   "source": [
    "dataPlayer['rater']=(dataPlayer['rater1']+dataPlayer['rater2'])/2"
   ]
  },
  {
   "cell_type": "code",
   "execution_count": 47,
   "metadata": {
    "collapsed": false
   },
   "outputs": [],
   "source": [
    "dataPlayer=dataPlayer.drop(['rater1','rater2'],axis=1)"
   ]
  },
  {
   "cell_type": "code",
   "execution_count": 48,
   "metadata": {
    "collapsed": false
   },
   "outputs": [
    {
     "data": {
      "text/html": [
       "<div>\n",
       "<table border=\"1\" class=\"dataframe\">\n",
       "  <thead>\n",
       "    <tr style=\"text-align: right;\">\n",
       "      <th></th>\n",
       "      <th>player</th>\n",
       "      <th>club</th>\n",
       "      <th>leagueCountry</th>\n",
       "      <th>birthday</th>\n",
       "      <th>height</th>\n",
       "      <th>weight</th>\n",
       "      <th>position</th>\n",
       "      <th>rater</th>\n",
       "    </tr>\n",
       "  </thead>\n",
       "  <tbody>\n",
       "    <tr>\n",
       "      <th>0</th>\n",
       "      <td>37</td>\n",
       "      <td>1</td>\n",
       "      <td>1</td>\n",
       "      <td>1983</td>\n",
       "      <td>177.0</td>\n",
       "      <td>72.0</td>\n",
       "      <td>1</td>\n",
       "      <td>0.375</td>\n",
       "    </tr>\n",
       "    <tr>\n",
       "      <th>1</th>\n",
       "      <td>14</td>\n",
       "      <td>3</td>\n",
       "      <td>3</td>\n",
       "      <td>1982</td>\n",
       "      <td>179.0</td>\n",
       "      <td>82.0</td>\n",
       "      <td>3</td>\n",
       "      <td>0.750</td>\n",
       "    </tr>\n",
       "    <tr>\n",
       "      <th>2</th>\n",
       "      <td>0</td>\n",
       "      <td>5</td>\n",
       "      <td>2</td>\n",
       "      <td>1979</td>\n",
       "      <td>182.0</td>\n",
       "      <td>71.0</td>\n",
       "      <td>5</td>\n",
       "      <td>0.125</td>\n",
       "    </tr>\n",
       "    <tr>\n",
       "      <th>3</th>\n",
       "      <td>0</td>\n",
       "      <td>7</td>\n",
       "      <td>2</td>\n",
       "      <td>1985</td>\n",
       "      <td>187.0</td>\n",
       "      <td>80.0</td>\n",
       "      <td>7</td>\n",
       "      <td>0.125</td>\n",
       "    </tr>\n",
       "    <tr>\n",
       "      <th>4</th>\n",
       "      <td>10</td>\n",
       "      <td>9</td>\n",
       "      <td>2</td>\n",
       "      <td>1986</td>\n",
       "      <td>180.0</td>\n",
       "      <td>68.0</td>\n",
       "      <td>9</td>\n",
       "      <td>1.000</td>\n",
       "    </tr>\n",
       "  </tbody>\n",
       "</table>\n",
       "</div>"
      ],
      "text/plain": [
       "   player  club  leagueCountry  birthday  height  weight  position  rater\n",
       "0      37     1              1      1983   177.0    72.0         1  0.375\n",
       "1      14     3              3      1982   179.0    82.0         3  0.750\n",
       "2       0     5              2      1979   182.0    71.0         5  0.125\n",
       "3       0     7              2      1985   187.0    80.0         7  0.125\n",
       "4      10     9              2      1986   180.0    68.0         9  1.000"
      ]
     },
     "execution_count": 48,
     "metadata": {},
     "output_type": "execute_result"
    }
   ],
   "source": [
    "dataPlayer.head()"
   ]
  },
  {
   "cell_type": "code",
   "execution_count": 49,
   "metadata": {
    "collapsed": false
   },
   "outputs": [],
   "source": [
    "playerMat=dataPlayer.as_matrix()"
   ]
  },
  {
   "cell_type": "markdown",
   "metadata": {},
   "source": [
    "- playerMat will be then the matrix related to the player"
   ]
  },
  {
   "cell_type": "code",
   "execution_count": 50,
   "metadata": {
    "collapsed": false
   },
   "outputs": [],
   "source": [
    "columns=np.asarray(dataPlayer.columns)[:dataPlayer.shape[1]-1]"
   ]
  },
  {
   "cell_type": "markdown",
   "metadata": {},
   "source": [
    "## data REFEREE"
   ]
  },
  {
   "cell_type": "markdown",
   "metadata": {},
   "source": [
    "- Dealing with referee related features"
   ]
  },
  {
   "cell_type": "code",
   "execution_count": 51,
   "metadata": {
    "collapsed": true
   },
   "outputs": [],
   "source": [
    "dataRef=data[['refNum','refCountry','meanIAT','meanExp']]"
   ]
  },
  {
   "cell_type": "code",
   "execution_count": 52,
   "metadata": {
    "collapsed": false
   },
   "outputs": [
    {
     "data": {
      "text/html": [
       "<div>\n",
       "<table border=\"1\" class=\"dataframe\">\n",
       "  <thead>\n",
       "    <tr style=\"text-align: right;\">\n",
       "      <th></th>\n",
       "      <th>refNum</th>\n",
       "      <th>refCountry</th>\n",
       "      <th>meanIAT</th>\n",
       "      <th>meanExp</th>\n",
       "    </tr>\n",
       "  </thead>\n",
       "  <tbody>\n",
       "    <tr>\n",
       "      <th>0</th>\n",
       "      <td>1</td>\n",
       "      <td>1</td>\n",
       "      <td>0.326391</td>\n",
       "      <td>0.396000</td>\n",
       "    </tr>\n",
       "    <tr>\n",
       "      <th>1</th>\n",
       "      <td>2</td>\n",
       "      <td>2</td>\n",
       "      <td>0.203375</td>\n",
       "      <td>-0.204082</td>\n",
       "    </tr>\n",
       "    <tr>\n",
       "      <th>5</th>\n",
       "      <td>4</td>\n",
       "      <td>4</td>\n",
       "      <td>0.325185</td>\n",
       "      <td>0.538462</td>\n",
       "    </tr>\n",
       "    <tr>\n",
       "      <th>6</th>\n",
       "      <td>4</td>\n",
       "      <td>4</td>\n",
       "      <td>0.325185</td>\n",
       "      <td>0.538462</td>\n",
       "    </tr>\n",
       "    <tr>\n",
       "      <th>7</th>\n",
       "      <td>4</td>\n",
       "      <td>4</td>\n",
       "      <td>0.325185</td>\n",
       "      <td>0.538462</td>\n",
       "    </tr>\n",
       "  </tbody>\n",
       "</table>\n",
       "</div>"
      ],
      "text/plain": [
       "   refNum  refCountry   meanIAT   meanExp\n",
       "0       1           1  0.326391  0.396000\n",
       "1       2           2  0.203375 -0.204082\n",
       "5       4           4  0.325185  0.538462\n",
       "6       4           4  0.325185  0.538462\n",
       "7       4           4  0.325185  0.538462"
      ]
     },
     "execution_count": 52,
     "metadata": {},
     "output_type": "execute_result"
    }
   ],
   "source": [
    "dataRef.head()"
   ]
  },
  {
   "cell_type": "code",
   "execution_count": 53,
   "metadata": {
    "collapsed": true
   },
   "outputs": [],
   "source": [
    "dataRef=dataRef.drop_duplicates()\n",
    "dataRef=dataRef.reset_index()"
   ]
  },
  {
   "cell_type": "code",
   "execution_count": 54,
   "metadata": {
    "collapsed": true
   },
   "outputs": [],
   "source": [
    "dataRef=dataRef.drop('index',axis=1)"
   ]
  },
  {
   "cell_type": "code",
   "execution_count": 55,
   "metadata": {
    "collapsed": false
   },
   "outputs": [
    {
     "data": {
      "text/html": [
       "<div>\n",
       "<table border=\"1\" class=\"dataframe\">\n",
       "  <thead>\n",
       "    <tr style=\"text-align: right;\">\n",
       "      <th></th>\n",
       "      <th>refNum</th>\n",
       "      <th>refCountry</th>\n",
       "      <th>meanIAT</th>\n",
       "      <th>meanExp</th>\n",
       "    </tr>\n",
       "  </thead>\n",
       "  <tbody>\n",
       "    <tr>\n",
       "      <th>0</th>\n",
       "      <td>1</td>\n",
       "      <td>1</td>\n",
       "      <td>0.326391</td>\n",
       "      <td>0.396000</td>\n",
       "    </tr>\n",
       "    <tr>\n",
       "      <th>1</th>\n",
       "      <td>2</td>\n",
       "      <td>2</td>\n",
       "      <td>0.203375</td>\n",
       "      <td>-0.204082</td>\n",
       "    </tr>\n",
       "    <tr>\n",
       "      <th>2</th>\n",
       "      <td>4</td>\n",
       "      <td>4</td>\n",
       "      <td>0.325185</td>\n",
       "      <td>0.538462</td>\n",
       "    </tr>\n",
       "    <tr>\n",
       "      <th>3</th>\n",
       "      <td>6</td>\n",
       "      <td>6</td>\n",
       "      <td>0.322177</td>\n",
       "      <td>0.117647</td>\n",
       "    </tr>\n",
       "    <tr>\n",
       "      <th>4</th>\n",
       "      <td>7</td>\n",
       "      <td>7</td>\n",
       "      <td>0.334684</td>\n",
       "      <td>0.336101</td>\n",
       "    </tr>\n",
       "  </tbody>\n",
       "</table>\n",
       "</div>"
      ],
      "text/plain": [
       "   refNum  refCountry   meanIAT   meanExp\n",
       "0       1           1  0.326391  0.396000\n",
       "1       2           2  0.203375 -0.204082\n",
       "2       4           4  0.325185  0.538462\n",
       "3       6           6  0.322177  0.117647\n",
       "4       7           7  0.334684  0.336101"
      ]
     },
     "execution_count": 55,
     "metadata": {},
     "output_type": "execute_result"
    }
   ],
   "source": [
    "dataRef.head()"
   ]
  },
  {
   "cell_type": "markdown",
   "metadata": {},
   "source": [
    "- standardizing both meanIAT and meanEXP"
   ]
  },
  {
   "cell_type": "code",
   "execution_count": 56,
   "metadata": {
    "collapsed": true
   },
   "outputs": [],
   "source": [
    "dataRef['meanIAT']=(dataRef['meanIAT']-np.mean(dataRef['meanIAT']))/np.std(dataRef['meanIAT'])"
   ]
  },
  {
   "cell_type": "code",
   "execution_count": 57,
   "metadata": {
    "collapsed": true
   },
   "outputs": [],
   "source": [
    "dataRef['meanExp']=(dataRef['meanExp']-np.mean(dataRef['meanExp']))/np.std(dataRef['meanExp'])"
   ]
  },
  {
   "cell_type": "markdown",
   "metadata": {},
   "source": [
    "- We create a new feature : indicator which indicates the racism in referee country of origin"
   ]
  },
  {
   "cell_type": "code",
   "execution_count": 58,
   "metadata": {
    "collapsed": true
   },
   "outputs": [],
   "source": [
    "dataRef['indicator']=(dataRef['meanExp']+dataRef['meanIAT'])/2"
   ]
  },
  {
   "cell_type": "markdown",
   "metadata": {},
   "source": [
    "- We drop them since we already used them in the creation of indicator"
   ]
  },
  {
   "cell_type": "code",
   "execution_count": 59,
   "metadata": {
    "collapsed": true
   },
   "outputs": [],
   "source": [
    "dataRef=dataRef.drop('meanIAT',axis=1)\n",
    "dataRef=dataRef.drop('meanExp',axis=1)"
   ]
  },
  {
   "cell_type": "markdown",
   "metadata": {},
   "source": [
    "- As discussed in the \"IDEA OF THE TREATMENT\", we define three categories for referees depending on the indicator of racism in their country of origin \n",
    "- We selected the threshold in such a way to have approximately the same number of referees at the tails."
   ]
  },
  {
   "cell_type": "code",
   "execution_count": 60,
   "metadata": {
    "collapsed": false
   },
   "outputs": [
    {
     "data": {
      "text/plain": [
       "(34,)"
      ]
     },
     "execution_count": 60,
     "metadata": {},
     "output_type": "execute_result"
    }
   ],
   "source": [
    "dataRef[dataRef['indicator']<-1.5]['refCountry'].unique().shape"
   ]
  },
  {
   "cell_type": "code",
   "execution_count": 61,
   "metadata": {
    "collapsed": false
   },
   "outputs": [
    {
     "data": {
      "text/plain": [
       "(33,)"
      ]
     },
     "execution_count": 61,
     "metadata": {},
     "output_type": "execute_result"
    }
   ],
   "source": [
    "dataRef[dataRef['indicator']>0.5]['refCountry'].unique().shape"
   ]
  },
  {
   "cell_type": "code",
   "execution_count": 62,
   "metadata": {
    "collapsed": false
   },
   "outputs": [
    {
     "data": {
      "text/plain": [
       "(88,)"
      ]
     },
     "execution_count": 62,
     "metadata": {},
     "output_type": "execute_result"
    }
   ],
   "source": [
    "dataRef[(dataRef['indicator']>=-1.5) & (dataRef['indicator']<=0.5)]['refCountry'].unique().shape"
   ]
  },
  {
   "cell_type": "markdown",
   "metadata": {},
   "source": [
    "- There are five country's for which we have no indicator\n",
    "- For those country's we decided to put them in the middle class"
   ]
  },
  {
   "cell_type": "code",
   "execution_count": 63,
   "metadata": {
    "collapsed": false
   },
   "outputs": [
    {
     "data": {
      "text/plain": [
       "(5,)"
      ]
     },
     "execution_count": 63,
     "metadata": {},
     "output_type": "execute_result"
    }
   ],
   "source": [
    "dataRef[dataRef['indicator'].isnull()]['refCountry'].unique().shape"
   ]
  },
  {
   "cell_type": "code",
   "execution_count": 64,
   "metadata": {
    "collapsed": false
   },
   "outputs": [
    {
     "data": {
      "text/plain": [
       "(160,)"
      ]
     },
     "execution_count": 64,
     "metadata": {},
     "output_type": "execute_result"
    }
   ],
   "source": [
    "dataRef['refCountry'].unique().shape"
   ]
  },
  {
   "cell_type": "markdown",
   "metadata": {},
   "source": [
    "- We define a new feature typeCountry which puts every referee in one of the three classes :\n",
    "- 1/ Referee country correspond to greater feelings of warmth toward whites versus blacks , 2/ Referee country Neutral, 3/ Referee country correspond to lesser feelings of warmth toward whites versus blacks"
   ]
  },
  {
   "cell_type": "code",
   "execution_count": 65,
   "metadata": {
    "collapsed": false
   },
   "outputs": [],
   "source": [
    "dataRef['typeCountry']=[1 if x<-1.5 else 3 if (x>0.5) else 2 for x in dataRef['indicator']]"
   ]
  },
  {
   "cell_type": "code",
   "execution_count": 66,
   "metadata": {
    "collapsed": false
   },
   "outputs": [
    {
     "data": {
      "text/html": [
       "<div>\n",
       "<table border=\"1\" class=\"dataframe\">\n",
       "  <thead>\n",
       "    <tr style=\"text-align: right;\">\n",
       "      <th></th>\n",
       "      <th>refNum</th>\n",
       "      <th>refCountry</th>\n",
       "      <th>indicator</th>\n",
       "      <th>typeCountry</th>\n",
       "    </tr>\n",
       "  </thead>\n",
       "  <tbody>\n",
       "    <tr>\n",
       "      <th>0</th>\n",
       "      <td>1</td>\n",
       "      <td>1</td>\n",
       "      <td>-0.297311</td>\n",
       "      <td>2</td>\n",
       "    </tr>\n",
       "    <tr>\n",
       "      <th>1</th>\n",
       "      <td>2</td>\n",
       "      <td>2</td>\n",
       "      <td>-2.303716</td>\n",
       "      <td>1</td>\n",
       "    </tr>\n",
       "    <tr>\n",
       "      <th>2</th>\n",
       "      <td>4</td>\n",
       "      <td>4</td>\n",
       "      <td>-0.107207</td>\n",
       "      <td>2</td>\n",
       "    </tr>\n",
       "    <tr>\n",
       "      <th>3</th>\n",
       "      <td>6</td>\n",
       "      <td>6</td>\n",
       "      <td>-0.730604</td>\n",
       "      <td>2</td>\n",
       "    </tr>\n",
       "    <tr>\n",
       "      <th>4</th>\n",
       "      <td>7</td>\n",
       "      <td>7</td>\n",
       "      <td>-0.303969</td>\n",
       "      <td>2</td>\n",
       "    </tr>\n",
       "  </tbody>\n",
       "</table>\n",
       "</div>"
      ],
      "text/plain": [
       "   refNum  refCountry  indicator  typeCountry\n",
       "0       1           1  -0.297311            2\n",
       "1       2           2  -2.303716            1\n",
       "2       4           4  -0.107207            2\n",
       "3       6           6  -0.730604            2\n",
       "4       7           7  -0.303969            2"
      ]
     },
     "execution_count": 66,
     "metadata": {},
     "output_type": "execute_result"
    }
   ],
   "source": [
    "dataRef.head()"
   ]
  },
  {
   "cell_type": "code",
   "execution_count": 67,
   "metadata": {
    "collapsed": false
   },
   "outputs": [],
   "source": [
    "dataRef=dataRef.drop('indicator',axis=1)\n",
    "dataRef=dataRef.drop('refCountry',axis=1)"
   ]
  },
  {
   "cell_type": "code",
   "execution_count": 68,
   "metadata": {
    "collapsed": false
   },
   "outputs": [
    {
     "data": {
      "text/html": [
       "<div>\n",
       "<table border=\"1\" class=\"dataframe\">\n",
       "  <thead>\n",
       "    <tr style=\"text-align: right;\">\n",
       "      <th></th>\n",
       "      <th>refNum</th>\n",
       "      <th>typeCountry</th>\n",
       "    </tr>\n",
       "  </thead>\n",
       "  <tbody>\n",
       "    <tr>\n",
       "      <th>0</th>\n",
       "      <td>1</td>\n",
       "      <td>2</td>\n",
       "    </tr>\n",
       "    <tr>\n",
       "      <th>1</th>\n",
       "      <td>2</td>\n",
       "      <td>1</td>\n",
       "    </tr>\n",
       "    <tr>\n",
       "      <th>2</th>\n",
       "      <td>4</td>\n",
       "      <td>2</td>\n",
       "    </tr>\n",
       "    <tr>\n",
       "      <th>3</th>\n",
       "      <td>6</td>\n",
       "      <td>2</td>\n",
       "    </tr>\n",
       "    <tr>\n",
       "      <th>4</th>\n",
       "      <td>7</td>\n",
       "      <td>2</td>\n",
       "    </tr>\n",
       "  </tbody>\n",
       "</table>\n",
       "</div>"
      ],
      "text/plain": [
       "   refNum  typeCountry\n",
       "0       1            2\n",
       "1       2            1\n",
       "2       4            2\n",
       "3       6            2\n",
       "4       7            2"
      ]
     },
     "execution_count": 68,
     "metadata": {},
     "output_type": "execute_result"
    }
   ],
   "source": [
    "dataRef.head()"
   ]
  },
  {
   "cell_type": "code",
   "execution_count": 69,
   "metadata": {
    "collapsed": true
   },
   "outputs": [],
   "source": [
    "refNumType={}\n",
    "for i in range(dataRef.shape[0]):\n",
    "    refNumType[dataRef['refNum'][i]]=dataRef['typeCountry'][i]"
   ]
  },
  {
   "cell_type": "markdown",
   "metadata": {},
   "source": [
    "#### PLAYER-REFEREE"
   ]
  },
  {
   "cell_type": "code",
   "execution_count": 70,
   "metadata": {
    "collapsed": false
   },
   "outputs": [
    {
     "data": {
      "text/plain": [
       "Index(['playerShort', 'player', 'club', 'leagueCountry', 'birthday', 'height',\n",
       "       'weight', 'position', 'games', 'victories', 'ties', 'defeats', 'goals',\n",
       "       'yellowCards', 'yellowReds', 'redCards', 'photoID', 'rater1', 'rater2',\n",
       "       'refNum', 'refCountry', 'Alpha_3', 'meanIAT', 'nIAT', 'seIAT',\n",
       "       'meanExp', 'nExp', 'seExp'],\n",
       "      dtype='object')"
      ]
     },
     "execution_count": 70,
     "metadata": {},
     "output_type": "execute_result"
    }
   ],
   "source": [
    "data.columns"
   ]
  },
  {
   "cell_type": "markdown",
   "metadata": {},
   "source": [
    "- Dealing with all the features of the interaction player-referee"
   ]
  },
  {
   "cell_type": "code",
   "execution_count": 71,
   "metadata": {
    "collapsed": false
   },
   "outputs": [],
   "source": [
    "dataPlayerRef=data[['playerShort','games','victories','ties','defeats','goals','yellowCards', 'yellowReds', 'redCards','refNum']]"
   ]
  },
  {
   "cell_type": "code",
   "execution_count": 72,
   "metadata": {
    "collapsed": false
   },
   "outputs": [
    {
     "data": {
      "text/html": [
       "<div>\n",
       "<table border=\"1\" class=\"dataframe\">\n",
       "  <thead>\n",
       "    <tr style=\"text-align: right;\">\n",
       "      <th></th>\n",
       "      <th>playerShort</th>\n",
       "      <th>games</th>\n",
       "      <th>victories</th>\n",
       "      <th>ties</th>\n",
       "      <th>defeats</th>\n",
       "      <th>goals</th>\n",
       "      <th>yellowCards</th>\n",
       "      <th>yellowReds</th>\n",
       "      <th>redCards</th>\n",
       "      <th>refNum</th>\n",
       "    </tr>\n",
       "  </thead>\n",
       "  <tbody>\n",
       "    <tr>\n",
       "      <th>0</th>\n",
       "      <td>lucas-wilchez</td>\n",
       "      <td>1</td>\n",
       "      <td>0</td>\n",
       "      <td>0</td>\n",
       "      <td>1</td>\n",
       "      <td>0</td>\n",
       "      <td>0</td>\n",
       "      <td>0</td>\n",
       "      <td>0</td>\n",
       "      <td>1</td>\n",
       "    </tr>\n",
       "    <tr>\n",
       "      <th>1</th>\n",
       "      <td>john-utaka</td>\n",
       "      <td>1</td>\n",
       "      <td>0</td>\n",
       "      <td>0</td>\n",
       "      <td>1</td>\n",
       "      <td>0</td>\n",
       "      <td>1</td>\n",
       "      <td>0</td>\n",
       "      <td>0</td>\n",
       "      <td>2</td>\n",
       "    </tr>\n",
       "    <tr>\n",
       "      <th>5</th>\n",
       "      <td>aaron-hughes</td>\n",
       "      <td>1</td>\n",
       "      <td>0</td>\n",
       "      <td>0</td>\n",
       "      <td>1</td>\n",
       "      <td>0</td>\n",
       "      <td>0</td>\n",
       "      <td>0</td>\n",
       "      <td>0</td>\n",
       "      <td>4</td>\n",
       "    </tr>\n",
       "    <tr>\n",
       "      <th>6</th>\n",
       "      <td>aleksandar-kolarov</td>\n",
       "      <td>1</td>\n",
       "      <td>1</td>\n",
       "      <td>0</td>\n",
       "      <td>0</td>\n",
       "      <td>0</td>\n",
       "      <td>0</td>\n",
       "      <td>0</td>\n",
       "      <td>0</td>\n",
       "      <td>4</td>\n",
       "    </tr>\n",
       "    <tr>\n",
       "      <th>7</th>\n",
       "      <td>alexander-tettey</td>\n",
       "      <td>1</td>\n",
       "      <td>0</td>\n",
       "      <td>0</td>\n",
       "      <td>1</td>\n",
       "      <td>0</td>\n",
       "      <td>0</td>\n",
       "      <td>0</td>\n",
       "      <td>0</td>\n",
       "      <td>4</td>\n",
       "    </tr>\n",
       "  </tbody>\n",
       "</table>\n",
       "</div>"
      ],
      "text/plain": [
       "          playerShort  games  victories  ties  defeats  goals  yellowCards  \\\n",
       "0       lucas-wilchez      1          0     0        1      0            0   \n",
       "1          john-utaka      1          0     0        1      0            1   \n",
       "5        aaron-hughes      1          0     0        1      0            0   \n",
       "6  aleksandar-kolarov      1          1     0        0      0            0   \n",
       "7    alexander-tettey      1          0     0        1      0            0   \n",
       "\n",
       "   yellowReds  redCards  refNum  \n",
       "0           0         0       1  \n",
       "1           0         0       2  \n",
       "5           0         0       4  \n",
       "6           0         0       4  \n",
       "7           0         0       4  "
      ]
     },
     "execution_count": 72,
     "metadata": {},
     "output_type": "execute_result"
    }
   ],
   "source": [
    "dataPlayerRef.head()"
   ]
  },
  {
   "cell_type": "code",
   "execution_count": 73,
   "metadata": {
    "collapsed": true
   },
   "outputs": [],
   "source": [
    "dataPlayerRef=dataPlayerRef.reset_index()\n",
    "dataPlayerRef=dataPlayerRef.drop('index',axis=1)"
   ]
  },
  {
   "cell_type": "markdown",
   "metadata": {},
   "source": [
    "- Appending the category of each referee (typeCountry)"
   ]
  },
  {
   "cell_type": "code",
   "execution_count": 74,
   "metadata": {
    "collapsed": false
   },
   "outputs": [],
   "source": [
    "typeCountry=[]\n",
    "for i in range(dataPlayerRef.shape[0]):\n",
    "    typeCountry.append(refNumType[dataPlayerRef['refNum'][i]])"
   ]
  },
  {
   "cell_type": "markdown",
   "metadata": {},
   "source": [
    "- Adding the category of each referee to the dataframe"
   ]
  },
  {
   "cell_type": "code",
   "execution_count": 75,
   "metadata": {
    "collapsed": false
   },
   "outputs": [],
   "source": [
    "dataPlayerRef['typeCountry']=typeCountry"
   ]
  },
  {
   "cell_type": "markdown",
   "metadata": {},
   "source": [
    "- We then drop the referee number, since we have to which category it belongs."
   ]
  },
  {
   "cell_type": "code",
   "execution_count": 76,
   "metadata": {
    "collapsed": false
   },
   "outputs": [],
   "source": [
    "dataPlayerRef=dataPlayerRef.drop('refNum',axis=1)"
   ]
  },
  {
   "cell_type": "code",
   "execution_count": 77,
   "metadata": {
    "collapsed": false
   },
   "outputs": [
    {
     "data": {
      "text/html": [
       "<div>\n",
       "<table border=\"1\" class=\"dataframe\">\n",
       "  <thead>\n",
       "    <tr style=\"text-align: right;\">\n",
       "      <th></th>\n",
       "      <th>playerShort</th>\n",
       "      <th>games</th>\n",
       "      <th>victories</th>\n",
       "      <th>ties</th>\n",
       "      <th>defeats</th>\n",
       "      <th>goals</th>\n",
       "      <th>yellowCards</th>\n",
       "      <th>yellowReds</th>\n",
       "      <th>redCards</th>\n",
       "      <th>typeCountry</th>\n",
       "    </tr>\n",
       "  </thead>\n",
       "  <tbody>\n",
       "    <tr>\n",
       "      <th>0</th>\n",
       "      <td>lucas-wilchez</td>\n",
       "      <td>1</td>\n",
       "      <td>0</td>\n",
       "      <td>0</td>\n",
       "      <td>1</td>\n",
       "      <td>0</td>\n",
       "      <td>0</td>\n",
       "      <td>0</td>\n",
       "      <td>0</td>\n",
       "      <td>2</td>\n",
       "    </tr>\n",
       "    <tr>\n",
       "      <th>1</th>\n",
       "      <td>john-utaka</td>\n",
       "      <td>1</td>\n",
       "      <td>0</td>\n",
       "      <td>0</td>\n",
       "      <td>1</td>\n",
       "      <td>0</td>\n",
       "      <td>1</td>\n",
       "      <td>0</td>\n",
       "      <td>0</td>\n",
       "      <td>1</td>\n",
       "    </tr>\n",
       "    <tr>\n",
       "      <th>2</th>\n",
       "      <td>aaron-hughes</td>\n",
       "      <td>1</td>\n",
       "      <td>0</td>\n",
       "      <td>0</td>\n",
       "      <td>1</td>\n",
       "      <td>0</td>\n",
       "      <td>0</td>\n",
       "      <td>0</td>\n",
       "      <td>0</td>\n",
       "      <td>2</td>\n",
       "    </tr>\n",
       "    <tr>\n",
       "      <th>3</th>\n",
       "      <td>aleksandar-kolarov</td>\n",
       "      <td>1</td>\n",
       "      <td>1</td>\n",
       "      <td>0</td>\n",
       "      <td>0</td>\n",
       "      <td>0</td>\n",
       "      <td>0</td>\n",
       "      <td>0</td>\n",
       "      <td>0</td>\n",
       "      <td>2</td>\n",
       "    </tr>\n",
       "    <tr>\n",
       "      <th>4</th>\n",
       "      <td>alexander-tettey</td>\n",
       "      <td>1</td>\n",
       "      <td>0</td>\n",
       "      <td>0</td>\n",
       "      <td>1</td>\n",
       "      <td>0</td>\n",
       "      <td>0</td>\n",
       "      <td>0</td>\n",
       "      <td>0</td>\n",
       "      <td>2</td>\n",
       "    </tr>\n",
       "  </tbody>\n",
       "</table>\n",
       "</div>"
      ],
      "text/plain": [
       "          playerShort  games  victories  ties  defeats  goals  yellowCards  \\\n",
       "0       lucas-wilchez      1          0     0        1      0            0   \n",
       "1          john-utaka      1          0     0        1      0            1   \n",
       "2        aaron-hughes      1          0     0        1      0            0   \n",
       "3  aleksandar-kolarov      1          1     0        0      0            0   \n",
       "4    alexander-tettey      1          0     0        1      0            0   \n",
       "\n",
       "   yellowReds  redCards  typeCountry  \n",
       "0           0         0            2  \n",
       "1           0         0            1  \n",
       "2           0         0            2  \n",
       "3           0         0            2  \n",
       "4           0         0            2  "
      ]
     },
     "execution_count": 77,
     "metadata": {},
     "output_type": "execute_result"
    }
   ],
   "source": [
    "dataPlayerRef.head()"
   ]
  },
  {
   "cell_type": "markdown",
   "metadata": {},
   "source": [
    "- As discussed in the \"IDEA OF THE TREATMENT\", we finally groupby the unique player name and the category(typeCountry)"
   ]
  },
  {
   "cell_type": "code",
   "execution_count": 78,
   "metadata": {
    "collapsed": false
   },
   "outputs": [],
   "source": [
    "PlayerRef_grouped=dataPlayerRef.groupby(['playerShort','typeCountry'])"
   ]
  },
  {
   "cell_type": "markdown",
   "metadata": {},
   "source": [
    "- We sum over all the player-referee related features by category"
   ]
  },
  {
   "cell_type": "code",
   "execution_count": 79,
   "metadata": {
    "collapsed": true
   },
   "outputs": [],
   "source": [
    "PlayerRef_grouped=PlayerRef_grouped.sum()"
   ]
  },
  {
   "cell_type": "code",
   "execution_count": 80,
   "metadata": {
    "collapsed": false
   },
   "outputs": [
    {
     "data": {
      "text/html": [
       "<div>\n",
       "<table border=\"1\" class=\"dataframe\">\n",
       "  <thead>\n",
       "    <tr style=\"text-align: right;\">\n",
       "      <th></th>\n",
       "      <th></th>\n",
       "      <th>games</th>\n",
       "      <th>victories</th>\n",
       "      <th>ties</th>\n",
       "      <th>defeats</th>\n",
       "      <th>goals</th>\n",
       "      <th>yellowCards</th>\n",
       "      <th>yellowReds</th>\n",
       "      <th>redCards</th>\n",
       "    </tr>\n",
       "    <tr>\n",
       "      <th>playerShort</th>\n",
       "      <th>typeCountry</th>\n",
       "      <th></th>\n",
       "      <th></th>\n",
       "      <th></th>\n",
       "      <th></th>\n",
       "      <th></th>\n",
       "      <th></th>\n",
       "      <th></th>\n",
       "      <th></th>\n",
       "    </tr>\n",
       "  </thead>\n",
       "  <tbody>\n",
       "    <tr>\n",
       "      <th rowspan=\"2\" valign=\"top\">aaron-hughes</th>\n",
       "      <th>2</th>\n",
       "      <td>626</td>\n",
       "      <td>234</td>\n",
       "      <td>173</td>\n",
       "      <td>219</td>\n",
       "      <td>8</td>\n",
       "      <td>18</td>\n",
       "      <td>0</td>\n",
       "      <td>0</td>\n",
       "    </tr>\n",
       "    <tr>\n",
       "      <th>3</th>\n",
       "      <td>28</td>\n",
       "      <td>13</td>\n",
       "      <td>6</td>\n",
       "      <td>9</td>\n",
       "      <td>1</td>\n",
       "      <td>1</td>\n",
       "      <td>0</td>\n",
       "      <td>0</td>\n",
       "    </tr>\n",
       "    <tr>\n",
       "      <th rowspan=\"2\" valign=\"top\">aaron-hunt</th>\n",
       "      <th>2</th>\n",
       "      <td>323</td>\n",
       "      <td>134</td>\n",
       "      <td>70</td>\n",
       "      <td>119</td>\n",
       "      <td>61</td>\n",
       "      <td>39</td>\n",
       "      <td>0</td>\n",
       "      <td>1</td>\n",
       "    </tr>\n",
       "    <tr>\n",
       "      <th>3</th>\n",
       "      <td>13</td>\n",
       "      <td>7</td>\n",
       "      <td>3</td>\n",
       "      <td>3</td>\n",
       "      <td>1</td>\n",
       "      <td>3</td>\n",
       "      <td>0</td>\n",
       "      <td>0</td>\n",
       "    </tr>\n",
       "    <tr>\n",
       "      <th>aaron-lennon</th>\n",
       "      <th>2</th>\n",
       "      <td>391</td>\n",
       "      <td>185</td>\n",
       "      <td>92</td>\n",
       "      <td>114</td>\n",
       "      <td>31</td>\n",
       "      <td>10</td>\n",
       "      <td>0</td>\n",
       "      <td>0</td>\n",
       "    </tr>\n",
       "  </tbody>\n",
       "</table>\n",
       "</div>"
      ],
      "text/plain": [
       "                          games  victories  ties  defeats  goals  yellowCards  \\\n",
       "playerShort  typeCountry                                                        \n",
       "aaron-hughes 2              626        234   173      219      8           18   \n",
       "             3               28         13     6        9      1            1   \n",
       "aaron-hunt   2              323        134    70      119     61           39   \n",
       "             3               13          7     3        3      1            3   \n",
       "aaron-lennon 2              391        185    92      114     31           10   \n",
       "\n",
       "                          yellowReds  redCards  \n",
       "playerShort  typeCountry                        \n",
       "aaron-hughes 2                     0         0  \n",
       "             3                     0         0  \n",
       "aaron-hunt   2                     0         1  \n",
       "             3                     0         0  \n",
       "aaron-lennon 2                     0         0  "
      ]
     },
     "execution_count": 80,
     "metadata": {},
     "output_type": "execute_result"
    }
   ],
   "source": [
    "PlayerRef_grouped.head()"
   ]
  },
  {
   "cell_type": "code",
   "execution_count": 81,
   "metadata": {
    "collapsed": true
   },
   "outputs": [],
   "source": [
    "PlayerRef_grouped=PlayerRef_grouped.reset_index()"
   ]
  },
  {
   "cell_type": "code",
   "execution_count": 82,
   "metadata": {
    "collapsed": false
   },
   "outputs": [
    {
     "data": {
      "text/html": [
       "<div>\n",
       "<table border=\"1\" class=\"dataframe\">\n",
       "  <thead>\n",
       "    <tr style=\"text-align: right;\">\n",
       "      <th></th>\n",
       "      <th>playerShort</th>\n",
       "      <th>typeCountry</th>\n",
       "      <th>games</th>\n",
       "      <th>victories</th>\n",
       "      <th>ties</th>\n",
       "      <th>defeats</th>\n",
       "      <th>goals</th>\n",
       "      <th>yellowCards</th>\n",
       "      <th>yellowReds</th>\n",
       "      <th>redCards</th>\n",
       "    </tr>\n",
       "  </thead>\n",
       "  <tbody>\n",
       "    <tr>\n",
       "      <th>0</th>\n",
       "      <td>aaron-hughes</td>\n",
       "      <td>2</td>\n",
       "      <td>626</td>\n",
       "      <td>234</td>\n",
       "      <td>173</td>\n",
       "      <td>219</td>\n",
       "      <td>8</td>\n",
       "      <td>18</td>\n",
       "      <td>0</td>\n",
       "      <td>0</td>\n",
       "    </tr>\n",
       "    <tr>\n",
       "      <th>1</th>\n",
       "      <td>aaron-hughes</td>\n",
       "      <td>3</td>\n",
       "      <td>28</td>\n",
       "      <td>13</td>\n",
       "      <td>6</td>\n",
       "      <td>9</td>\n",
       "      <td>1</td>\n",
       "      <td>1</td>\n",
       "      <td>0</td>\n",
       "      <td>0</td>\n",
       "    </tr>\n",
       "    <tr>\n",
       "      <th>2</th>\n",
       "      <td>aaron-hunt</td>\n",
       "      <td>2</td>\n",
       "      <td>323</td>\n",
       "      <td>134</td>\n",
       "      <td>70</td>\n",
       "      <td>119</td>\n",
       "      <td>61</td>\n",
       "      <td>39</td>\n",
       "      <td>0</td>\n",
       "      <td>1</td>\n",
       "    </tr>\n",
       "    <tr>\n",
       "      <th>3</th>\n",
       "      <td>aaron-hunt</td>\n",
       "      <td>3</td>\n",
       "      <td>13</td>\n",
       "      <td>7</td>\n",
       "      <td>3</td>\n",
       "      <td>3</td>\n",
       "      <td>1</td>\n",
       "      <td>3</td>\n",
       "      <td>0</td>\n",
       "      <td>0</td>\n",
       "    </tr>\n",
       "    <tr>\n",
       "      <th>4</th>\n",
       "      <td>aaron-lennon</td>\n",
       "      <td>2</td>\n",
       "      <td>391</td>\n",
       "      <td>185</td>\n",
       "      <td>92</td>\n",
       "      <td>114</td>\n",
       "      <td>31</td>\n",
       "      <td>10</td>\n",
       "      <td>0</td>\n",
       "      <td>0</td>\n",
       "    </tr>\n",
       "  </tbody>\n",
       "</table>\n",
       "</div>"
      ],
      "text/plain": [
       "    playerShort  typeCountry  games  victories  ties  defeats  goals  \\\n",
       "0  aaron-hughes            2    626        234   173      219      8   \n",
       "1  aaron-hughes            3     28         13     6        9      1   \n",
       "2    aaron-hunt            2    323        134    70      119     61   \n",
       "3    aaron-hunt            3     13          7     3        3      1   \n",
       "4  aaron-lennon            2    391        185    92      114     31   \n",
       "\n",
       "   yellowCards  yellowReds  redCards  \n",
       "0           18           0         0  \n",
       "1            1           0         0  \n",
       "2           39           0         1  \n",
       "3            3           0         0  \n",
       "4           10           0         0  "
      ]
     },
     "execution_count": 82,
     "metadata": {},
     "output_type": "execute_result"
    }
   ],
   "source": [
    "PlayerRef_grouped.head()"
   ]
  },
  {
   "cell_type": "markdown",
   "metadata": {},
   "source": [
    "- We then divide by the number of games "
   ]
  },
  {
   "cell_type": "code",
   "execution_count": null,
   "metadata": {
    "collapsed": false
   },
   "outputs": [],
   "source": [
    "PlayerRef_grouped[['victories','ties','defeats','goals','yellowCards','yellowReds','redCards']]=PlayerRef_grouped[['victories','ties','defeats','goals','yellowCards','yellowReds','redCards']].div(PlayerRef_grouped['games'],axis=0)"
   ]
  },
  {
   "cell_type": "code",
   "execution_count": 83,
   "metadata": {
    "collapsed": true
   },
   "outputs": [],
   "source": [
    "PlayerRef_grouped['victories']=PlayerRef_grouped['victories'].div(PlayerRef_grouped['games'],axis=0)"
   ]
  },
  {
   "cell_type": "code",
   "execution_count": 85,
   "metadata": {
    "collapsed": false
   },
   "outputs": [],
   "source": [
    "PlayerRef_grouped['ties']=PlayerRef_grouped['ties'].div(PlayerRef_grouped['games'],axis=0)"
   ]
  },
  {
   "cell_type": "code",
   "execution_count": 86,
   "metadata": {
    "collapsed": true
   },
   "outputs": [],
   "source": [
    "PlayerRef_grouped['defeats']=PlayerRef_grouped['defeats'].div(PlayerRef_grouped['games'],axis=0)"
   ]
  },
  {
   "cell_type": "code",
   "execution_count": 87,
   "metadata": {
    "collapsed": true
   },
   "outputs": [],
   "source": [
    "PlayerRef_grouped['goals']=PlayerRef_grouped['goals'].div(PlayerRef_grouped['games'],axis=0)"
   ]
  },
  {
   "cell_type": "code",
   "execution_count": 88,
   "metadata": {
    "collapsed": true
   },
   "outputs": [],
   "source": [
    "PlayerRef_grouped['yellowCards']=PlayerRef_grouped['yellowCards'].div(PlayerRef_grouped['games'],axis=0)"
   ]
  },
  {
   "cell_type": "code",
   "execution_count": 89,
   "metadata": {
    "collapsed": true
   },
   "outputs": [],
   "source": [
    "PlayerRef_grouped['yellowReds']=PlayerRef_grouped['yellowReds'].div(PlayerRef_grouped['games'],axis=0)"
   ]
  },
  {
   "cell_type": "code",
   "execution_count": 90,
   "metadata": {
    "collapsed": true
   },
   "outputs": [],
   "source": [
    "PlayerRef_grouped['redCards']=PlayerRef_grouped['redCards'].div(PlayerRef_grouped['games'],axis=0)"
   ]
  },
  {
   "cell_type": "code",
   "execution_count": null,
   "metadata": {
    "collapsed": true
   },
   "outputs": [],
   "source": []
  },
  {
   "cell_type": "code",
   "execution_count": 91,
   "metadata": {
    "collapsed": false
   },
   "outputs": [
    {
     "data": {
      "text/html": [
       "<div>\n",
       "<table border=\"1\" class=\"dataframe\">\n",
       "  <thead>\n",
       "    <tr style=\"text-align: right;\">\n",
       "      <th></th>\n",
       "      <th>playerShort</th>\n",
       "      <th>typeCountry</th>\n",
       "      <th>games</th>\n",
       "      <th>victories</th>\n",
       "      <th>ties</th>\n",
       "      <th>defeats</th>\n",
       "      <th>goals</th>\n",
       "      <th>yellowCards</th>\n",
       "      <th>yellowReds</th>\n",
       "      <th>redCards</th>\n",
       "    </tr>\n",
       "  </thead>\n",
       "  <tbody>\n",
       "    <tr>\n",
       "      <th>0</th>\n",
       "      <td>aaron-hughes</td>\n",
       "      <td>2</td>\n",
       "      <td>626</td>\n",
       "      <td>0.373802</td>\n",
       "      <td>0.276358</td>\n",
       "      <td>0.349840</td>\n",
       "      <td>0.012780</td>\n",
       "      <td>0.028754</td>\n",
       "      <td>0.0</td>\n",
       "      <td>0.000000</td>\n",
       "    </tr>\n",
       "    <tr>\n",
       "      <th>1</th>\n",
       "      <td>aaron-hughes</td>\n",
       "      <td>3</td>\n",
       "      <td>28</td>\n",
       "      <td>0.464286</td>\n",
       "      <td>0.214286</td>\n",
       "      <td>0.321429</td>\n",
       "      <td>0.035714</td>\n",
       "      <td>0.035714</td>\n",
       "      <td>0.0</td>\n",
       "      <td>0.000000</td>\n",
       "    </tr>\n",
       "    <tr>\n",
       "      <th>2</th>\n",
       "      <td>aaron-hunt</td>\n",
       "      <td>2</td>\n",
       "      <td>323</td>\n",
       "      <td>0.414861</td>\n",
       "      <td>0.216718</td>\n",
       "      <td>0.368421</td>\n",
       "      <td>0.188854</td>\n",
       "      <td>0.120743</td>\n",
       "      <td>0.0</td>\n",
       "      <td>0.003096</td>\n",
       "    </tr>\n",
       "    <tr>\n",
       "      <th>3</th>\n",
       "      <td>aaron-hunt</td>\n",
       "      <td>3</td>\n",
       "      <td>13</td>\n",
       "      <td>0.538462</td>\n",
       "      <td>0.230769</td>\n",
       "      <td>0.230769</td>\n",
       "      <td>0.076923</td>\n",
       "      <td>0.230769</td>\n",
       "      <td>0.0</td>\n",
       "      <td>0.000000</td>\n",
       "    </tr>\n",
       "    <tr>\n",
       "      <th>4</th>\n",
       "      <td>aaron-lennon</td>\n",
       "      <td>2</td>\n",
       "      <td>391</td>\n",
       "      <td>0.473146</td>\n",
       "      <td>0.235294</td>\n",
       "      <td>0.291560</td>\n",
       "      <td>0.079284</td>\n",
       "      <td>0.025575</td>\n",
       "      <td>0.0</td>\n",
       "      <td>0.000000</td>\n",
       "    </tr>\n",
       "  </tbody>\n",
       "</table>\n",
       "</div>"
      ],
      "text/plain": [
       "    playerShort  typeCountry  games  victories      ties   defeats     goals  \\\n",
       "0  aaron-hughes            2    626   0.373802  0.276358  0.349840  0.012780   \n",
       "1  aaron-hughes            3     28   0.464286  0.214286  0.321429  0.035714   \n",
       "2    aaron-hunt            2    323   0.414861  0.216718  0.368421  0.188854   \n",
       "3    aaron-hunt            3     13   0.538462  0.230769  0.230769  0.076923   \n",
       "4  aaron-lennon            2    391   0.473146  0.235294  0.291560  0.079284   \n",
       "\n",
       "   yellowCards  yellowReds  redCards  \n",
       "0     0.028754         0.0  0.000000  \n",
       "1     0.035714         0.0  0.000000  \n",
       "2     0.120743         0.0  0.003096  \n",
       "3     0.230769         0.0  0.000000  \n",
       "4     0.025575         0.0  0.000000  "
      ]
     },
     "execution_count": 91,
     "metadata": {},
     "output_type": "execute_result"
    }
   ],
   "source": [
    "PlayerRef_grouped.head()"
   ]
  },
  {
   "cell_type": "markdown",
   "metadata": {},
   "source": [
    "- we pivot to create new features : for each interaction player-\"refereecategory\" we will have a group of features :\n",
    "- for instance : \"proportion of redCards given by category 1\",\"proportion ofredCards given by category 2\",\"proportion redCards given by category 1\" ..."
   ]
  },
  {
   "cell_type": "code",
   "execution_count": 92,
   "metadata": {
    "collapsed": false
   },
   "outputs": [],
   "source": [
    "PlayerRef_grouped=PlayerRef_grouped.pivot(\"playerShort\",\"typeCountry\")"
   ]
  },
  {
   "cell_type": "code",
   "execution_count": 93,
   "metadata": {
    "collapsed": false
   },
   "outputs": [],
   "source": [
    "PlayerRef_grouped=PlayerRef_grouped.drop('games',axis=1)"
   ]
  },
  {
   "cell_type": "code",
   "execution_count": 94,
   "metadata": {
    "collapsed": false
   },
   "outputs": [
    {
     "data": {
      "text/html": [
       "<div>\n",
       "<table border=\"1\" class=\"dataframe\">\n",
       "  <thead>\n",
       "    <tr>\n",
       "      <th></th>\n",
       "      <th colspan=\"3\" halign=\"left\">victories</th>\n",
       "      <th colspan=\"3\" halign=\"left\">ties</th>\n",
       "      <th colspan=\"3\" halign=\"left\">defeats</th>\n",
       "      <th colspan=\"3\" halign=\"left\">goals</th>\n",
       "      <th colspan=\"3\" halign=\"left\">yellowCards</th>\n",
       "      <th colspan=\"3\" halign=\"left\">yellowReds</th>\n",
       "      <th colspan=\"3\" halign=\"left\">redCards</th>\n",
       "    </tr>\n",
       "    <tr>\n",
       "      <th>typeCountry</th>\n",
       "      <th>1</th>\n",
       "      <th>2</th>\n",
       "      <th>3</th>\n",
       "      <th>1</th>\n",
       "      <th>2</th>\n",
       "      <th>3</th>\n",
       "      <th>1</th>\n",
       "      <th>2</th>\n",
       "      <th>3</th>\n",
       "      <th>1</th>\n",
       "      <th>...</th>\n",
       "      <th>3</th>\n",
       "      <th>1</th>\n",
       "      <th>2</th>\n",
       "      <th>3</th>\n",
       "      <th>1</th>\n",
       "      <th>2</th>\n",
       "      <th>3</th>\n",
       "      <th>1</th>\n",
       "      <th>2</th>\n",
       "      <th>3</th>\n",
       "    </tr>\n",
       "    <tr>\n",
       "      <th>playerShort</th>\n",
       "      <th></th>\n",
       "      <th></th>\n",
       "      <th></th>\n",
       "      <th></th>\n",
       "      <th></th>\n",
       "      <th></th>\n",
       "      <th></th>\n",
       "      <th></th>\n",
       "      <th></th>\n",
       "      <th></th>\n",
       "      <th></th>\n",
       "      <th></th>\n",
       "      <th></th>\n",
       "      <th></th>\n",
       "      <th></th>\n",
       "      <th></th>\n",
       "      <th></th>\n",
       "      <th></th>\n",
       "      <th></th>\n",
       "      <th></th>\n",
       "      <th></th>\n",
       "    </tr>\n",
       "  </thead>\n",
       "  <tbody>\n",
       "    <tr>\n",
       "      <th>aaron-hughes</th>\n",
       "      <td>NaN</td>\n",
       "      <td>0.373802</td>\n",
       "      <td>0.464286</td>\n",
       "      <td>NaN</td>\n",
       "      <td>0.276358</td>\n",
       "      <td>0.214286</td>\n",
       "      <td>NaN</td>\n",
       "      <td>0.349840</td>\n",
       "      <td>0.321429</td>\n",
       "      <td>NaN</td>\n",
       "      <td>...</td>\n",
       "      <td>0.035714</td>\n",
       "      <td>NaN</td>\n",
       "      <td>0.028754</td>\n",
       "      <td>0.035714</td>\n",
       "      <td>NaN</td>\n",
       "      <td>0.000000</td>\n",
       "      <td>0.0</td>\n",
       "      <td>NaN</td>\n",
       "      <td>0.000000</td>\n",
       "      <td>0.0</td>\n",
       "    </tr>\n",
       "    <tr>\n",
       "      <th>aaron-hunt</th>\n",
       "      <td>NaN</td>\n",
       "      <td>0.414861</td>\n",
       "      <td>0.538462</td>\n",
       "      <td>NaN</td>\n",
       "      <td>0.216718</td>\n",
       "      <td>0.230769</td>\n",
       "      <td>NaN</td>\n",
       "      <td>0.368421</td>\n",
       "      <td>0.230769</td>\n",
       "      <td>NaN</td>\n",
       "      <td>...</td>\n",
       "      <td>0.076923</td>\n",
       "      <td>NaN</td>\n",
       "      <td>0.120743</td>\n",
       "      <td>0.230769</td>\n",
       "      <td>NaN</td>\n",
       "      <td>0.000000</td>\n",
       "      <td>0.0</td>\n",
       "      <td>NaN</td>\n",
       "      <td>0.003096</td>\n",
       "      <td>0.0</td>\n",
       "    </tr>\n",
       "    <tr>\n",
       "      <th>aaron-lennon</th>\n",
       "      <td>NaN</td>\n",
       "      <td>0.473146</td>\n",
       "      <td>0.714286</td>\n",
       "      <td>NaN</td>\n",
       "      <td>0.235294</td>\n",
       "      <td>0.238095</td>\n",
       "      <td>NaN</td>\n",
       "      <td>0.291560</td>\n",
       "      <td>0.047619</td>\n",
       "      <td>NaN</td>\n",
       "      <td>...</td>\n",
       "      <td>0.000000</td>\n",
       "      <td>NaN</td>\n",
       "      <td>0.025575</td>\n",
       "      <td>0.047619</td>\n",
       "      <td>NaN</td>\n",
       "      <td>0.000000</td>\n",
       "      <td>0.0</td>\n",
       "      <td>NaN</td>\n",
       "      <td>0.000000</td>\n",
       "      <td>0.0</td>\n",
       "    </tr>\n",
       "    <tr>\n",
       "      <th>aaron-ramsey</th>\n",
       "      <td>NaN</td>\n",
       "      <td>0.591667</td>\n",
       "      <td>0.400000</td>\n",
       "      <td>NaN</td>\n",
       "      <td>0.166667</td>\n",
       "      <td>0.100000</td>\n",
       "      <td>NaN</td>\n",
       "      <td>0.241667</td>\n",
       "      <td>0.500000</td>\n",
       "      <td>NaN</td>\n",
       "      <td>...</td>\n",
       "      <td>0.200000</td>\n",
       "      <td>NaN</td>\n",
       "      <td>0.120833</td>\n",
       "      <td>0.100000</td>\n",
       "      <td>NaN</td>\n",
       "      <td>0.000000</td>\n",
       "      <td>0.0</td>\n",
       "      <td>NaN</td>\n",
       "      <td>0.004167</td>\n",
       "      <td>0.0</td>\n",
       "    </tr>\n",
       "    <tr>\n",
       "      <th>abdelhamid-el-kaoutari</th>\n",
       "      <td>0.333333</td>\n",
       "      <td>0.327731</td>\n",
       "      <td>0.500000</td>\n",
       "      <td>0.666667</td>\n",
       "      <td>0.310924</td>\n",
       "      <td>0.500000</td>\n",
       "      <td>0.0</td>\n",
       "      <td>0.361345</td>\n",
       "      <td>0.000000</td>\n",
       "      <td>0.0</td>\n",
       "      <td>...</td>\n",
       "      <td>0.000000</td>\n",
       "      <td>0.0</td>\n",
       "      <td>0.067227</td>\n",
       "      <td>0.000000</td>\n",
       "      <td>0.0</td>\n",
       "      <td>0.033613</td>\n",
       "      <td>0.0</td>\n",
       "      <td>0.0</td>\n",
       "      <td>0.016807</td>\n",
       "      <td>0.0</td>\n",
       "    </tr>\n",
       "  </tbody>\n",
       "</table>\n",
       "<p>5 rows × 21 columns</p>\n",
       "</div>"
      ],
      "text/plain": [
       "                       victories                          ties            \\\n",
       "typeCountry                    1         2         3         1         2   \n",
       "playerShort                                                                \n",
       "aaron-hughes                 NaN  0.373802  0.464286       NaN  0.276358   \n",
       "aaron-hunt                   NaN  0.414861  0.538462       NaN  0.216718   \n",
       "aaron-lennon                 NaN  0.473146  0.714286       NaN  0.235294   \n",
       "aaron-ramsey                 NaN  0.591667  0.400000       NaN  0.166667   \n",
       "abdelhamid-el-kaoutari  0.333333  0.327731  0.500000  0.666667  0.310924   \n",
       "\n",
       "                                 defeats                     goals ...   \\\n",
       "typeCountry                    3       1         2         3     1 ...    \n",
       "playerShort                                                        ...    \n",
       "aaron-hughes            0.214286     NaN  0.349840  0.321429   NaN ...    \n",
       "aaron-hunt              0.230769     NaN  0.368421  0.230769   NaN ...    \n",
       "aaron-lennon            0.238095     NaN  0.291560  0.047619   NaN ...    \n",
       "aaron-ramsey            0.100000     NaN  0.241667  0.500000   NaN ...    \n",
       "abdelhamid-el-kaoutari  0.500000     0.0  0.361345  0.000000   0.0 ...    \n",
       "\n",
       "                                 yellowCards                     yellowReds  \\\n",
       "typeCountry                    3           1         2         3          1   \n",
       "playerShort                                                                   \n",
       "aaron-hughes            0.035714         NaN  0.028754  0.035714        NaN   \n",
       "aaron-hunt              0.076923         NaN  0.120743  0.230769        NaN   \n",
       "aaron-lennon            0.000000         NaN  0.025575  0.047619        NaN   \n",
       "aaron-ramsey            0.200000         NaN  0.120833  0.100000        NaN   \n",
       "abdelhamid-el-kaoutari  0.000000         0.0  0.067227  0.000000        0.0   \n",
       "\n",
       "                                      redCards                 \n",
       "typeCountry                    2    3        1         2    3  \n",
       "playerShort                                                    \n",
       "aaron-hughes            0.000000  0.0      NaN  0.000000  0.0  \n",
       "aaron-hunt              0.000000  0.0      NaN  0.003096  0.0  \n",
       "aaron-lennon            0.000000  0.0      NaN  0.000000  0.0  \n",
       "aaron-ramsey            0.000000  0.0      NaN  0.004167  0.0  \n",
       "abdelhamid-el-kaoutari  0.033613  0.0      0.0  0.016807  0.0  \n",
       "\n",
       "[5 rows x 21 columns]"
      ]
     },
     "execution_count": 94,
     "metadata": {},
     "output_type": "execute_result"
    }
   ],
   "source": [
    "PlayerRef_grouped.head()"
   ]
  },
  {
   "cell_type": "markdown",
   "metadata": {},
   "source": [
    "- We fill the missing values by the mean"
   ]
  },
  {
   "cell_type": "code",
   "execution_count": 95,
   "metadata": {
    "collapsed": true
   },
   "outputs": [],
   "source": [
    "PlayerRef_grouped=PlayerRef_grouped.fillna(PlayerRef_grouped.mean())"
   ]
  },
  {
   "cell_type": "code",
   "execution_count": 96,
   "metadata": {
    "collapsed": false
   },
   "outputs": [],
   "source": [
    "playerRef=PlayerRef_grouped.as_matrix()"
   ]
  },
  {
   "cell_type": "code",
   "execution_count": 97,
   "metadata": {
    "collapsed": false
   },
   "outputs": [
    {
     "data": {
      "text/plain": [
       "(1585, 21)"
      ]
     },
     "execution_count": 97,
     "metadata": {},
     "output_type": "execute_result"
    }
   ],
   "source": [
    "playerRef.shape"
   ]
  },
  {
   "cell_type": "markdown",
   "metadata": {},
   "source": [
    "## GROUPING ALL TOGETHER"
   ]
  },
  {
   "cell_type": "markdown",
   "metadata": {},
   "source": [
    "- here we group all the parts we did before"
   ]
  },
  {
   "cell_type": "markdown",
   "metadata": {},
   "source": [
    "- Here we store the response variable and then remove it from the matrix"
   ]
  },
  {
   "cell_type": "code",
   "execution_count": 98,
   "metadata": {
    "collapsed": false
   },
   "outputs": [],
   "source": [
    "Y=playerMat[:,7]"
   ]
  },
  {
   "cell_type": "code",
   "execution_count": 99,
   "metadata": {
    "collapsed": false
   },
   "outputs": [],
   "source": [
    "playerMat=np.delete(playerMat,7,axis=1)"
   ]
  },
  {
   "cell_type": "markdown",
   "metadata": {},
   "source": [
    "- stacking :"
   ]
  },
  {
   "cell_type": "code",
   "execution_count": 100,
   "metadata": {
    "collapsed": false
   },
   "outputs": [],
   "source": [
    "X=np.column_stack((playerMat,playerRef))"
   ]
  },
  {
   "cell_type": "code",
   "execution_count": 101,
   "metadata": {
    "collapsed": false
   },
   "outputs": [],
   "source": [
    "columns=np.concatenate((columns,np.asarray(PlayerRef_grouped.columns.levels[0][1:])+'_1',\n",
    "                        np.asarray(PlayerRef_grouped.columns.levels[0][1:])+'_2',\n",
    "                        np.asarray(PlayerRef_grouped.columns.levels[0][1:])+'_3'))"
   ]
  },
  {
   "cell_type": "markdown",
   "metadata": {},
   "source": [
    "- Below, you can find all of our features that we will feed to the random foret classifier"
   ]
  },
  {
   "cell_type": "code",
   "execution_count": 102,
   "metadata": {
    "collapsed": false
   },
   "outputs": [
    {
     "data": {
      "text/plain": [
       "array(['player', 'club', 'leagueCountry', 'birthday', 'height', 'weight',\n",
       "       'position', 'victories_1', 'ties_1', 'defeats_1', 'goals_1',\n",
       "       'yellowCards_1', 'yellowReds_1', 'redCards_1', 'victories_2',\n",
       "       'ties_2', 'defeats_2', 'goals_2', 'yellowCards_2', 'yellowReds_2',\n",
       "       'redCards_2', 'victories_3', 'ties_3', 'defeats_3', 'goals_3',\n",
       "       'yellowCards_3', 'yellowReds_3', 'redCards_3'], dtype=object)"
      ]
     },
     "execution_count": 102,
     "metadata": {},
     "output_type": "execute_result"
    }
   ],
   "source": [
    "columns"
   ]
  },
  {
   "cell_type": "markdown",
   "metadata": {},
   "source": [
    "# SUPERVISED LEARNING : RANDOM FOREST CLASSIFIER"
   ]
  },
  {
   "cell_type": "code",
   "execution_count": 120,
   "metadata": {
    "collapsed": false
   },
   "outputs": [],
   "source": [
    "from sklearn.ensemble import RandomForestClassifier\n",
    "from sklearn.model_selection import cross_val_score\n",
    "from sklearn.model_selection import train_test_split\n",
    "from sklearn.metrics import f1_score\n",
    "import matplotlib.pyplot as plt\n",
    "from sklearn.model_selection import validation_curve\n",
    "from sklearn.model_selection import learning_curve\n",
    "from sklearn.model_selection import ShuffleSplit\n",
    "from sklearn.metrics import confusion_matrix"
   ]
  },
  {
   "cell_type": "markdown",
   "metadata": {},
   "source": [
    "## IMBALANCE ISSUE :"
   ]
  },
  {
   "cell_type": "markdown",
   "metadata": {},
   "source": [
    "- We will fit our model with two classes"
   ]
  },
  {
   "cell_type": "code",
   "execution_count": 104,
   "metadata": {
    "collapsed": true
   },
   "outputs": [],
   "source": [
    "Y_true=(Y>=0.5).astype(int)"
   ]
  },
  {
   "cell_type": "code",
   "execution_count": 105,
   "metadata": {
    "collapsed": false
   },
   "outputs": [
    {
     "data": {
      "text/plain": [
       "Counter({0: 1200, 1: 385})"
      ]
     },
     "execution_count": 105,
     "metadata": {},
     "output_type": "execute_result"
    }
   ],
   "source": [
    "Counter(Y_true)"
   ]
  },
  {
   "cell_type": "code",
   "execution_count": 118,
   "metadata": {
    "collapsed": true
   },
   "outputs": [],
   "source": [
    "def plot_confusion_matrix(cm, classes,\n",
    "                          normalize=False,\n",
    "                          title='Confusion matrix',\n",
    "                          cmap=plt.cm.Blues):\n",
    "    \"\"\"\n",
    "    This function prints and plots the confusion matrix.\n",
    "    Normalization can be applied by setting `normalize=True`.\n",
    "    \"\"\"\n",
    "    plt.imshow(cm, interpolation='nearest', cmap=cmap)\n",
    "    plt.title(title)\n",
    "    plt.colorbar()\n",
    "    tick_marks = np.arange(len(classes))\n",
    "    plt.xticks(tick_marks, classes, rotation=45)\n",
    "    plt.yticks(tick_marks, classes)\n",
    "\n",
    "    if normalize:\n",
    "        cm = cm.astype('float') / cm.sum(axis=1)[:, np.newaxis]\n",
    "        print(\"Normalized confusion matrix\")\n",
    "    else:\n",
    "        print('Confusion matrix, without normalization')\n",
    "\n",
    "    print(cm)\n",
    "\n",
    "    thresh = cm.max() / 2.\n",
    "    for i, j in itertools.product(range(cm.shape[0]), range(cm.shape[1])):\n",
    "        plt.text(j, i, cm[i, j],\n",
    "                 horizontalalignment=\"center\",\n",
    "                 color=\"white\" if cm[i, j] > thresh else \"black\")\n",
    "    plt.tight_layout()\n",
    "    plt.ylabel('True label')\n",
    "    plt.xlabel('Predicted label')"
   ]
  },
  {
   "cell_type": "markdown",
   "metadata": {},
   "source": [
    "- From the counter of Y_true, we can see that our two classes are imbalanced (order of 3) which is not that big\n",
    "- Acutally from here, we can expect that the Random forest classifier will give us decent results (robust to the imbalance)\n",
    "- it exist a parameter in the random forest classifier : class_weight which associates different weights to different categories to penalize the biggest classes over the lowest ones.\n",
    "- We will try this parameter with different weights\n",
    "- We have two metrics that are widela used : 1/ Accuracy : the ratio of correctly predicted observations 2/Recall : TP/(TP+FN) 3/ Precision : TP/(TP+FP) 4/f1score : 2 x Recall x Precision/(Recall+Precision)\n",
    "- We will be showing confusion matrix and the classification report with all those metrics. However we will focus on the f1 score since it combines both recall and precision"
   ]
  },
  {
   "cell_type": "markdown",
   "metadata": {},
   "source": [
    "- Below, we can see that the accuracy score is quite high while other scores are very low and that's why we can't only use one metric\n",
    "- this is due to the imbalance"
   ]
  },
  {
   "cell_type": "code",
   "execution_count": 106,
   "metadata": {
    "collapsed": false
   },
   "outputs": [
    {
     "name": "stdout",
     "output_type": "stream",
     "text": [
      "Accuracy :  0.752721518987\n",
      "Precision :  0.547990620491\n",
      "Recall :  0.0957894736842\n",
      "F1-score :  0.157531996989\n",
      "ROC AUC :  0.57875\n"
     ]
    }
   ],
   "source": [
    "RFC=RandomForestClassifier()\n",
    "print('Accuracy : ',np.mean(cross_val_score(RFC,X,Y_true,cv=20,scoring='accuracy')))\n",
    "print('Precision : ',np.mean(cross_val_score(RFC,X,Y_true,cv=20,scoring='precision')))\n",
    "print('Recall : ',np.mean(cross_val_score(RFC,X,Y_true,cv=20,scoring='recall')))\n",
    "print('F1-score : ',np.mean(cross_val_score(RFC,X,Y_true,cv=20,scoring='f1')))\n",
    "print('ROC AUC : ',np.mean(cross_val_score(RFC,X,Y_true,cv=20,scoring='roc_auc')))"
   ]
  },
  {
   "cell_type": "code",
   "execution_count": 123,
   "metadata": {
    "collapsed": false
   },
   "outputs": [
    {
     "name": "stdout",
     "output_type": "stream",
     "text": [
      "Confusion matrix, without normalization\n",
      "[[300   9]\n",
      " [ 82   6]]\n",
      "Normalized confusion matrix\n",
      "[[ 0.97  0.03]\n",
      " [ 0.93  0.07]]\n"
     ]
    },
    {
     "data": {
      "image/png": "[encoded data removed]",
      "text/plain": [
       "<matplotlib.figure.Figure at 0x7fb3ae6ab358>"
      ]
     },
     "metadata": {},
     "output_type": "display_data"
    },
    {
     "data": {
      "image/png": "[encoded data removed]",
      "text/plain": [
       "<matplotlib.figure.Figure at 0x7fb3ae5efda0>"
      ]
     },
     "metadata": {},
     "output_type": "display_data"
    }
   ],
   "source": [
    "X_train, X_test, y_train, y_test = train_test_split(X, Y_true, random_state=0)\n",
    "y_pred = RFC.fit(X_train, y_train).predict(X_test)\n",
    "cnf_matrix = confusion_matrix(y_test, y_pred)\n",
    "np.set_printoptions(precision=2)\n",
    "\n",
    "class_names=['light','dark']\n",
    "\n",
    "# Plot non-normalized confusion matrix\n",
    "plt.figure()\n",
    "plot_confusion_matrix(cnf_matrix, classes=class_names,\n",
    "                      title='Confusion matrix, without normalization')\n",
    "\n",
    "# Plot normalized confusion matrix\n",
    "plt.figure()\n",
    "plot_confusion_matrix(cnf_matrix, classes=class_names, normalize=True,\n",
    "                      title='Normalized confusion matrix')\n",
    "\n",
    "plt.show()"
   ]
  },
  {
   "cell_type": "markdown",
   "metadata": {},
   "source": [
    "- To deal with the imbalance of the dataset, we will use the parameter class_weight of the random forest classifier"
   ]
  },
  {
   "cell_type": "code",
   "execution_count": 115,
   "metadata": {
    "collapsed": false
   },
   "outputs": [
    {
     "name": "stdout",
     "output_type": "stream",
     "text": [
      "Accuracy :  0.753338607595\n"
     ]
    },
    {
     "name": "stderr",
     "output_type": "stream",
     "text": [
      "/home/zaafr4ne/anaconda3/lib/python3.5/site-packages/sklearn/metrics/classification.py:1113: UndefinedMetricWarning: Precision is ill-defined and being set to 0.0 due to no predicted samples.\n",
      "  'precision', 'predicted', average, warn_for)\n"
     ]
    },
    {
     "name": "stdout",
     "output_type": "stream",
     "text": [
      "Precision :  0.447976190476\n",
      "Recall :  0.0957894736842\n",
      "F1-score :  0.153628899281\n",
      "ROC AUC :  0.600033991228\n"
     ]
    }
   ],
   "source": [
    "weighted_RFC=RandomForestClassifier(class_weight='balanced')\n",
    "print('Accuracy : ',np.mean(cross_val_score(weighted_RFC,X,Y_true,cv=20,scoring='accuracy')))\n",
    "print('Precision : ',np.mean(cross_val_score(weighted_RFC,X,Y_true,cv=20,scoring='precision')))\n",
    "print('Recall : ',np.mean(cross_val_score(weighted_RFC,X,Y_true,cv=20,scoring='recall')))\n",
    "print('F1-score : ',np.mean(cross_val_score(weighted_RFC,X,Y_true,cv=20,scoring='f1')))\n",
    "print('ROC AUC : ',np.mean(cross_val_score(weighted_RFC,X,Y_true,cv=20,scoring='roc_auc')))"
   ]
  },
  {
   "cell_type": "code",
   "execution_count": 124,
   "metadata": {
    "collapsed": false
   },
   "outputs": [
    {
     "name": "stdout",
     "output_type": "stream",
     "text": [
      "Confusion matrix, without normalization\n",
      "[[296  13]\n",
      " [ 84   4]]\n",
      "Normalized confusion matrix\n",
      "[[ 0.96  0.04]\n",
      " [ 0.95  0.05]]\n"
     ]
    },
    {
     "data": {
      "image/png": "[encoded data removed]",
      "text/plain": [
       "<matplotlib.figure.Figure at 0x7fb3a1f22048>"
      ]
     },
     "metadata": {},
     "output_type": "display_data"
    },
    {
     "data": {
      "image/png": "[encoded data removed]",
      "text/plain": [
       "<matplotlib.figure.Figure at 0x7fb3a2007f98>"
      ]
     },
     "metadata": {},
     "output_type": "display_data"
    }
   ],
   "source": [
    "X_train, X_test, y_train, y_test = train_test_split(X, Y_true, random_state=0)\n",
    "y_pred = weighted_RFC.fit(X_train, y_train).predict(X_test)\n",
    "cnf_matrix = confusion_matrix(y_test, y_pred)\n",
    "np.set_printoptions(precision=2)\n",
    "\n",
    "class_names=['light','dark']\n",
    "\n",
    "# Plot non-normalized confusion matrix\n",
    "plt.figure()\n",
    "plot_confusion_matrix(cnf_matrix, classes=class_names,\n",
    "                      title='Confusion matrix, without normalization')\n",
    "\n",
    "# Plot normalized confusion matrix\n",
    "plt.figure()\n",
    "plot_confusion_matrix(cnf_matrix, classes=class_names, normalize=True,\n",
    "                      title='Normalized confusion matrix')\n",
    "\n",
    "plt.show()"
   ]
  },
  {
   "cell_type": "markdown",
   "metadata": {},
   "source": [
    "- We tried many weights for the class_weight parameter, but it doesn't improve the scores.\n",
    "- Another method is to use different thresholds with the output probabilities :"
   ]
  },
  {
   "cell_type": "markdown",
   "metadata": {},
   "source": [
    "- below, we try different threshold values and output the f1-score"
   ]
  },
  {
   "cell_type": "code",
   "execution_count": 108,
   "metadata": {
    "collapsed": false
   },
   "outputs": [
    {
     "name": "stdout",
     "output_type": "stream",
     "text": [
      "threshold = 0.5 gives F1-score = 0.204081632653\n",
      "threshold = 0.55 gives F1-score = 0.294117647059\n",
      "threshold = 0.6 gives F1-score = 0.323076923077\n",
      "threshold = 0.65 gives F1-score = 0.310810810811\n",
      "threshold = 0.7 gives F1-score = 0.474885844749\n",
      "threshold = 0.75 gives F1-score = 0.44976076555\n",
      "threshold = 0.8 gives F1-score = 0.401360544218\n",
      "threshold = 0.85 gives F1-score = 0.391437308869\n",
      "threshold = 0.9 gives F1-score = 0.40625\n"
     ]
    }
   ],
   "source": [
    "ths=np.linspace(0.5,0.9,9)\n",
    "for th in ths:\n",
    "    RFC=RandomForestClassifier(n_estimators=30)\n",
    "    X_train, X_test, Y_train, Y_test = train_test_split(X, Y_true, test_size=0.2)\n",
    "    RFC.fit(X_train,Y_train)\n",
    "    y_pred=RFC.predict_proba(X_test)\n",
    "    y_pred=y_pred[:,0]\n",
    "    y_pred_=(y_pred<=th).astype(int)\n",
    "    print('threshold =', th,'gives F1-score =', f1_score(Y_test, y_pred_,average='binary'))"
   ]
  },
  {
   "cell_type": "markdown",
   "metadata": {},
   "source": [
    "- We can see a significant improvement after changing the thresholds.\n",
    "- However we decided to use the under sampling method because it gives us good scores as you can see below :\n",
    "- We create new X_resampled matrix and reponse matrix Y_resampled"
   ]
  },
  {
   "cell_type": "code",
   "execution_count": 109,
   "metadata": {
    "collapsed": false
   },
   "outputs": [
    {
     "data": {
      "text/plain": [
       "Counter({0: 385, 1: 385})"
      ]
     },
     "execution_count": 109,
     "metadata": {},
     "output_type": "execute_result"
    }
   ],
   "source": [
    "random_indices=np.concatenate((np.random.choice(np.where(Y_true==0)[0],np.where(Y_true==1)[0].shape[0]),np.where(Y_true==1)[0]))\n",
    "Y_resampled=Y_true[random_indices]\n",
    "X_resampled=X[random_indices,:]\n",
    "Counter(Y_resampled)"
   ]
  },
  {
   "cell_type": "code",
   "execution_count": 126,
   "metadata": {
    "collapsed": false
   },
   "outputs": [
    {
     "name": "stdout",
     "output_type": "stream",
     "text": [
      "Accuracy :  0.604210526316\n",
      "Precision :  0.670758440905\n",
      "Recall :  0.522763157895\n",
      "F1-score :  0.566799483912\n",
      "ROC AUC :  0.668227839335\n"
     ]
    }
   ],
   "source": [
    "resampled_RFC=RandomForestClassifier()\n",
    "print('Accuracy : ',np.mean(cross_val_score(weighted_RFC,X_resampled,Y_resampled,cv=20,scoring='accuracy')))\n",
    "print('Precision : ',np.mean(cross_val_score(weighted_RFC,X_resampled,Y_resampled,cv=20,scoring='precision')))\n",
    "print('Recall : ',np.mean(cross_val_score(weighted_RFC,X_resampled,Y_resampled,cv=20,scoring='recall')))\n",
    "print('F1-score : ',np.mean(cross_val_score(weighted_RFC,X_resampled,Y_resampled,cv=20,scoring='f1')))\n",
    "print('ROC AUC : ',np.mean(cross_val_score(weighted_RFC,X_resampled,Y_resampled,cv=20,scoring='roc_auc')))"
   ]
  },
  {
   "cell_type": "code",
   "execution_count": 127,
   "metadata": {
    "collapsed": false
   },
   "outputs": [
    {
     "name": "stdout",
     "output_type": "stream",
     "text": [
      "Confusion matrix, without normalization\n",
      "[[69 31]\n",
      " [41 52]]\n",
      "Normalized confusion matrix\n",
      "[[ 0.69  0.31]\n",
      " [ 0.44  0.56]]\n"
     ]
    },
    {
     "data": {
      "image/png": "[encoded data removed]",
      "text/plain": [
       "<matplotlib.figure.Figure at 0x7fb3a3694080>"
      ]
     },
     "metadata": {},
     "output_type": "display_data"
    },
    {
     "data": {
      "image/png": "[encoded data removed]",
      "text/plain": [
       "<matplotlib.figure.Figure at 0x7fb3a368ea58>"
      ]
     },
     "metadata": {},
     "output_type": "display_data"
    }
   ],
   "source": [
    "X_train, X_test, y_train, y_test = train_test_split(X_resampled, Y_resampled, random_state=0)\n",
    "y_pred = resampled_RFC.fit(X_train, y_train).predict(X_test)\n",
    "cnf_matrix = confusion_matrix(y_test, y_pred)\n",
    "np.set_printoptions(precision=2)\n",
    "\n",
    "class_names=['light','dark']\n",
    "\n",
    "# Plot non-normalized confusion matrix\n",
    "plt.figure()\n",
    "plot_confusion_matrix(cnf_matrix, classes=class_names,\n",
    "                      title='Confusion matrix, without normalization')\n",
    "\n",
    "# Plot normalized confusion matrix\n",
    "plt.figure()\n",
    "plot_confusion_matrix(cnf_matrix, classes=class_names, normalize=True,\n",
    "                      title='Normalized confusion matrix')\n",
    "\n",
    "plt.show()"
   ]
  },
  {
   "cell_type": "markdown",
   "metadata": {},
   "source": [
    "- We find acceptable scores with this method even if we don't use all of the data at our disposal."
   ]
  },
  {
   "cell_type": "markdown",
   "metadata": {},
   "source": [
    "## OVERFITTING ISSUE"
   ]
  },
  {
   "cell_type": "markdown",
   "metadata": {},
   "source": [
    "- Here we will deal with the overfitting issue with the different parameters\n",
    "- Beforehand, we will look at the influence of each parameter over the overfitting\n",
    "- we will try by the n_estimators paramter :"
   ]
  },
  {
   "cell_type": "code",
   "execution_count": null,
   "metadata": {
    "collapsed": false
   },
   "outputs": [],
   "source": [
    "#param_range = np.arange(1,5)\n",
    "param_range=np.concatenate((np.arange(1,10),np.arange(1,21)*10))\n",
    "train_scores, test_scores = validation_curve(\n",
    "    RandomForestClassifier(min_samples_leaf=10), X_resampled, Y_resampled, param_name=\"n_estimators\", param_range=param_range,\n",
    "    cv=30, scoring=\"accuracy\", n_jobs=1)\n",
    "train_scores_mean = np.mean(train_scores, axis=1)\n",
    "train_scores_std = np.std(train_scores, axis=1)\n",
    "test_scores_mean = np.mean(test_scores, axis=1)\n",
    "test_scores_std = np.std(test_scores, axis=1)\n",
    "\n",
    "plt.title(\"Validation Curve with RandomForestClassifier\")\n",
    "plt.xlabel(\"n_estimators\")\n",
    "plt.ylabel(\"Score\")\n",
    "plt.ylim(0.0, 1.1)\n",
    "lw = 2\n",
    "plt.semilogx(param_range, train_scores_mean, label=\"Training score\",\n",
    "             color=\"darkorange\", lw=lw)\n",
    "plt.fill_between(param_range, train_scores_mean - train_scores_std,\n",
    "                 train_scores_mean + train_scores_std, alpha=0.2,\n",
    "                 color=\"darkorange\", lw=lw)\n",
    "plt.semilogx(param_range, test_scores_mean, label=\"Cross-validation score\",\n",
    "             color=\"navy\", lw=lw)\n",
    "plt.fill_between(param_range, test_scores_mean - test_scores_std,\n",
    "                 test_scores_mean + test_scores_std, alpha=0.2,\n",
    "                 color=\"navy\", lw=lw)\n",
    "plt.semilogx(param_range, train_scores_mean-test_scores_mean, label=\"TS - CVS\",\n",
    "             color=\"darkred\", lw=lw)\n",
    "\n",
    "plt.legend(loc=\"best\")\n",
    "plt.show()"
   ]
  },
  {
   "cell_type": "markdown",
   "metadata": {},
   "source": [
    "- With the plot above we can see that the parameter n_estimator affect the overfitting.\n",
    "- In fact when we fit the model using default parameters we get a training accuracy too high from the start (doesn't let us make any conclusions), that's why we chose to put min_samples_leaf=10 to let the training accuracy increase.\n",
    "- Now, we take a look at the max_features parameter"
   ]
  },
  {
   "cell_type": "code",
   "execution_count": null,
   "metadata": {
    "collapsed": false
   },
   "outputs": [],
   "source": [
    "param_range = np.arange(1,28)\n",
    "train_scores, test_scores = validation_curve(\n",
    "    RandomForestClassifier(min_samples_leaf=10), X_resampled, Y_resampled, param_name=\"max_features\", param_range=param_range,\n",
    "    cv=30, scoring=\"accuracy\", n_jobs=1)\n",
    "train_scores_mean = np.mean(train_scores, axis=1)\n",
    "train_scores_std = np.std(train_scores, axis=1)\n",
    "test_scores_mean = np.mean(test_scores, axis=1)\n",
    "test_scores_std = np.std(test_scores, axis=1)\n",
    "\n",
    "plt.title(\"Validation Curve with RandomForestClassifier\")\n",
    "plt.xlabel(\"max_features\")\n",
    "plt.ylabel(\"Score\")\n",
    "plt.ylim(0.0, 1.1)\n",
    "lw = 2\n",
    "plt.semilogx(param_range, train_scores_mean, label=\"Training score\",\n",
    "             color=\"darkorange\", lw=lw)\n",
    "plt.fill_between(param_range, train_scores_mean - train_scores_std,\n",
    "                 train_scores_mean + train_scores_std, alpha=0.2,\n",
    "                 color=\"darkorange\", lw=lw)\n",
    "plt.semilogx(param_range, test_scores_mean, label=\"Cross-validation score\",\n",
    "             color=\"navy\", lw=lw)\n",
    "plt.fill_between(param_range, test_scores_mean - test_scores_std,\n",
    "                 test_scores_mean + test_scores_std, alpha=0.2,\n",
    "                 color=\"navy\", lw=lw)\n",
    "plt.semilogx(param_range, train_scores_mean-test_scores_mean, label=\"TS - CVS\",\n",
    "             color=\"darkred\", lw=lw)\n",
    "\n",
    "plt.legend(loc=\"best\")\n",
    "plt.show()"
   ]
  },
  {
   "cell_type": "markdown",
   "metadata": {},
   "source": [
    "- One might expect that the overfitting increaseas with the max_features but from the plot above we can see that the max_feature paramefer doesn't affect the overfitting issue. Indeed, we can see the the red curve which represents the difference is constant.\n",
    "- Now, we take a look at the max_depth parameter"
   ]
  },
  {
   "cell_type": "code",
   "execution_count": null,
   "metadata": {
    "collapsed": false
   },
   "outputs": [],
   "source": [
    "#param_range = np.arange(1,50)\n",
    "param_range=np.arange(1,15)\n",
    "train_scores, test_scores = validation_curve(\n",
    "    RandomForestClassifier(min_samples_leaf=10), X_resampled, Y_resampled, param_name=\"max_depth\", param_range=param_range,\n",
    "    cv=30, scoring=\"accuracy\", n_jobs=1)\n",
    "train_scores_mean = np.mean(train_scores, axis=1)\n",
    "train_scores_std = np.std(train_scores, axis=1)\n",
    "test_scores_mean = np.mean(test_scores, axis=1)\n",
    "test_scores_std = np.std(test_scores, axis=1)\n",
    "\n",
    "plt.title(\"Validation Curve with RandomForestClassifier\")\n",
    "plt.xlabel(\"max_depth\")\n",
    "plt.ylabel(\"Score\")\n",
    "plt.ylim(0.0, 1.1)\n",
    "lw = 2\n",
    "plt.semilogx(param_range, train_scores_mean, label=\"Training score\",\n",
    "             color=\"darkorange\", lw=lw)\n",
    "plt.fill_between(param_range, train_scores_mean - train_scores_std,\n",
    "                 train_scores_mean + train_scores_std, alpha=0.2,\n",
    "                 color=\"darkorange\", lw=lw)\n",
    "plt.semilogx(param_range, test_scores_mean, label=\"Cross-validation score\",\n",
    "             color=\"navy\", lw=lw)\n",
    "plt.fill_between(param_range, test_scores_mean - test_scores_std,\n",
    "                 test_scores_mean + test_scores_std, alpha=0.2,\n",
    "                 color=\"navy\", lw=lw)\n",
    "plt.semilogx(param_range, train_scores_mean-test_scores_mean, label=\"TS - CVS\",\n",
    "             color=\"darkred\", lw=lw)\n",
    "\n",
    "plt.legend(loc=\"best\")\n",
    "plt.show()"
   ]
  },
  {
   "cell_type": "markdown",
   "metadata": {},
   "source": [
    "- Here we can see that the max_depth parameer affect significantly the overfitting issue"
   ]
  },
  {
   "cell_type": "code",
   "execution_count": null,
   "metadata": {
    "collapsed": false
   },
   "outputs": [],
   "source": [
    "#param_range = np.arange(1,100)\n",
    "param_range = np.concatenate((np.arange(1,10),np.arange(1,20)*10))\n",
    "train_scores, test_scores = validation_curve(\n",
    "    RandomForestClassifier(), X_resampled, Y_resampled, param_name=\"min_samples_leaf\", param_range=param_range,\n",
    "    cv=30, scoring=\"accuracy\", n_jobs=1)\n",
    "train_scores_mean = np.mean(train_scores, axis=1)\n",
    "train_scores_std = np.std(train_scores, axis=1)\n",
    "test_scores_mean = np.mean(test_scores, axis=1)\n",
    "test_scores_std = np.std(test_scores, axis=1)\n",
    "\n",
    "plt.title(\"Validation Curve with RandomForestClassifier\")\n",
    "plt.xlabel(\"min_samples_leaf\")\n",
    "plt.ylabel(\"Score\")\n",
    "plt.ylim(0.0, 1.1)\n",
    "lw = 2\n",
    "plt.semilogx(param_range, train_scores_mean, label=\"Training score\",\n",
    "             color=\"darkorange\", lw=lw)\n",
    "plt.fill_between(param_range, train_scores_mean - train_scores_std,\n",
    "                 train_scores_mean + train_scores_std, alpha=0.2,\n",
    "                 color=\"darkorange\", lw=lw)\n",
    "plt.semilogx(param_range, test_scores_mean, label=\"Cross-validation score\",\n",
    "             color=\"navy\", lw=lw)\n",
    "plt.fill_between(param_range, test_scores_mean - test_scores_std,\n",
    "                 test_scores_mean + test_scores_std, alpha=0.2,\n",
    "                 color=\"navy\", lw=lw)\n",
    "plt.semilogx(param_range, train_scores_mean-test_scores_mean, label=\"TS - CVS\",\n",
    "             color=\"darkred\", lw=lw)\n",
    "plt.legend(loc=\"best\")\n",
    "plt.show()"
   ]
  },
  {
   "cell_type": "markdown",
   "metadata": {},
   "source": [
    "- We can see that min_samples_leaf parameter affect also the overfitting : small min_samples_leaf values will lead to strong overfit for our dataset\n",
    "- min_samples_leaf is amoung those 4 parameters the one who affects the most the overfitting"
   ]
  },
  {
   "cell_type": "markdown",
   "metadata": {},
   "source": [
    "### FITTING THE MODEL WITH THE CROSS VALIDATION RESULTS"
   ]
  },
  {
   "cell_type": "markdown",
   "metadata": {},
   "source": [
    "- Here we are gonna fit a model with the cross validated parameters\n",
    "- We are gonna take : max_depth=7 and min_samples_leaf=50"
   ]
  },
  {
   "cell_type": "code",
   "execution_count": 128,
   "metadata": {
    "collapsed": false
   },
   "outputs": [
    {
     "name": "stdout",
     "output_type": "stream",
     "text": [
      "Accuracy :  0.59375\n",
      "Precision :  0.576524850954\n",
      "Recall :  0.578289473684\n",
      "F1-score :  0.562124174363\n",
      "ROC AUC :  0.597942174515\n"
     ]
    }
   ],
   "source": [
    "tuned_RFC=RandomForestClassifier(max_depth=7,min_samples_leaf=50,n_estimators=15)\n",
    "\n",
    "print('Accuracy : ',np.mean(cross_val_score(tuned_RFC,X_resampled,Y_resampled,cv=20,scoring='accuracy')))\n",
    "print('Precision : ',np.mean(cross_val_score(tuned_RFC,X_resampled,Y_resampled,cv=20,scoring='precision')))\n",
    "print('Recall : ',np.mean(cross_val_score(tuned_RFC,X_resampled,Y_resampled,cv=20,scoring='recall')))\n",
    "print('F1-score : ',np.mean(cross_val_score(tuned_RFC,X_resampled,Y_resampled,cv=20,scoring='f1')))\n",
    "print('ROC AUC : ',np.mean(cross_val_score(tuned_RFC,X_resampled,Y_resampled,cv=20,scoring='roc_auc')))"
   ]
  },
  {
   "cell_type": "code",
   "execution_count": 137,
   "metadata": {
    "collapsed": false
   },
   "outputs": [
    {
     "name": "stdout",
     "output_type": "stream",
     "text": [
      "Confusion matrix, without normalization\n",
      "[[55 45]\n",
      " [37 56]]\n",
      "Normalized confusion matrix\n",
      "[[ 0.55  0.45]\n",
      " [ 0.4   0.6 ]]\n"
     ]
    },
    {
     "data": {
      "image/png": "[encoded data removed]",
      "text/plain": [
       "<matplotlib.figure.Figure at 0x7fb3a361bb70>"
      ]
     },
     "metadata": {},
     "output_type": "display_data"
    },
    {
     "data": {
      "image/png": "[encoded data removed]",
      "text/plain": [
       "<matplotlib.figure.Figure at 0x7fb3a1d00b70>"
      ]
     },
     "metadata": {},
     "output_type": "display_data"
    }
   ],
   "source": [
    "X_train, X_test, y_train, y_test = train_test_split(X_resampled, Y_resampled, random_state=0)\n",
    "y_pred = tuned_RFC.fit(X_train, y_train).predict(X_test)\n",
    "cnf_matrix = confusion_matrix(y_test, y_pred)\n",
    "np.set_printoptions(precision=2)\n",
    "\n",
    "class_names=['light','dark']\n",
    "\n",
    "# Plot non-normalized confusion matrix\n",
    "plt.figure()\n",
    "plot_confusion_matrix(cnf_matrix, classes=class_names,\n",
    "                      title='Confusion matrix, without normalization')\n",
    "\n",
    "# Plot normalized confusion matrix\n",
    "plt.figure()\n",
    "plot_confusion_matrix(cnf_matrix, classes=class_names, normalize=True,\n",
    "                      title='Normalized confusion matrix')\n",
    "\n",
    "plt.show()"
   ]
  },
  {
   "cell_type": "markdown",
   "metadata": {},
   "source": [
    "- we notice a slight improvement in the results"
   ]
  },
  {
   "cell_type": "markdown",
   "metadata": {},
   "source": [
    "## FEATURE IMPORTANCES"
   ]
  },
  {
   "cell_type": "code",
   "execution_count": null,
   "metadata": {
    "collapsed": false,
    "scrolled": true
   },
   "outputs": [],
   "source": [
    "tuned_RFC.fit(X_resampled,Y_resampled)\n",
    "importances = tuned_RFC.feature_importances_\n",
    "std = np.std([tree.feature_importances_ for tree in tuned_RFC.estimators_], axis=0)\n",
    "indices = np.argsort(importances)[::-1]\n",
    "\n",
    "print('mean accuracy:', tuned_RFC.score(X_resampled,Y_resampled))\n",
    "print('cv score:', np.mean(cross_val_score(tuned_RFC,X_resampled,Y_resampled,cv=50)))\n",
    "\n",
    "\n",
    "# plot the feature importances of the random forest\n",
    "plot_labels = columns[indices]\n",
    "\n",
    "plt.figure()\n",
    "plt.title(\"Feature importances\")\n",
    "plt.bar(range(X_resampled.shape[1]), importances[indices], color=\"r\", yerr=std[indices], align=\"center\")\n",
    "plt.xticks(range(X_resampled.shape[1]), plot_labels, rotation='vertical')\n",
    "plt.xlim([-1, X_resampled.shape[1]])\n",
    "plt.show()"
   ]
  },
  {
   "cell_type": "markdown",
   "metadata": {},
   "source": [
    "- From the plot above, we can see that the most important features are related to the player only.\n",
    "- We notice that the club and leagueCountry are the most important features\n",
    "- We noticed that when we fit with the complete data we have much less uncertainty in the feature importance graph.\n",
    "- Since our solution for dealing with imbalance dataset was to undersample the data, it is natural to have more uncertainty."
   ]
  },
  {
   "cell_type": "code",
   "execution_count": null,
   "metadata": {
    "collapsed": false
   },
   "outputs": [],
   "source": [
    "tuned_RFC.fit(X_resampled[:,:7],Y_resampled)\n",
    "importances = tuned_RFC.feature_importances_\n",
    "std = np.std([tree.feature_importances_ for tree in tuned_RFC.estimators_], axis=0)\n",
    "indices = np.argsort(importances)[::-1]\n",
    "\n",
    "print('mean accuracy:', tuned_RFC.score(X_resampled[:,:7],Y_resampled))\n",
    "print('cv score:', np.mean(cross_val_score(tuned_RFC,X_resampled[:,:7],Y_resampled,cv=50)))\n",
    "\n",
    "\n",
    "# plot the feature importances of the random forest\n",
    "plot_labels = columns[:7][indices]\n",
    "\n",
    "plt.figure()\n",
    "plt.title(\"Feature importances\")\n",
    "plt.bar(range(X_resampled[:,:7].shape[1]), importances[indices], color=\"r\", yerr=std[indices], align=\"center\")\n",
    "plt.xticks(range(X_resampled[:,:7].shape[1]), plot_labels, rotation='vertical')\n",
    "plt.xlim([-1, X_resampled[:,:7].shape[1]])\n",
    "plt.show()"
   ]
  },
  {
   "cell_type": "markdown",
   "metadata": {},
   "source": [
    "- Beside height, after the removal of referee related features, the importance of features among player-related features doesn't change.\n",
    "- Also, leagueCountry seems to be the most important feature in our set"
   ]
  },
  {
   "cell_type": "code",
   "execution_count": null,
   "metadata": {
    "collapsed": false
   },
   "outputs": [],
   "source": [
    "tuned_RFC.fit(X_resampled[:,7:],Y_resampled)\n",
    "importances = tuned_RFC.feature_importances_\n",
    "std = np.std([tree.feature_importances_ for tree in tuned_RFC.estimators_], axis=0)\n",
    "indices = np.argsort(importances)[::-1]\n",
    "\n",
    "print('mean accuracy:', tuned_RFC.score(X_resampled[:,7:],Y_resampled))\n",
    "print('cv score:', np.mean(cross_val_score(tuned_RFC,X_resampled[:,7:],Y_resampled,cv=50)))\n",
    "\n",
    "\n",
    "# plot the feature importances of the random forest\n",
    "plot_labels = columns[7:][indices]\n",
    "\n",
    "plt.figure()\n",
    "plt.title(\"Feature importances\")\n",
    "plt.bar(range(X_resampled[:,7:].shape[1]), importances[indices], color=\"r\", yerr=std[indices], align=\"center\")\n",
    "plt.xticks(range(X_resampled[:,7:].shape[1]), plot_labels, rotation='vertical')\n",
    "plt.xlim([-1, X_resampled[:,7:].shape[1]])\n",
    "plt.show()"
   ]
  },
  {
   "cell_type": "markdown",
   "metadata": {},
   "source": [
    "## BONUS : LEARNING CURVES"
   ]
  },
  {
   "cell_type": "markdown",
   "metadata": {},
   "source": [
    "### High bias"
   ]
  },
  {
   "cell_type": "markdown",
   "metadata": {},
   "source": [
    "- To get a high bias, it's suffiscient to take a big min_samples_leaf, a small max_depth and n_estimator because it leads the model to a lack of learning situation that gives a high bias"
   ]
  },
  {
   "cell_type": "code",
   "execution_count": 172,
   "metadata": {
    "collapsed": false
   },
   "outputs": [
    {
     "data": {
      "image/png": "[encoded data removed]",
      "text/plain": [
       "<matplotlib.figure.Figure at 0x7fb3a1fd60b8>"
      ]
     },
     "metadata": {},
     "output_type": "display_data"
    }
   ],
   "source": [
    "def plot_learning_curve(estimator, title, X, y, ylim=None, cv=None,\n",
    "                        n_jobs=1, train_sizes=np.linspace(.1, 1.0, 5)):\n",
    "    \"\"\"\n",
    "    Generate a simple plot of the test and training learning curve.\n",
    "\n",
    "    Parameters\n",
    "    ----------\n",
    "    estimator : object type that implements the \"fit\" and \"predict\" methods\n",
    "        An object of that type which is cloned for each validation.\n",
    "\n",
    "    title : string\n",
    "        Title for the chart.\n",
    "\n",
    "    X : array-like, shape (n_samples, n_features)\n",
    "        Training vector, where n_samples is the number of samples and\n",
    "        n_features is the number of features.\n",
    "\n",
    "    y : array-like, shape (n_samples) or (n_samples, n_features), optional\n",
    "        Target relative to X for classification or regression;\n",
    "        None for unsupervised learning.\n",
    "\n",
    "    ylim : tuple, shape (ymin, ymax), optional\n",
    "        Defines minimum and maximum yvalues plotted.\n",
    "\n",
    "    cv : int, cross-validation generator or an iterable, optional\n",
    "        Determines the cross-validation splitting strategy.\n",
    "        Possible inputs for cv are:\n",
    "          - None, to use the default 3-fold cross-validation,\n",
    "          - integer, to specify the number of folds.\n",
    "          - An object to be used as a cross-validation generator.\n",
    "          - An iterable yielding train/test splits.\n",
    "\n",
    "        For integer/None inputs, if ``y`` is binary or multiclass,\n",
    "        :class:`StratifiedKFold` used. If the estimator is not a classifier\n",
    "        or if ``y`` is neither binary nor multiclass, :class:`KFold` is used.\n",
    "\n",
    "        Refer :ref:`User Guide <cross_validation>` for the various\n",
    "        cross-validators that can be used here.\n",
    "\n",
    "    n_jobs : integer, optional\n",
    "        Number of jobs to run in parallel (default 1).\n",
    "    \"\"\"\n",
    "    plt.figure()\n",
    "    plt.title(title)\n",
    "    if ylim is not None:\n",
    "        plt.ylim(*ylim)\n",
    "    plt.xlabel(\"Training examples\")\n",
    "    plt.ylabel(\"Score\")\n",
    "    train_sizes, train_scores, test_scores = learning_curve(\n",
    "        estimator, X, y, cv=cv, n_jobs=n_jobs, train_sizes=train_sizes)\n",
    "    train_scores_mean = np.mean(train_scores, axis=1)\n",
    "    train_scores_std = np.std(train_scores, axis=1)\n",
    "    test_scores_mean = np.mean(test_scores, axis=1)\n",
    "    test_scores_std = np.std(test_scores, axis=1)\n",
    "    plt.grid()\n",
    "\n",
    "    plt.fill_between(train_sizes, train_scores_mean - train_scores_std,\n",
    "                     train_scores_mean + train_scores_std, alpha=0.1,\n",
    "                     color=\"r\")\n",
    "    plt.fill_between(train_sizes, test_scores_mean - test_scores_std,\n",
    "                     test_scores_mean + test_scores_std, alpha=0.1, color=\"g\")\n",
    "    plt.plot(train_sizes, train_scores_mean, 'o-', color=\"r\",\n",
    "             label=\"Training score\")\n",
    "    plt.plot(train_sizes, test_scores_mean, 'o-', color=\"g\",\n",
    "             label=\"Cross-validation score\")\n",
    "\n",
    "    plt.legend(loc=\"best\")\n",
    "    return plt\n",
    "\n",
    "\n",
    "RFC1=RandomForestClassifier(max_depth=1,min_samples_leaf=10000,n_estimators=1)\n",
    "\n",
    "title = \"Learning Curves\"\n",
    "# Cross validation with 100 iterations to get smoother mean test and train\n",
    "# score curves, each time with 20% data randomly selected as a validation set.\n",
    "cv = ShuffleSplit(n_splits=100, test_size=0.2, random_state=0)\n",
    "\n",
    "plot_learning_curve(RFC1, title, X_resampled, Y_resampled, cv=cv, n_jobs=4)\n",
    "\n",
    "plt.show()"
   ]
  },
  {
   "cell_type": "markdown",
   "metadata": {},
   "source": [
    "### Low bias"
   ]
  },
  {
   "cell_type": "markdown",
   "metadata": {},
   "source": [
    "- To get a low bias, we need to have a model that is precise so we have to increase the parameters that influence the most the learning."
   ]
  },
  {
   "cell_type": "code",
   "execution_count": 173,
   "metadata": {
    "collapsed": false
   },
   "outputs": [
    {
     "data": {
      "image/png": "[encoded data removed]",
      "text/plain": [
       "<matplotlib.figure.Figure at 0x7fb3a1fd6ba8>"
      ]
     },
     "metadata": {},
     "output_type": "display_data"
    }
   ],
   "source": [
    "def plot_learning_curve(estimator, title, X, y, ylim=None, cv=None,\n",
    "                        n_jobs=1, train_sizes=np.linspace(.1, 1.0, 5)):\n",
    "    \"\"\"\n",
    "    Generate a simple plot of the test and training learning curve.\n",
    "\n",
    "    Parameters\n",
    "    ----------\n",
    "    estimator : object type that implements the \"fit\" and \"predict\" methods\n",
    "        An object of that type which is cloned for each validation.\n",
    "\n",
    "    title : string\n",
    "        Title for the chart.\n",
    "\n",
    "    X : array-like, shape (n_samples, n_features)\n",
    "        Training vector, where n_samples is the number of samples and\n",
    "        n_features is the number of features.\n",
    "\n",
    "    y : array-like, shape (n_samples) or (n_samples, n_features), optional\n",
    "        Target relative to X for classification or regression;\n",
    "        None for unsupervised learning.\n",
    "\n",
    "    ylim : tuple, shape (ymin, ymax), optional\n",
    "        Defines minimum and maximum yvalues plotted.\n",
    "\n",
    "    cv : int, cross-validation generator or an iterable, optional\n",
    "        Determines the cross-validation splitting strategy.\n",
    "        Possible inputs for cv are:\n",
    "          - None, to use the default 3-fold cross-validation,\n",
    "          - integer, to specify the number of folds.\n",
    "          - An object to be used as a cross-validation generator.\n",
    "          - An iterable yielding train/test splits.\n",
    "\n",
    "        For integer/None inputs, if ``y`` is binary or multiclass,\n",
    "        :class:`StratifiedKFold` used. If the estimator is not a classifier\n",
    "        or if ``y`` is neither binary nor multiclass, :class:`KFold` is used.\n",
    "\n",
    "        Refer :ref:`User Guide <cross_validation>` for the various\n",
    "        cross-validators that can be used here.\n",
    "\n",
    "    n_jobs : integer, optional\n",
    "        Number of jobs to run in parallel (default 1).\n",
    "    \"\"\"\n",
    "    plt.figure()\n",
    "    plt.title(title)\n",
    "    if ylim is not None:\n",
    "        plt.ylim(*ylim)\n",
    "    plt.xlabel(\"Training examples\")\n",
    "    plt.ylabel(\"Score\")\n",
    "    train_sizes, train_scores, test_scores = learning_curve(\n",
    "        estimator, X, y, cv=cv, n_jobs=n_jobs, train_sizes=train_sizes)\n",
    "    train_scores_mean = np.mean(train_scores, axis=1)\n",
    "    train_scores_std = np.std(train_scores, axis=1)\n",
    "    test_scores_mean = np.mean(test_scores, axis=1)\n",
    "    test_scores_std = np.std(test_scores, axis=1)\n",
    "    plt.grid()\n",
    "\n",
    "    plt.fill_between(train_sizes, train_scores_mean - train_scores_std,\n",
    "                     train_scores_mean + train_scores_std, alpha=0.1,\n",
    "                     color=\"r\")\n",
    "    plt.fill_between(train_sizes, test_scores_mean - test_scores_std,\n",
    "                     test_scores_mean + test_scores_std, alpha=0.1, color=\"g\")\n",
    "    plt.plot(train_sizes, train_scores_mean, 'o-', color=\"r\",\n",
    "             label=\"Training score\")\n",
    "    plt.plot(train_sizes, test_scores_mean, 'o-', color=\"g\",\n",
    "             label=\"Cross-validation score\")\n",
    "\n",
    "    plt.legend(loc=\"best\")\n",
    "    return plt\n",
    "\n",
    "\n",
    "RFC2=RandomForestClassifier(min_samples_leaf=1,n_estimators=200)\n",
    "\n",
    "title = \"Learning Curves\"\n",
    "# Cross validation with 100 iterations to get smoother mean test and train\n",
    "# score curves, each time with 20% data randomly selected as a validation set.\n",
    "cv = ShuffleSplit(n_splits=100, test_size=0.2, random_state=0)\n",
    "\n",
    "plot_learning_curve(RFC2, title, X_resampled, Y_resampled, cv=cv, n_jobs=4)\n",
    "\n",
    "plt.show()"
   ]
  },
  {
   "cell_type": "markdown",
   "metadata": {},
   "source": [
    "# Clusteting"
   ]
  },
  {
   "cell_type": "markdown",
   "metadata": {},
   "source": [
    "- In the Section Below, we will perform an unsupervised learning and try to cluster players in two clusters.\n",
    "- For that, we will use one clustering method : KMeans"
   ]
  },
  {
   "cell_type": "code",
   "execution_count": 139,
   "metadata": {
    "collapsed": true
   },
   "outputs": [],
   "source": [
    "from sklearn.cluster import KMeans\n",
    "from sklearn.metrics import silhouette_score"
   ]
  },
  {
   "cell_type": "markdown",
   "metadata": {},
   "source": [
    "### MAXIMIZING SILHOUETTE SCORE WITH KMEANS CLUSTERS"
   ]
  },
  {
   "cell_type": "markdown",
   "metadata": {},
   "source": [
    "- This algorithm helps us to find at each iteration the feature that we should remove in order to have a better silhouette score with KMeans clustering.\n",
    "- It displays at each iteration the removed feature, the silhouette score and the f1 score and, at the end, the configuration that gives us the best silhouette score"
   ]
  },
  {
   "cell_type": "code",
   "execution_count": 152,
   "metadata": {
    "collapsed": false
   },
   "outputs": [
    {
     "name": "stdout",
     "output_type": "stream",
     "text": [
      "iter  0\n",
      "removed feature : player\n",
      "silhouette score : 0.580998492466\n",
      "f1_score : 0.396946564885 \n",
      "\n",
      "iter  1\n",
      "removed feature : position\n",
      "silhouette score : 0.60114723423\n",
      "f1_score : 0.396946564885 \n",
      "\n",
      "iter  2\n",
      "removed feature : weight\n",
      "silhouette score : 0.61931485453\n",
      "f1_score : 0.396946564885 \n",
      "\n",
      "iter  3\n",
      "removed feature : height\n",
      "silhouette score : 0.641280770111\n",
      "f1_score : 0.395229982964 \n",
      "\n",
      "iter  4\n",
      "removed feature : birthday\n",
      "silhouette score : 0.654324729235\n",
      "f1_score : 0.396946564885 \n",
      "\n",
      "iter  5\n",
      "removed feature : leagueCountry\n",
      "silhouette score : 0.655497940614\n",
      "f1_score : 0.395229982964 \n",
      "\n",
      "iter  6\n",
      "removed feature : defeats_1\n",
      "silhouette score : 0.65557360067\n",
      "f1_score : 0.395229982964 \n",
      "\n",
      "iter  7\n",
      "removed feature : ties_2\n",
      "silhouette score : 0.655640918053\n",
      "f1_score : 0.395229982964 \n",
      "\n",
      "iter  8\n",
      "removed feature : yellowReds_1\n",
      "silhouette score : 0.65569822952\n",
      "f1_score : 0.395229982964 \n",
      "\n",
      "iter  9\n",
      "removed feature : yellowCards_2\n",
      "silhouette score : 0.655746348013\n",
      "f1_score : 0.395229982964 \n",
      "\n",
      "iter  10\n",
      "removed feature : victories_1\n",
      "silhouette score : 0.655789248383\n",
      "f1_score : 0.395229982964 \n",
      "\n",
      "iter  11\n",
      "removed feature : victories_3\n",
      "silhouette score : 0.655828721298\n",
      "f1_score : 0.395229982964 \n",
      "\n",
      "iter  12\n",
      "removed feature : club\n",
      "silhouette score : 0.673014875402\n",
      "f1_score : 0.388459556929 \n",
      "\n",
      "iter  13\n",
      "removed feature : goals_2\n",
      "silhouette score : 0.704419158657\n",
      "f1_score : 0.388259526262 \n",
      "\n",
      "iter  14\n",
      "removed feature : ties_1\n",
      "silhouette score : 0.730890289216\n",
      "f1_score : 0.388308977035 \n",
      "\n",
      "iter  15\n",
      "removed feature : victories_2\n",
      "silhouette score : 0.760421188106\n",
      "f1_score : 0.388259526262 \n",
      "\n",
      "iter  16\n",
      "removed feature : redCards_2\n",
      "silhouette score : 0.796416593669\n",
      "f1_score : 0.388259526262 \n",
      "\n",
      "iter  17\n",
      "removed feature : goals_1\n",
      "silhouette score : 0.824112992776\n",
      "f1_score : 0.388259526262 \n",
      "\n",
      "iter  18\n",
      "removed feature : redCards_1\n",
      "silhouette score : 0.862996328512\n",
      "f1_score : 0.388459556929 \n",
      "\n",
      "iter  19\n",
      "removed feature : yellowCards_1\n",
      "silhouette score : 0.897457001918\n",
      "f1_score : 0.388459556929 \n",
      "\n",
      "iter  20\n",
      "removed feature : yellowReds_2\n",
      "silhouette score : 0.922452587551\n",
      "f1_score : 0.38782877772 \n",
      "\n",
      "iter  21\n",
      "removed feature : defeats_2\n",
      "silhouette score : 0.972258828153\n",
      "f1_score : 0.391459074733 \n",
      "\n",
      "iter  22\n",
      "removed feature : redCards_3\n",
      "silhouette score : 0.978497419658\n",
      "f1_score : 0.391459074733 \n",
      "\n",
      "iter  23\n",
      "removed feature : goals_3\n",
      "silhouette score : 0.984052442252\n",
      "f1_score : 0.391061452514 \n",
      "\n",
      "iter  24\n",
      "removed feature : yellowReds_3\n",
      "silhouette score : 0.989419733798\n",
      "f1_score : 0.391061452514 \n",
      "\n",
      "iter  25\n",
      "removed feature : defeats_3\n",
      "silhouette score : 0.996551892948\n",
      "f1_score : 0.390243902439 \n",
      "\n",
      "iter  26\n",
      "removed feature : yellowCards_3\n",
      "silhouette score : 0.997978429922\n",
      "f1_score : 0.391260162602 \n",
      "\n",
      "\n",
      "best silhouette score : 0.997978429922\n",
      "used features : ['ties_3']\n"
     ]
    }
   ],
   "source": [
    "max_sil=-10\n",
    "i_max=0\n",
    "no_i=[]\n",
    "b=True\n",
    "iter=0\n",
    "while b:\n",
    "    b=False\n",
    "    for i in np.delete(np.arange(28),no_i):\n",
    "        subX=np.delete(X,no_i+[i],axis=1)\n",
    "        kmeans = KMeans(n_clusters=2).fit(subX,Y_true)\n",
    "        Y_predict=kmeans.labels_\n",
    "        if silhouette_score(subX,Y_predict)>max_sil:\n",
    "            max_sil=silhouette_score(subX,Y_predict)\n",
    "            i_max=i\n",
    "            b=True\n",
    "    subX=np.delete(X,no_i+[i_max],axis=1)\n",
    "    kmeans = KMeans(n_clusters=2).fit(subX,Y_true)\n",
    "    Y_predict=kmeans.labels_\n",
    "    if b:\n",
    "        print('iter ',iter)\n",
    "        print('removed feature :',columns[i_max])\n",
    "        print('silhouette score :',max_sil)\n",
    "        print('f1_score :',max([f1_score(Y_predict,Y_true),f1_score(1-Y_predict,Y_true)]),'\\n')\n",
    "        no_i=no_i+[i_max]\n",
    "        if len(no_i)==27:\n",
    "            b=False\n",
    "    iter=iter+1\n",
    "\n",
    "print('\\nbest silhouette score :', max_sil)\n",
    "print('used features :', columns[np.delete(np.arange(28),no_i)])"
   ]
  },
  {
   "cell_type": "markdown",
   "metadata": {},
   "source": [
    "- We notice that removing a feature helps us to have a better silhouette score at each iteration until only one feature remains."
   ]
  },
  {
   "cell_type": "markdown",
   "metadata": {},
   "source": [
    "- We can see that the columns ties_3 has a few values and that the huge majority of its values are the same. So it's normal that it gives us the best silhouette score :"
   ]
  },
  {
   "cell_type": "code",
   "execution_count": 166,
   "metadata": {
    "collapsed": false
   },
   "outputs": [
    {
     "data": {
      "text/plain": [
       "Counter({0.0: 250,\n",
       "         0.050000000000000003: 1,\n",
       "         0.0625: 2,\n",
       "         0.090909090909090912: 2,\n",
       "         0.09816381281053356: 1243,\n",
       "         0.10000000000000001: 5,\n",
       "         0.10344827586206896: 1,\n",
       "         0.1111111111111111: 5,\n",
       "         0.14285714285714285: 5,\n",
       "         0.15384615384615385: 2,\n",
       "         0.16666666666666666: 8,\n",
       "         0.17647058823529413: 1,\n",
       "         0.20000000000000001: 11,\n",
       "         0.22222222222222221: 1,\n",
       "         0.23076923076923078: 1,\n",
       "         0.25: 8,\n",
       "         0.2857142857142857: 2,\n",
       "         0.29999999999999999: 1,\n",
       "         0.33333333333333331: 6,\n",
       "         0.40000000000000002: 2,\n",
       "         0.5: 12,\n",
       "         0.59999999999999998: 2,\n",
       "         1.0: 14})"
      ]
     },
     "execution_count": 166,
     "metadata": {},
     "output_type": "execute_result"
    }
   ],
   "source": [
    "Counter(np.concatenate(X[:,np.delete(np.arange(28),no_i)]))"
   ]
  },
  {
   "cell_type": "markdown",
   "metadata": {},
   "source": [
    "- We can say the same for all the features that were removes at the end after we begin to get too high silhouette scores."
   ]
  },
  {
   "cell_type": "markdown",
   "metadata": {},
   "source": [
    "## MAXIMIZING THE SILHOUETTE SCORE OF BLACK/WHITE CLUSTERING"
   ]
  },
  {
   "cell_type": "markdown",
   "metadata": {},
   "source": [
    "- This algorithm removes at each step the feature that should be removed to have a better silhouette score.\n",
    "- At each iteration, it displays the removed feature and the silhouette score.\n",
    "- At the end, it displays the configuration that give us the best silhouette score."
   ]
  },
  {
   "cell_type": "code",
   "execution_count": 160,
   "metadata": {
    "collapsed": false
   },
   "outputs": [
    {
     "name": "stdout",
     "output_type": "stream",
     "text": [
      "iter  0\n",
      "removed feature : player\n",
      "silhouette score : -0.0147997130501 \n",
      "\n",
      "iter  1\n",
      "removed feature : club\n",
      "silhouette score : 0.00130075093849 \n",
      "\n",
      "iter  2\n",
      "removed feature : height\n",
      "silhouette score : 0.00605253659633 \n",
      "\n",
      "iter  3\n",
      "removed feature : birthday\n",
      "silhouette score : 0.0110023190623 \n",
      "\n",
      "iter  4\n",
      "removed feature : weight\n",
      "silhouette score : 0.0180124853822 \n",
      "\n",
      "iter  5\n",
      "removed feature : leagueCountry\n",
      "silhouette score : 0.0227762695349 \n",
      "\n",
      "iter  6\n",
      "removed feature : defeats_1\n",
      "silhouette score : 0.0228800283239 \n",
      "\n",
      "iter  7\n",
      "removed feature : yellowReds_1\n",
      "silhouette score : 0.022958793891 \n",
      "\n",
      "iter  8\n",
      "removed feature : ties_2\n",
      "silhouette score : 0.0230301419853 \n",
      "\n",
      "iter  9\n",
      "removed feature : victories_1\n",
      "silhouette score : 0.023102078079 \n",
      "\n",
      "iter  10\n",
      "removed feature : redCards_1\n",
      "silhouette score : 0.023171983127 \n",
      "\n",
      "iter  11\n",
      "removed feature : position\n",
      "silhouette score : 0.0240645514839 \n",
      "\n",
      "iter  12\n",
      "removed feature : goals_1\n",
      "silhouette score : 0.0289054944384 \n",
      "\n",
      "iter  13\n",
      "removed feature : ties_1\n",
      "silhouette score : 0.0328533825471 \n",
      "\n",
      "iter  14\n",
      "removed feature : victories_2\n",
      "silhouette score : 0.0375419730189 \n",
      "\n",
      "iter  15\n",
      "removed feature : goals_2\n",
      "silhouette score : 0.0424931658118 \n",
      "\n",
      "iter  16\n",
      "removed feature : yellowCards_2\n",
      "silhouette score : 0.0504007254037 \n",
      "\n",
      "iter  17\n",
      "removed feature : redCards_2\n",
      "silhouette score : 0.0616554807865 \n",
      "\n",
      "iter  18\n",
      "removed feature : victories_3\n",
      "silhouette score : 0.0735753976247 \n",
      "\n",
      "iter  19\n",
      "removed feature : yellowCards_1\n",
      "silhouette score : 0.113080776246 \n",
      "\n",
      "iter  20\n",
      "removed feature : goals_3\n",
      "silhouette score : 0.12509885882 \n",
      "\n",
      "iter  21\n",
      "removed feature : yellowReds_3\n",
      "silhouette score : 0.128740361354 \n",
      "\n",
      "iter  22\n",
      "removed feature : defeats_3\n",
      "silhouette score : 0.134387058419 \n",
      "\n",
      "iter  23\n",
      "removed feature : redCards_3\n",
      "silhouette score : 0.140147610664 \n",
      "\n",
      "iter  24\n",
      "removed feature : defeats_2\n",
      "silhouette score : 0.144787937808 \n",
      "\n",
      "iter  25\n",
      "removed feature : ties_3\n",
      "silhouette score : 0.145758800117 \n",
      "\n",
      "iter  26\n",
      "removed feature : yellowCards_3\n",
      "silhouette score : 0.146337512932 \n",
      "\n",
      "\n",
      "best silhouette score : 0.146337512932\n",
      "used features : ['yellowReds_2']\n"
     ]
    }
   ],
   "source": [
    "max_sil=-10\n",
    "i_max=0\n",
    "no_i=[]\n",
    "b=True\n",
    "iter=0\n",
    "while b:\n",
    "    b=False\n",
    "    for i in np.delete(np.arange(28),no_i):\n",
    "        subX=np.delete(X,no_i+[i],axis=1)\n",
    "        if silhouette_score(subX,Y_true)>max_sil:\n",
    "            max_sil=silhouette_score(subX,Y_true)\n",
    "            i_max=i\n",
    "            b=True\n",
    "    subX=np.delete(X,no_i+[i_max],axis=1)\n",
    "    if b:\n",
    "        print('iter ',iter)\n",
    "        print('removed feature :',columns[i_max])\n",
    "        print('silhouette score :',max_sil,'\\n')\n",
    "        no_i=no_i+[i_max]\n",
    "        if len(no_i)==27:\n",
    "            b=False\n",
    "    iter=iter+1\n",
    "\n",
    "print('\\nbest silhouette score :', max_sil)\n",
    "print('used features :', columns[np.delete(np.arange(28),no_i)])"
   ]
  },
  {
   "cell_type": "markdown",
   "metadata": {},
   "source": [
    "- The best silhouette score that we could obtain with the black/white clustering is 0.146. It's too low. \n",
    "- We don't think we can obtain a really high silhouette score with this clustering even if we consider all the possible configurations of features."
   ]
  }
 ],
 "metadata": {
  "anaconda-cloud": {},
  "kernelspec": {
   "display_name": "Python 3",
   "language": "python",
   "name": "python3"
  },
  "language_info": {
   "codemirror_mode": {
    "name": "ipython",
    "version": 3
   },
   "file_extension": ".py",
   "mimetype": "text/x-python",
   "name": "python",
   "nbconvert_exporter": "python",
   "pygments_lexer": "ipython3",
   "version": "3.5.2"
  }
 },
 "nbformat": 4,
 "nbformat_minor": 1
}

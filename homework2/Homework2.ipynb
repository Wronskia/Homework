{
 "cells": [
  {
   "cell_type": "markdown",
   "metadata": {},
   "source": [
    "# HOMEWORK2 : IS-ACADEMIA"
   ]
  },
  {
   "cell_type": "markdown",
   "metadata": {},
   "source": [
    "## Exercice 1 "
   ]
  },
  {
   "cell_type": "code",
   "execution_count": 11,
   "metadata": {
    "collapsed": true
   },
   "outputs": [],
   "source": [
    "%matplotlib inline\n",
    "import requests\n",
    "import bs4\n",
    "import numpy as np"
   ]
  },
  {
   "cell_type": "markdown",
   "metadata": {},
   "source": [
    "1. First of all, we extract the dataset from is-academia and we parse it using beautifulSoup"
   ]
  },
  {
   "cell_type": "code",
   "execution_count": 12,
   "metadata": {
    "collapsed": false
   },
   "outputs": [],
   "source": [
    "#function that extracts the data from is-academia\n",
    "#takes as input the level of studies('bachelor 1,2,3 ...), the section (in this homework, we extract the data from \n",
    "#Section Informatique), the period (a vector for example : [2007,2011])\n",
    "#Example : extract_data('Bachelor semestre 1','Informatique','[2007,2017]','Semestre d'automne') will return\n",
    "#all the data of all the bachelor semestre 1 of the Informatique section from 2007 to 2017 into a dictionary format\n",
    "#{2007:'data for bachelor 1 in 2007',2008:'data for bachelor 1 in 2008',...}\n",
    "def extract_data(level,section,period,type_semestre):\n",
    "    dict={}\n",
    "    dict_data={}\n",
    "    request = requests.get('http://isa.epfl.ch/imoniteur_ISAP/!GEDPUBLICREPORTS.filter',{'ww_i_reportmodel':'133685247','ww_i_reportModelXsl':'133685271'})\n",
    "    html_doc=request.content\n",
    "    soup = bs4.BeautifulSoup(html_doc, 'html.parser')\n",
    "    #find the parameter relative to the section,level(ie: bachelor 1,2,3 ...) and to the type of semester\n",
    "    #(ie: automne or hiver)\n",
    "    for option in soup.findAll('option'):\n",
    "        if option.text==section:\n",
    "            value_section=option.get('value') \n",
    "        if option.text==level:\n",
    "            value_level=option.get('value')\n",
    "        if option.text==type_semestre:\n",
    "            value_type=option.get('value')\n",
    "    x=period[0]\n",
    "    while x<= period[1]-1 and x>=period[0]:\n",
    "        for option in soup.findAll('option'):\n",
    "            year=str(x)+'-'+str(x+1)\n",
    "            if option.text==year:\n",
    "               dict[year]=option.get('value')\n",
    "        data = {'ww_i_reportmodel':'133685247','ww_i_reportModelXsl':'133685271','ww_x_UNITE_ACAD':str(value_section),'ww_x_PERIODE_ACAD':str(dict[year]),'ww_x_PERIODE_PEDAGO':str(value_level),'ww_x_HIVERETE':str(value_type),'ww_x_GPS':-1}\n",
    "        r=requests.get('http://isa.epfl.ch/imoniteur_ISAP/!GEDPUBLICREPORTS.html',params=data).text\n",
    "        dict_data[year]=requests.get('http://isa.epfl.ch/imoniteur_ISAP/!GEDPUBLICREPORTS.html',params=data).text\n",
    "        x=x+1\n",
    "    return dict_data"
   ]
  },
  {
   "cell_type": "markdown",
   "metadata": {},
   "source": [
    "- Create functions that given a certain html page, returns the data (gender, name, sciper)"
   ]
  },
  {
   "cell_type": "code",
   "execution_count": 13,
   "metadata": {
    "collapsed": false
   },
   "outputs": [],
   "source": [
    "def names(page):\n",
    "    soup = bs4.BeautifulSoup(page, 'html.parser')\n",
    "    table=[tr.findAll('td') for tr in soup.findAll('tr')]\n",
    "    table=table[3:]\n",
    "    names=[]\n",
    "    for i in range(len(table)):\n",
    "        names=names+[table[i][1].get_text().replace('\\xa0',' ')]\n",
    "    return names"
   ]
  },
  {
   "cell_type": "code",
   "execution_count": 14,
   "metadata": {
    "collapsed": false
   },
   "outputs": [],
   "source": [
    "def genders(page):\n",
    "    soup = bs4.BeautifulSoup(page, 'html.parser')\n",
    "    table=[tr.findAll('td') for tr in soup.findAll('tr')]\n",
    "    table=table[3:]\n",
    "    gender=[]\n",
    "    for i in range(len(table)):\n",
    "        gender=gender+[table[i][0].get_text().replace('\\xa0',' ')]\n",
    "    return gender"
   ]
  },
  {
   "cell_type": "code",
   "execution_count": 15,
   "metadata": {
    "collapsed": false
   },
   "outputs": [],
   "source": [
    "def sciper(page):\n",
    "    soup = bs4.BeautifulSoup(page, 'html.parser')\n",
    "    table=[tr.findAll('td') for tr in soup.findAll('tr')]\n",
    "    table=table[3:]\n",
    "    scipers={}\n",
    "    for i in range(len(table)):\n",
    "        scipers[table[i][10].get_text().replace('\\xa0',' ')]=table[i][0].get_text().replace('\\xa0',' ')\n",
    "    return scipers"
   ]
  },
  {
   "cell_type": "code",
   "execution_count": 16,
   "metadata": {
    "collapsed": false
   },
   "outputs": [],
   "source": [
    "B1=extract_data('Bachelor semestre 1','Informatique',[2007,2017],\"Semestre d'automne\")\n",
    "B6=extract_data('Bachelor semestre 6','Informatique',[2007,2017],\"Semestre de printemps\")"
   ]
  },
  {
   "cell_type": "markdown",
   "metadata": {},
   "source": [
    "- firstB1 and lastB6 are two functions that take a sciper number and returns respectively the first BA1 semester and the last BA6 semester in which the student appears\n"
   ]
  },
  {
   "cell_type": "code",
   "execution_count": 17,
   "metadata": {
    "collapsed": true
   },
   "outputs": [],
   "source": [
    "def firstB1(sci):\n",
    "    year=2007\n",
    "    b=True\n",
    "    while year<2017 and b:\n",
    "        yearstr=str(year)+'-'+str(year+1)\n",
    "        if str(sci) in sciper(B1[yearstr]).keys():\n",
    "            b=False\n",
    "        else:\n",
    "            year=year+1\n",
    "    return year"
   ]
  },
  {
   "cell_type": "code",
   "execution_count": 18,
   "metadata": {
    "collapsed": true
   },
   "outputs": [],
   "source": [
    "def lastB6(sci):\n",
    "    year=2007\n",
    "    lastyear=0\n",
    "    while year<2017:\n",
    "        yearstr=str(year)+'-'+str(year+1)\n",
    "        if str(sci) in sciper(B6[yearstr]).keys():\n",
    "            lastyear=year\n",
    "        year=year+1\n",
    "    return lastyear"
   ]
  },
  {
   "cell_type": "code",
   "execution_count": 19,
   "metadata": {
    "collapsed": false
   },
   "outputs": [],
   "source": [
    "import pandas\n",
    "sciB1={}\n",
    "#sciB1 is a dictionary with all the BA1 scipers as keys and Gender's as values  between 2007 and 2017\n",
    "for year in range(2007,2017):\n",
    "    sciB1.update(sciper(B1[str(year)+'-'+str(year+1)]))"
   ]
  },
  {
   "cell_type": "code",
   "execution_count": 20,
   "metadata": {
    "collapsed": false
   },
   "outputs": [],
   "source": [
    "sciB6={}\n",
    "#sciB6 is a dictionary with all the BA6 scipers as keys and Gender's as values between 2007 and 2017\n",
    "for year in range(2007,2017):\n",
    "    sciB6.update(sciper(B6[str(year)+'-'+str(year+1)]))"
   ]
  },
  {
   "cell_type": "markdown",
   "metadata": {},
   "source": [
    "- sciB6 is a dictionary with all sciper students who appeared both in BA1 and BA6.\n",
    "- The idea is to store all the students that did succeed to go from BA1 to BA6"
   ]
  },
  {
   "cell_type": "code",
   "execution_count": 21,
   "metadata": {
    "collapsed": false
   },
   "outputs": [],
   "source": [
    "interB1B6={}\n",
    "for key in set(sciB1).intersection(set(sciB6)):\n",
    "    interB1B6[key]=sciB1[key]"
   ]
  },
  {
   "cell_type": "markdown",
   "metadata": {},
   "source": [
    "-diffB1B6 is a dictionary with the number of years that a student took from BA1 to BA6"
   ]
  },
  {
   "cell_type": "code",
   "execution_count": 22,
   "metadata": {
    "collapsed": true
   },
   "outputs": [],
   "source": [
    "diffB1B6={}\n",
    "for scip in interB1B6.keys():\n",
    "    diffB1B6[scip]=lastB6(scip)-firstB1(scip)"
   ]
  },
  {
   "cell_type": "code",
   "execution_count": 23,
   "metadata": {
    "collapsed": false
   },
   "outputs": [
    {
     "data": {
      "text/html": [
       "<div>\n",
       "<table border=\"1\" class=\"dataframe\">\n",
       "  <thead>\n",
       "    <tr style=\"text-align: right;\">\n",
       "      <th></th>\n",
       "      <th>Gender</th>\n",
       "    </tr>\n",
       "  </thead>\n",
       "  <tbody>\n",
       "    <tr>\n",
       "      <th>226703</th>\n",
       "      <td>Monsieur</td>\n",
       "    </tr>\n",
       "    <tr>\n",
       "      <th>205612</th>\n",
       "      <td>Madame</td>\n",
       "    </tr>\n",
       "    <tr>\n",
       "      <th>226652</th>\n",
       "      <td>Monsieur</td>\n",
       "    </tr>\n",
       "    <tr>\n",
       "      <th>218357</th>\n",
       "      <td>Monsieur</td>\n",
       "    </tr>\n",
       "    <tr>\n",
       "      <th>194171</th>\n",
       "      <td>Monsieur</td>\n",
       "    </tr>\n",
       "  </tbody>\n",
       "</table>\n",
       "</div>"
      ],
      "text/plain": [
       "          Gender\n",
       "226703  Monsieur\n",
       "205612    Madame\n",
       "226652  Monsieur\n",
       "218357  Monsieur\n",
       "194171  Monsieur"
      ]
     },
     "execution_count": 23,
     "metadata": {},
     "output_type": "execute_result"
    }
   ],
   "source": [
    "tab1=pandas.DataFrame.from_dict(interB1B6, orient='index', dtype=None)\n",
    "tab1.columns = ['Gender']\n",
    "tab1.head()"
   ]
  },
  {
   "cell_type": "code",
   "execution_count": 24,
   "metadata": {
    "collapsed": false
   },
   "outputs": [
    {
     "data": {
      "text/html": [
       "<div>\n",
       "<table border=\"1\" class=\"dataframe\">\n",
       "  <thead>\n",
       "    <tr style=\"text-align: right;\">\n",
       "      <th></th>\n",
       "      <th>Num Years</th>\n",
       "    </tr>\n",
       "  </thead>\n",
       "  <tbody>\n",
       "    <tr>\n",
       "      <th>226703</th>\n",
       "      <td>30</td>\n",
       "    </tr>\n",
       "    <tr>\n",
       "      <th>205612</th>\n",
       "      <td>30</td>\n",
       "    </tr>\n",
       "    <tr>\n",
       "      <th>226652</th>\n",
       "      <td>42</td>\n",
       "    </tr>\n",
       "    <tr>\n",
       "      <th>218357</th>\n",
       "      <td>30</td>\n",
       "    </tr>\n",
       "    <tr>\n",
       "      <th>194171</th>\n",
       "      <td>30</td>\n",
       "    </tr>\n",
       "  </tbody>\n",
       "</table>\n",
       "</div>"
      ],
      "text/plain": [
       "        Num Years\n",
       "226703         30\n",
       "205612         30\n",
       "226652         42\n",
       "218357         30\n",
       "194171         30"
      ]
     },
     "execution_count": 24,
     "metadata": {},
     "output_type": "execute_result"
    }
   ],
   "source": [
    "tab2=pandas.DataFrame.from_dict(diffB1B6, orient='index', dtype=None)\n",
    "tab2.columns = ['Num Years']\n",
    "tab2['Num Years']=12*tab2['Num Years']+6\n",
    "tab2.head()"
   ]
  },
  {
   "cell_type": "code",
   "execution_count": 25,
   "metadata": {
    "collapsed": false
   },
   "outputs": [
    {
     "data": {
      "text/html": [
       "<div>\n",
       "<table border=\"1\" class=\"dataframe\">\n",
       "  <thead>\n",
       "    <tr style=\"text-align: right;\">\n",
       "      <th></th>\n",
       "      <th>Gender</th>\n",
       "      <th>Num Years</th>\n",
       "    </tr>\n",
       "  </thead>\n",
       "  <tbody>\n",
       "    <tr>\n",
       "      <th>147008</th>\n",
       "      <td>Monsieur</td>\n",
       "      <td>30</td>\n",
       "    </tr>\n",
       "    <tr>\n",
       "      <th>169569</th>\n",
       "      <td>Monsieur</td>\n",
       "      <td>30</td>\n",
       "    </tr>\n",
       "    <tr>\n",
       "      <th>169731</th>\n",
       "      <td>Monsieur</td>\n",
       "      <td>42</td>\n",
       "    </tr>\n",
       "    <tr>\n",
       "      <th>169795</th>\n",
       "      <td>Monsieur</td>\n",
       "      <td>42</td>\n",
       "    </tr>\n",
       "    <tr>\n",
       "      <th>171195</th>\n",
       "      <td>Monsieur</td>\n",
       "      <td>30</td>\n",
       "    </tr>\n",
       "  </tbody>\n",
       "</table>\n",
       "</div>"
      ],
      "text/plain": [
       "          Gender  Num Years\n",
       "147008  Monsieur         30\n",
       "169569  Monsieur         30\n",
       "169731  Monsieur         42\n",
       "169795  Monsieur         42\n",
       "171195  Monsieur         30"
      ]
     },
     "execution_count": 25,
     "metadata": {},
     "output_type": "execute_result"
    }
   ],
   "source": [
    "tab=pandas.concat([tab1,tab2],axis=1)\n",
    "tab.head()"
   ]
  },
  {
   "cell_type": "markdown",
   "metadata": {},
   "source": [
    "- Here, we can see the average and the standard deviation of number of years it took each student to go from the first to the sixth semester by gender.\n",
    "- We notice that the results are scarcely different."
   ]
  },
  {
   "cell_type": "code",
   "execution_count": 26,
   "metadata": {
    "collapsed": false
   },
   "outputs": [
    {
     "data": {
      "text/plain": [
       "Gender\n",
       "Madame      33.724138\n",
       "Monsieur    35.771739\n",
       "Name: Num Years, dtype: float64"
      ]
     },
     "execution_count": 26,
     "metadata": {},
     "output_type": "execute_result"
    }
   ],
   "source": [
    "tab.groupby('Gender')['Num Years'].mean()"
   ]
  },
  {
   "cell_type": "code",
   "execution_count": 27,
   "metadata": {
    "collapsed": false
   },
   "outputs": [
    {
     "data": {
      "text/plain": [
       "Gender\n",
       "Madame      6.496684\n",
       "Monsieur    8.943788\n",
       "Name: Num Years, dtype: float64"
      ]
     },
     "execution_count": 27,
     "metadata": {},
     "output_type": "execute_result"
    }
   ],
   "source": [
    "tab.groupby('Gender')['Num Years'].std()"
   ]
  },
  {
   "cell_type": "markdown",
   "metadata": {},
   "source": [
    "- To answer the question of the exercise, we notice that the number of women from 2007 to 2016 is very low compared to the number of men: \n",
    "- Also, the mean is not robust to outliers which means that a simple outlier could influence the estimator. That's why the results are not significant.\n"
   ]
  },
  {
   "cell_type": "code",
   "execution_count": 33,
   "metadata": {
    "collapsed": false
   },
   "outputs": [
    {
     "data": {
      "text/plain": [
       "Monsieur    368\n",
       "Madame       29\n",
       "Name: Gender, dtype: int64"
      ]
     },
     "execution_count": 33,
     "metadata": {},
     "output_type": "execute_result"
    }
   ],
   "source": [
    "tab['Gender'].value_counts()"
   ]
  },
  {
   "cell_type": "markdown",
   "metadata": {},
   "source": [
    "# Exercice 2"
   ]
  },
  {
   "cell_type": "markdown",
   "metadata": {},
   "source": [
    "### Useful dictionaries"
   ]
  },
  {
   "cell_type": "markdown",
   "metadata": {},
   "source": [
    "We define dictionaries with pages of different levels of Master between 2007 and 2017."
   ]
  },
  {
   "cell_type": "markdown",
   "metadata": {},
   "source": [
    "We define 3 dictionaries :\n",
    "- occurM : SCIPER -> occurence in Master pages\n",
    "- gendersM : SCIPER -> gender\n",
    "- firstM1 : SCIPER -> first Master 1"
   ]
  },
  {
   "cell_type": "code",
   "execution_count": 34,
   "metadata": {
    "collapsed": true
   },
   "outputs": [],
   "source": [
    "M1=extract_data('Master semestre 1','Informatique',[2007,2017],\"Semestre d'automne\")\n",
    "M2=extract_data('Master semestre 2','Informatique',[2007,2017],\"Semestre de printemps\")\n",
    "M3=extract_data('Master semestre 3','Informatique',[2007,2017],\"Semestre d'automne\")"
   ]
  },
  {
   "cell_type": "code",
   "execution_count": 35,
   "metadata": {
    "collapsed": false
   },
   "outputs": [],
   "source": [
    "occurM={}\n",
    "gendersM={}\n",
    "firstM1={}\n",
    "for year in range(2007,2017):\n",
    "    soupM1 = bs4.BeautifulSoup(M1[str(year)+'-'+str(year+1)], 'html.parser')\n",
    "    tableM1=[tr.findAll('td') for tr in soupM1.findAll('tr')]\n",
    "    tableM1=tableM1[3:]\n",
    "    soupM2 = bs4.BeautifulSoup(M2[str(year)+'-'+str(year+1)], 'html.parser')\n",
    "    tableM2=[tr.findAll('td') for tr in soupM2.findAll('tr')]\n",
    "    tableM2=tableM2[3:]\n",
    "    soupM3 = bs4.BeautifulSoup(M3[str(year)+'-'+str(year+1)], 'html.parser')\n",
    "    tableM3=[tr.findAll('td') for tr in soupM3.findAll('tr')]\n",
    "    tableM3=tableM3[3:]\n",
    "    #we don't consider the year 2017 because we don't know if its Master student will finish\n",
    "    if year!=2016:\n",
    "         #Master 1\n",
    "        for i in range(len(tableM1)):\n",
    "            if tableM1[i][10].get_text().replace('\\xa0',' ') in occurM.keys():\n",
    "            #Incrementation of occurences for the current student\n",
    "                occurM[tableM1[i][10].get_text().replace('\\xa0',' ')]=occurM[tableM1[i][10].get_text().replace('\\xa0',' ')]+1\n",
    "            else:\n",
    "            #Initialisation of occurences for the current student\n",
    "                occurM[tableM1[i][10].get_text().replace('\\xa0',' ')]=1\n",
    "            if not tableM1[i][10].get_text().replace('\\xa0',' ') in firstM1.keys():\n",
    "            #First Master 1 of the current student\n",
    "                firstM1[tableM1[i][10].get_text().replace('\\xa0',' ')]=year\n",
    "            #Gender of the current student\n",
    "            gendersM[tableM1[i][10].get_text().replace('\\xa0',' ')]=tableM1[i][0].get_text().replace('\\xa0',' ')\n",
    "        #Master 2\n",
    "        for i in range(len(tableM2)):\n",
    "            if tableM2[i][10].get_text().replace('\\xa0',' ') in occurM.keys():\n",
    "                occurM[tableM2[i][10].get_text().replace('\\xa0',' ')]=occurM[tableM2[i][10].get_text().replace('\\xa0',' ')]+1\n",
    "        #Master 3 (we don't consider the years 2007 and 2008 because we don't know when the student began his master)\n",
    "        if year!=2007 and year!=2008:\n",
    "            for i in range(len(tableM3)):\n",
    "                if tableM3[i][10].get_text().replace('\\xa0',' ') in occurM.keys():\n",
    "                    occurM[tableM3[i][10].get_text().replace('\\xa0',' ')]=occurM[tableM3[i][10].get_text().replace('\\xa0',' ')]+1\n",
    "    #deleting of the students that are in 2016-2017 lists \n",
    "    else:\n",
    "        for i in range(len(tableM1)):\n",
    "            if tableM1[i][10].get_text().replace('\\xa0',' ') in occurM: del occurM[tableM1[i][10].get_text().replace('\\xa0',' ')]\n",
    "            if tableM1[i][10].get_text().replace('\\xa0',' ') in gendersM: del gendersM[tableM1[i][10].get_text().replace('\\xa0',' ')]\n",
    "            if tableM1[i][10].get_text().replace('\\xa0',' ') in firstM1: del firstM1[tableM1[i][10].get_text().replace('\\xa0',' ')]\n",
    "        for i in range(len(tableM2)):\n",
    "            if tableM2[i][10].get_text().replace('\\xa0',' ') in occurM: del occurM[tableM2[i][10].get_text().replace('\\xa0',' ')]\n",
    "            if tableM2[i][10].get_text().replace('\\xa0',' ') in gendersM: del gendersM[tableM2[i][10].get_text().replace('\\xa0',' ')]\n",
    "            if tableM2[i][10].get_text().replace('\\xa0',' ') in firstM1: del firstM1[tableM2[i][10].get_text().replace('\\xa0',' ')]\n",
    "        for i in range(len(tableM3)):\n",
    "            if tableM3[i][10].get_text().replace('\\xa0',' ') in occurM: del occurM[tableM3[i][10].get_text().replace('\\xa0',' ')]\n",
    "            if tableM3[i][10].get_text().replace('\\xa0',' ') in gendersM: del gendersM[tableM3[i][10].get_text().replace('\\xa0',' ')]\n",
    "            if tableM3[i][10].get_text().replace('\\xa0',' ') in firstM1: del firstM1[tableM3[i][10].get_text().replace('\\xa0',' ')]\n"
   ]
  },
  {
   "cell_type": "markdown",
   "metadata": {},
   "source": [
    "### DataFrames creation :\n",
    "\n",
    "Occurences DataFrame : Number of semesters it took each master student to complete his master."
   ]
  },
  {
   "cell_type": "code",
   "execution_count": 37,
   "metadata": {
    "collapsed": false
   },
   "outputs": [
    {
     "data": {
      "text/html": [
       "<div>\n",
       "<table border=\"1\" class=\"dataframe\">\n",
       "  <thead>\n",
       "    <tr style=\"text-align: right;\">\n",
       "      <th></th>\n",
       "      <th>Nbre mois</th>\n",
       "    </tr>\n",
       "  </thead>\n",
       "  <tbody>\n",
       "    <tr>\n",
       "      <th>180160</th>\n",
       "      <td>2</td>\n",
       "    </tr>\n",
       "    <tr>\n",
       "      <th>205612</th>\n",
       "      <td>5</td>\n",
       "    </tr>\n",
       "    <tr>\n",
       "      <th>233587</th>\n",
       "      <td>3</td>\n",
       "    </tr>\n",
       "    <tr>\n",
       "      <th>201600</th>\n",
       "      <td>6</td>\n",
       "    </tr>\n",
       "    <tr>\n",
       "      <th>198216</th>\n",
       "      <td>3</td>\n",
       "    </tr>\n",
       "  </tbody>\n",
       "</table>\n",
       "</div>"
      ],
      "text/plain": [
       "        Nbre mois\n",
       "180160          2\n",
       "205612          5\n",
       "233587          3\n",
       "201600          6\n",
       "198216          3"
      ]
     },
     "execution_count": 37,
     "metadata": {},
     "output_type": "execute_result"
    }
   ],
   "source": [
    "frameOccur=pandas.DataFrame.from_dict(occurM,orient='index')\n",
    "frameOccur.columns=['Nbre mois']\n",
    "frameOccur.head()"
   ]
  },
  {
   "cell_type": "markdown",
   "metadata": {},
   "source": [
    "Genders DataFrame :"
   ]
  },
  {
   "cell_type": "code",
   "execution_count": 38,
   "metadata": {
    "collapsed": false
   },
   "outputs": [
    {
     "data": {
      "text/html": [
       "<div>\n",
       "<table border=\"1\" class=\"dataframe\">\n",
       "  <thead>\n",
       "    <tr style=\"text-align: right;\">\n",
       "      <th></th>\n",
       "      <th>Gender</th>\n",
       "    </tr>\n",
       "  </thead>\n",
       "  <tbody>\n",
       "    <tr>\n",
       "      <th>180160</th>\n",
       "      <td>Monsieur</td>\n",
       "    </tr>\n",
       "    <tr>\n",
       "      <th>205612</th>\n",
       "      <td>Madame</td>\n",
       "    </tr>\n",
       "    <tr>\n",
       "      <th>233587</th>\n",
       "      <td>Monsieur</td>\n",
       "    </tr>\n",
       "    <tr>\n",
       "      <th>201600</th>\n",
       "      <td>Monsieur</td>\n",
       "    </tr>\n",
       "    <tr>\n",
       "      <th>198216</th>\n",
       "      <td>Monsieur</td>\n",
       "    </tr>\n",
       "  </tbody>\n",
       "</table>\n",
       "</div>"
      ],
      "text/plain": [
       "          Gender\n",
       "180160  Monsieur\n",
       "205612    Madame\n",
       "233587  Monsieur\n",
       "201600  Monsieur\n",
       "198216  Monsieur"
      ]
     },
     "execution_count": 38,
     "metadata": {},
     "output_type": "execute_result"
    }
   ],
   "source": [
    "frameGenders=pandas.DataFrame.from_dict(gendersM,orient='index')\n",
    "frameGenders.columns=['Gender']\n",
    "frameGenders.head()"
   ]
  },
  {
   "cell_type": "markdown",
   "metadata": {},
   "source": [
    "- First Master 1 DataFrame : Here we store the first date in which the student appears in semester 1."
   ]
  },
  {
   "cell_type": "code",
   "execution_count": 40,
   "metadata": {
    "collapsed": false
   },
   "outputs": [
    {
     "data": {
      "text/html": [
       "<div>\n",
       "<table border=\"1\" class=\"dataframe\">\n",
       "  <thead>\n",
       "    <tr style=\"text-align: right;\">\n",
       "      <th></th>\n",
       "      <th>First M1</th>\n",
       "    </tr>\n",
       "  </thead>\n",
       "  <tbody>\n",
       "    <tr>\n",
       "      <th>180160</th>\n",
       "      <td>2007</td>\n",
       "    </tr>\n",
       "    <tr>\n",
       "      <th>205612</th>\n",
       "      <td>2013</td>\n",
       "    </tr>\n",
       "    <tr>\n",
       "      <th>233587</th>\n",
       "      <td>2013</td>\n",
       "    </tr>\n",
       "    <tr>\n",
       "      <th>201600</th>\n",
       "      <td>2013</td>\n",
       "    </tr>\n",
       "    <tr>\n",
       "      <th>198216</th>\n",
       "      <td>2013</td>\n",
       "    </tr>\n",
       "  </tbody>\n",
       "</table>\n",
       "</div>"
      ],
      "text/plain": [
       "        First M1\n",
       "180160      2007\n",
       "205612      2013\n",
       "233587      2013\n",
       "201600      2013\n",
       "198216      2013"
      ]
     },
     "execution_count": 40,
     "metadata": {},
     "output_type": "execute_result"
    }
   ],
   "source": [
    "frameFirstM1=pandas.DataFrame.from_dict(firstM1,orient='index')\n",
    "frameFirstM1.columns=['First M1']\n",
    "frameFirstM1.head()"
   ]
  },
  {
   "cell_type": "markdown",
   "metadata": {},
   "source": [
    "Conversion of occurences into months :"
   ]
  },
  {
   "cell_type": "code",
   "execution_count": 41,
   "metadata": {
    "collapsed": false
   },
   "outputs": [],
   "source": [
    "frameOccur['Nbre mois']=6*frameOccur['Nbre mois']+6"
   ]
  },
  {
   "cell_type": "code",
   "execution_count": 44,
   "metadata": {
    "collapsed": false
   },
   "outputs": [
    {
     "data": {
      "text/html": [
       "<div>\n",
       "<table border=\"1\" class=\"dataframe\">\n",
       "  <thead>\n",
       "    <tr style=\"text-align: right;\">\n",
       "      <th></th>\n",
       "      <th>Nbre mois</th>\n",
       "    </tr>\n",
       "  </thead>\n",
       "  <tbody>\n",
       "    <tr>\n",
       "      <th>180160</th>\n",
       "      <td>18</td>\n",
       "    </tr>\n",
       "    <tr>\n",
       "      <th>205612</th>\n",
       "      <td>36</td>\n",
       "    </tr>\n",
       "    <tr>\n",
       "      <th>233587</th>\n",
       "      <td>24</td>\n",
       "    </tr>\n",
       "    <tr>\n",
       "      <th>201600</th>\n",
       "      <td>42</td>\n",
       "    </tr>\n",
       "    <tr>\n",
       "      <th>198216</th>\n",
       "      <td>24</td>\n",
       "    </tr>\n",
       "  </tbody>\n",
       "</table>\n",
       "</div>"
      ],
      "text/plain": [
       "        Nbre mois\n",
       "180160         18\n",
       "205612         36\n",
       "233587         24\n",
       "201600         42\n",
       "198216         24"
      ]
     },
     "execution_count": 44,
     "metadata": {},
     "output_type": "execute_result"
    }
   ],
   "source": [
    "frameOccur.head()"
   ]
  },
  {
   "cell_type": "markdown",
   "metadata": {},
   "source": [
    "- Specialisation dataframe"
   ]
  },
  {
   "cell_type": "code",
   "execution_count": 43,
   "metadata": {
    "collapsed": false
   },
   "outputs": [],
   "source": [
    "def specilisation(page):\n",
    "    soup = bs4.BeautifulSoup(page, 'html.parser')\n",
    "    table=[tr.findAll('td') for tr in soup.findAll('tr')]\n",
    "    table=table[3:]\n",
    "    spec={}\n",
    "    for i in range(len(table)):\n",
    "        if  table[i][4].get_text().replace('\\xa0',' '):\n",
    "            spec[table[i][10].get_text().replace('\\xa0',' ')]=table[i][4].get_text().replace('\\xa0',' ')\n",
    "        else:\n",
    "            spec[table[i][10].get_text().replace('\\xa0',' ')]='Without Specialisation'\n",
    "    return spec"
   ]
  },
  {
   "cell_type": "code",
   "execution_count": 46,
   "metadata": {
    "collapsed": true
   },
   "outputs": [],
   "source": [
    "specM1={}\n",
    "specM2={}\n",
    "specM3={}\n",
    "spec_master={}\n",
    "for year in range(2007,2017):\n",
    "    specM1.update(specilisation(M1[str(year)+'-'+str(year+1)]))\n",
    "    specM2.update(specilisation(M2[str(year)+'-'+str(year+1)]))\n",
    "    specM3.update(specilisation(M2[str(year)+'-'+str(year+1)]))"
   ]
  },
  {
   "cell_type": "code",
   "execution_count": 48,
   "metadata": {
    "collapsed": false
   },
   "outputs": [],
   "source": [
    "spec_master.update(specM2)\n",
    "spec_master.update(specM1)\n",
    "spec_master.update(specM3)"
   ]
  },
  {
   "cell_type": "markdown",
   "metadata": {},
   "source": [
    "- Here we create a dataframe from a dictionary. The idea is to consider only students who have been considered for our framework (ie that occur in occurM) and to remove all the others from the spec_master dictionary which stored all the master scipers as keys and their respective specialisation as values."
   ]
  },
  {
   "cell_type": "code",
   "execution_count": 49,
   "metadata": {
    "collapsed": true
   },
   "outputs": [],
   "source": [
    "specialisation_MA={}\n",
    "for x in occurM.keys():\n",
    "    specialisation_MA[x]=spec_master[x]"
   ]
  },
  {
   "cell_type": "code",
   "execution_count": 50,
   "metadata": {
    "collapsed": false
   },
   "outputs": [
    {
     "data": {
      "text/html": [
       "<div>\n",
       "<table border=\"1\" class=\"dataframe\">\n",
       "  <thead>\n",
       "    <tr style=\"text-align: right;\">\n",
       "      <th></th>\n",
       "      <th>Specialisation</th>\n",
       "    </tr>\n",
       "  </thead>\n",
       "  <tbody>\n",
       "    <tr>\n",
       "      <th>180160</th>\n",
       "      <td>Internet computing</td>\n",
       "    </tr>\n",
       "    <tr>\n",
       "      <th>205612</th>\n",
       "      <td>Foundations of Software</td>\n",
       "    </tr>\n",
       "    <tr>\n",
       "      <th>175703</th>\n",
       "      <td>Internet computing</td>\n",
       "    </tr>\n",
       "    <tr>\n",
       "      <th>181017</th>\n",
       "      <td>Without Specialisation</td>\n",
       "    </tr>\n",
       "    <tr>\n",
       "      <th>237304</th>\n",
       "      <td>Without Specialisation</td>\n",
       "    </tr>\n",
       "  </tbody>\n",
       "</table>\n",
       "</div>"
      ],
      "text/plain": [
       "                 Specialisation\n",
       "180160       Internet computing\n",
       "205612  Foundations of Software\n",
       "175703       Internet computing\n",
       "181017   Without Specialisation\n",
       "237304   Without Specialisation"
      ]
     },
     "execution_count": 50,
     "metadata": {},
     "output_type": "execute_result"
    }
   ],
   "source": [
    "frameSpec=pandas.DataFrame.from_dict(specialisation_MA,orient='index')\n",
    "frameSpec.columns=['Specialisation']\n",
    "frameSpec.head()"
   ]
  },
  {
   "cell_type": "markdown",
   "metadata": {},
   "source": [
    "DataFrames concatenation : "
   ]
  },
  {
   "cell_type": "code",
   "execution_count": 51,
   "metadata": {
    "collapsed": false
   },
   "outputs": [],
   "source": [
    "frameMa=pandas.concat([frameSpec,frameOccur,frameGenders,frameFirstM1],axis=1)\n",
    "frameMa=frameMa[frameMa['First M1']!=2015]"
   ]
  },
  {
   "cell_type": "code",
   "execution_count": 226,
   "metadata": {
    "collapsed": false
   },
   "outputs": [
    {
     "data": {
      "text/plain": [
       "Specialisation\n",
       "Biocomputing                      30.000000\n",
       "Computer Engineering - SP         26.727273\n",
       "Foundations of Software           28.500000\n",
       "Information Security - SP         30.000000\n",
       "Internet computing                27.937500\n",
       "Service science                   27.000000\n",
       "Signals, Images and Interfaces    30.000000\n",
       "Software Systems                  26.666667\n",
       "Without Specialisation            23.336170\n",
       "Name: Nbre mois, dtype: float64"
      ]
     },
     "execution_count": 226,
     "metadata": {},
     "output_type": "execute_result"
    }
   ],
   "source": [
    "frameMa.groupby('Specialisation')['Nbre mois'].mean()"
   ]
  },
  {
   "cell_type": "markdown",
   "metadata": {},
   "source": [
    "- Average number of months for each specialisation"
   ]
  },
  {
   "cell_type": "code",
   "execution_count": 227,
   "metadata": {
    "collapsed": false
   },
   "outputs": [
    {
     "data": {
      "text/plain": [
       "Specialisation\n",
       "Biocomputing                      30.000000\n",
       "Computer Engineering - SP         26.727273\n",
       "Foundations of Software           28.500000\n",
       "Information Security - SP         30.000000\n",
       "Internet computing                27.937500\n",
       "Service science                   27.000000\n",
       "Signals, Images and Interfaces    30.000000\n",
       "Software Systems                  26.666667\n",
       "Without Specialisation            23.336170\n",
       "Name: Nbre mois, dtype: float64"
      ]
     },
     "execution_count": 227,
     "metadata": {},
     "output_type": "execute_result"
    }
   ],
   "source": [
    "frameMa.groupby('Specialisation')['Nbre mois'].mean()"
   ]
  },
  {
   "cell_type": "code",
   "execution_count": 52,
   "metadata": {
    "collapsed": false
   },
   "outputs": [],
   "source": [
    "std=frameMa.groupby('Specialisation')['Nbre mois'].mean().std()"
   ]
  },
  {
   "cell_type": "markdown",
   "metadata": {},
   "source": [
    "- We notice that all the means are inside the confidence interval, which means that no specialisation stands out."
   ]
  },
  {
   "cell_type": "code",
   "execution_count": 53,
   "metadata": {
    "collapsed": false
   },
   "outputs": [
    {
     "data": {
      "text/plain": [
       "23.435795931960129"
      ]
     },
     "execution_count": 53,
     "metadata": {},
     "output_type": "execute_result"
    }
   ],
   "source": [
    "frameMa.groupby('Specialisation')['Nbre mois'].mean().mean()-2*std"
   ]
  },
  {
   "cell_type": "code",
   "execution_count": 54,
   "metadata": {
    "collapsed": false
   },
   "outputs": [
    {
     "data": {
      "text/plain": [
       "32.157006202863279"
      ]
     },
     "execution_count": 54,
     "metadata": {},
     "output_type": "execute_result"
    }
   ],
   "source": [
    "frameMa.groupby('Specialisation')['Nbre mois'].mean().mean()+2*std"
   ]
  },
  {
   "cell_type": "code",
   "execution_count": 55,
   "metadata": {
    "collapsed": false
   },
   "outputs": [
    {
     "data": {
      "text/plain": [
       "Specialisation\n",
       "Biocomputing                      0.000000\n",
       "Computer Engineering - SP         3.133398\n",
       "Foundations of Software           6.607539\n",
       "Information Security - SP         0.000000\n",
       "Internet computing                6.161517\n",
       "Service science                   4.242641\n",
       "Signals, Images and Interfaces    6.572671\n",
       "Software Systems                  3.162278\n",
       "Without Specialisation            5.904876\n",
       "Name: Nbre mois, dtype: float64"
      ]
     },
     "execution_count": 55,
     "metadata": {},
     "output_type": "execute_result"
    }
   ],
   "source": [
    "frameMa.groupby('Specialisation')['Nbre mois'].std()"
   ]
  },
  {
   "cell_type": "code",
   "execution_count": 56,
   "metadata": {
    "collapsed": false
   },
   "outputs": [
    {
     "data": {
      "text/plain": [
       "24.53846153846154"
      ]
     },
     "execution_count": 56,
     "metadata": {},
     "output_type": "execute_result"
    }
   ],
   "source": [
    "frameMa['Nbre mois'].mean()"
   ]
  },
  {
   "cell_type": "code",
   "execution_count": 57,
   "metadata": {
    "collapsed": false
   },
   "outputs": [
    {
     "data": {
      "text/plain": [
       "6.2729612795881149"
      ]
     },
     "execution_count": 57,
     "metadata": {},
     "output_type": "execute_result"
    }
   ],
   "source": [
    "frameMa['Nbre mois'].std()"
   ]
  },
  {
   "cell_type": "code",
   "execution_count": 58,
   "metadata": {
    "collapsed": false
   },
   "outputs": [
    {
     "data": {
      "text/plain": [
       "37.084384097637766"
      ]
     },
     "execution_count": 58,
     "metadata": {},
     "output_type": "execute_result"
    }
   ],
   "source": [
    "frameMa['Nbre mois'].mean()+2*frameMa['Nbre mois'].std()"
   ]
  },
  {
   "cell_type": "code",
   "execution_count": 59,
   "metadata": {
    "collapsed": false
   },
   "outputs": [
    {
     "data": {
      "text/plain": [
       "11.99253897928531"
      ]
     },
     "execution_count": 59,
     "metadata": {},
     "output_type": "execute_result"
    }
   ],
   "source": [
    "frameMa['Nbre mois'].mean()-2*frameMa['Nbre mois'].std()"
   ]
  },
  {
   "cell_type": "markdown",
   "metadata": {},
   "source": [
    "# Exercice 3"
   ]
  },
  {
   "cell_type": "code",
   "execution_count": 60,
   "metadata": {
    "collapsed": false
   },
   "outputs": [],
   "source": [
    "import matplotlib.pyplot as plt\n",
    "import seaborn as sns"
   ]
  },
  {
   "cell_type": "code",
   "execution_count": 61,
   "metadata": {
    "collapsed": false
   },
   "outputs": [],
   "source": [
    "timeEvol = frameMa.groupby(['First M1','Gender'])['Nbre mois'].mean()"
   ]
  },
  {
   "cell_type": "code",
   "execution_count": 62,
   "metadata": {
    "collapsed": false
   },
   "outputs": [],
   "source": [
    "timeEvol=timeEvol.to_frame()"
   ]
  },
  {
   "cell_type": "code",
   "execution_count": 63,
   "metadata": {
    "collapsed": true
   },
   "outputs": [],
   "source": [
    "timeEvol.reset_index(inplace=True)"
   ]
  },
  {
   "cell_type": "markdown",
   "metadata": {},
   "source": [
    "- Dataframes : mean number of months for each gender per year."
   ]
  },
  {
   "cell_type": "code",
   "execution_count": 67,
   "metadata": {
    "collapsed": false
   },
   "outputs": [
    {
     "data": {
      "text/html": [
       "<div>\n",
       "<table border=\"1\" class=\"dataframe\">\n",
       "  <thead>\n",
       "    <tr style=\"text-align: right;\">\n",
       "      <th>Gender</th>\n",
       "      <th>Madame</th>\n",
       "      <th>Monsieur</th>\n",
       "    </tr>\n",
       "    <tr>\n",
       "      <th>First M1</th>\n",
       "      <th></th>\n",
       "      <th></th>\n",
       "    </tr>\n",
       "  </thead>\n",
       "  <tbody>\n",
       "    <tr>\n",
       "      <th>2007</th>\n",
       "      <td>19.200000</td>\n",
       "      <td>19.672131</td>\n",
       "    </tr>\n",
       "    <tr>\n",
       "      <th>2008</th>\n",
       "      <td>24.000000</td>\n",
       "      <td>22.352941</td>\n",
       "    </tr>\n",
       "    <tr>\n",
       "      <th>2009</th>\n",
       "      <td>22.500000</td>\n",
       "      <td>24.954545</td>\n",
       "    </tr>\n",
       "    <tr>\n",
       "      <th>2010</th>\n",
       "      <td>27.230769</td>\n",
       "      <td>24.600000</td>\n",
       "    </tr>\n",
       "    <tr>\n",
       "      <th>2011</th>\n",
       "      <td>25.058824</td>\n",
       "      <td>25.769231</td>\n",
       "    </tr>\n",
       "    <tr>\n",
       "      <th>2012</th>\n",
       "      <td>25.846154</td>\n",
       "      <td>26.333333</td>\n",
       "    </tr>\n",
       "    <tr>\n",
       "      <th>2013</th>\n",
       "      <td>25.200000</td>\n",
       "      <td>25.500000</td>\n",
       "    </tr>\n",
       "    <tr>\n",
       "      <th>2014</th>\n",
       "      <td>25.333333</td>\n",
       "      <td>25.521127</td>\n",
       "    </tr>\n",
       "  </tbody>\n",
       "</table>\n",
       "</div>"
      ],
      "text/plain": [
       "Gender       Madame   Monsieur\n",
       "First M1                      \n",
       "2007      19.200000  19.672131\n",
       "2008      24.000000  22.352941\n",
       "2009      22.500000  24.954545\n",
       "2010      27.230769  24.600000\n",
       "2011      25.058824  25.769231\n",
       "2012      25.846154  26.333333\n",
       "2013      25.200000  25.500000\n",
       "2014      25.333333  25.521127"
      ]
     },
     "execution_count": 67,
     "metadata": {},
     "output_type": "execute_result"
    }
   ],
   "source": [
    "timeEvol.pivot(index='First M1',columns='Gender',values='Nbre mois')"
   ]
  },
  {
   "cell_type": "code",
   "execution_count": 65,
   "metadata": {
    "collapsed": false
   },
   "outputs": [],
   "source": [
    "timeEvol=timeEvol.reindex()"
   ]
  },
  {
   "cell_type": "code",
   "execution_count": 66,
   "metadata": {
    "collapsed": false
   },
   "outputs": [
    {
     "data": {
      "text/plain": [
       "<seaborn.axisgrid.FacetGrid at 0x109977ef0>"
      ]
     },
     "execution_count": 66,
     "metadata": {},
     "output_type": "execute_result"
    },
    {
     "data": {
      "image/png": "[encoded data removed]",
      "text/plain": [
       "<matplotlib.figure.Figure at 0x1099773c8>"
      ]
     },
     "metadata": {},
     "output_type": "display_data"
    }
   ],
   "source": [
    "sns.set_context('notebook')\n",
    "sns.set_style('ticks')\n",
    "sns.lmplot('First M1','Nbre mois',data=timeEvol,fit_reg=False,hue='Gender')"
   ]
  },
  {
   "cell_type": "markdown",
   "metadata": {
    "collapsed": true
   },
   "source": [
    "- Here, you can find the scatter plot of the number of months for males and females : we notice that there is a general trend for both males and females. In fact, students take more time to finish their master from 2007 to 2017.\n",
    "- Also, we notice that males and females tend to get closer in the number of month to complete the master.\n",
    "- However, the number of females remains relatively too small to make any conclusion."
   ]
  }
 ],
 "metadata": {
  "anaconda-cloud": {},
  "kernelspec": {
   "display_name": "Python 3",
   "language": "python",
   "name": "python3"
  },
  "language_info": {
   "codemirror_mode": {
    "name": "ipython",
    "version": 3
   },
   "file_extension": ".py",
   "mimetype": "text/x-python",
   "name": "python",
   "nbconvert_exporter": "python",
   "pygments_lexer": "ipython3",
   "version": "3.5.2"
  }
 },
 "nbformat": 4,
 "nbformat_minor": 1
}
